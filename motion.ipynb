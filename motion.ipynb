{
 "cells": [
  {
   "cell_type": "code",
   "execution_count": 4,
   "id": "6f0a4d7b-1b7e-4054-a8e2-651db4a8e456",
   "metadata": {},
   "outputs": [
    {
     "name": "stdout",
     "output_type": "stream",
     "text": [
      "[[       inf 1.41421356 2.82842712]\n",
      " [1.41421356        inf 1.41421356]\n",
      " [2.82842712 1.41421356        inf]]\n"
     ]
    }
   ],
   "source": [
    "import numpy as np\n",
    "\n",
    "\n",
    "import numpy as np\n",
    "from scipy.spatial.distance import pdist, squareform\n",
    "\n",
    "def calculate_distances(array):\n",
    "    \"\"\"\n",
    "    Calculate pairwise distances between all points in a 2D array excluding distances of points with themselves.\n",
    "\n",
    "    Parameters:\n",
    "    - array: 2D NumPy array\n",
    "\n",
    "    Returns:\n",
    "    - distances: 2D NumPy array containing pairwise distances (excluding distances of points with themselves)\n",
    "    \"\"\"\n",
    "    # Reshape the 2D array to a 1D array of points\n",
    "    points = array.reshape(-1, 2)\n",
    "\n",
    "    # Use pdist to calculate pairwise distances\n",
    "    distances_flat = pdist(points)\n",
    "\n",
    "    # Convert the flat distances to a square matrix\n",
    "    distances = squareform(distances_flat)\n",
    "\n",
    "    # Set distances of points with themselves to a placeholder value (e.g., np.inf)\n",
    "    np.fill_diagonal(distances, np.inf)\n",
    "\n",
    "    return distances\n",
    "\n",
    "# Example usage:\n",
    "array = np.array([[0, 0], [1, 1], [2, 2]])\n",
    "\n",
    "distances = calculate_distances(array)\n",
    "print(distances)"
   ]
  },
  {
   "cell_type": "code",
   "execution_count": 1,
   "id": "054916a6-70a2-4b8e-98a1-6532557ff777",
   "metadata": {},
   "outputs": [
    {
     "name": "stdout",
     "output_type": "stream",
     "text": [
      "Distance: 6.082762530298219 degrees: -80.53767779197439\n"
     ]
    },
    {
     "data": {
      "text/plain": [
       "(6.082762530298219, -80.53767779197439)"
      ]
     },
     "execution_count": 1,
     "metadata": {},
     "output_type": "execute_result"
    }
   ],
   "source": [
    "import math\n",
    "\n",
    "def compute_movement(current_pos, obj):\n",
    "    # Extracting coordinates from current_pos and obj\n",
    "    current_x, current_y = current_pos\n",
    "    obj_x, obj_y = obj\n",
    "\n",
    "    # Calculate distance between current position and the target object\n",
    "    distance = math.sqrt((obj_x - current_x)**2 + (obj_y - current_y)**2)\n",
    "\n",
    "    # Calculate angle in radians\n",
    "    angle_radians = math.atan2(obj_y - current_y, obj_x - current_x)\n",
    "\n",
    "    # Convert angle to degrees\n",
    "    angle_degrees = math.degrees(angle_radians)\n",
    "\n",
    "    \n",
    "    print(f\"Distance: {distance}\", f\"degrees: {angle_degrees}\")\n",
    "    return distance, angle_degrees\n",
    "    \n",
    "\n",
    "# Example usage\n",
    "compute_movement([0, 0], [1, -6])\n",
    "    \n",
    "\n",
    "    "
   ]
  },
  {
   "cell_type": "code",
   "execution_count": 31,
   "id": "510b0b86-46a2-4f5e-a76b-a666cc8b8775",
   "metadata": {},
   "outputs": [
    {
     "name": "stdout",
     "output_type": "stream",
     "text": [
      "Distance: 14.142135623730951 degrees: 45.0\n",
      "seconds : 0.6505382386916237\n",
      "Elapsed time: 0.0000 seconds\n",
      "Elapsed time: 0.5150 seconds\n"
     ]
    }
   ],
   "source": [
    "from tdmclient import ClientAsync, aw\n",
    "client = ClientAsync()\n",
    "node = await client.wait_for_node()\n",
    "await node.lock()\n",
    "import time\n",
    "import numpy as np\n",
    "SPEED = 50\n",
    "#--- one cell\n",
    "import asyncio\n",
    "thymio_speed_to_mms = 21.73913043478261/50 ##TO FIND THE MM/s speed, divide motors_speed by this, thix value has to be tuned for each thymio\n",
    "async def drive_for_seconds(client, seconds):\n",
    "    # Set the motor speeds\n",
    "    v = {\n",
    "        \"motor.left.target\": [int(SPEED)],\n",
    "        \"motor.right.target\": [int(SPEED)],\n",
    "    }\n",
    "    await node.set_variables(v)\n",
    "    await asyncio.sleep(seconds)\n",
    "\n",
    "    # Stop the motors\n",
    "    v_stop = {\n",
    "        \"motor.left.target\": [int(0)],\n",
    "        \"motor.right.target\": [int(0)],\n",
    "    }\n",
    "    await node.set_variables(v_stop)\n",
    "async def rotate_for_seconds(client, seconds, degrees):\n",
    "    if degrees >=0:\n",
    "        v = {\n",
    "            \"motor.left.target\": [int(SPEED)],\n",
    "            \"motor.right.target\": [-int(SPEED)],\n",
    "        }\n",
    "        await node.set_variables(v)\n",
    "        await asyncio.sleep(seconds)\n",
    "    \n",
    "        # Stop the motors\n",
    "        v_stop = {\n",
    "            \"motor.left.target\": [int(0)],\n",
    "            \"motor.right.target\": [int(0)],\n",
    "        }\n",
    "        await node.set_variables(v_stop)\n",
    "    else:\n",
    "        v = {\n",
    "            \"motor.left.target\": [-int(SPEED)],\n",
    "            \"motor.right.target\": [int(SPEED)],\n",
    "        }\n",
    "        await node.set_variables(v)\n",
    "        await asyncio.sleep(seconds)\n",
    "    \n",
    "        # Stop the motors\n",
    "        v_stop = {\n",
    "            \"motor.left.target\": [int(0)],\n",
    "            \"motor.right.target\": [int(0)],\n",
    "        }\n",
    "        await node.set_variables(v_stop)\n",
    "\n",
    "    \n",
    "async def print_elapsed_time(seconds, interval=0.5):\n",
    "    start_time = time.monotonic()\n",
    "    while True:\n",
    "        elapsed = time.monotonic() - start_time\n",
    "        if elapsed > seconds:\n",
    "            break\n",
    "        print(f\"Elapsed time: {elapsed:.4f} seconds\")\n",
    "        await asyncio.sleep(interval)\n",
    "\n",
    "async def main():    \n",
    "    # Start the driving and printing tasks\n",
    "    \n",
    "    dist, angle = compute_movement([0,0], [10,10])\n",
    "    secondstodrive = dist/(SPEED*thymio_speed_to_mms)# dist*thymio_speed_to_mms/SPEED\n",
    "    print(f\"seconds :\", secondstodrive)\n",
    "    #secondstorotate = SPEED*thymio_speed_to_mms/angle\n",
    "    if angle != 0:\n",
    "        \n",
    "        disttorotate = angle*12.002/253.3\n",
    "        secondstorotate = disttorotate/(SPEED*thymio_speed_to_mms)\n",
    "        rotate_task = asyncio.create_task(rotate_for_seconds(client, disttorotate, np.sign(angle)))\n",
    "        await rotate_task\n",
    "    drive_task = asyncio.create_task(drive_for_seconds(client, secondstodrive))\n",
    "    \n",
    "    print_task = asyncio.create_task(print_elapsed_time(secondstodrive))\n",
    "    \n",
    "    # Wait for both tasks to complete\n",
    "    await drive_task\n",
    "    \n",
    "    await print_task\n",
    "    \n",
    "await main()\n",
    "await node.unlock()"
   ]
  },
  {
   "cell_type": "markdown",
   "id": "faa997ce-a496-4173-8346-324cf7ec5c44",
   "metadata": {},
   "source": [
    "Quick explaination on how we computed the seconds required to rotate of x degrees\n",
    "\n",
    "\n",
    "You can use the following formula to calculate the number of rotations \\(T\\) required for one complete rotation:\n",
    "$$T = \\frac{L}{\\pi \\times D} $$\n",
    "We measured L = 9.5cm (distance between wheels) and D = 4.3 cm (wheel diameter)\n",
    "we want to know the number of degrees the wheels will turn for the vehicle to complete one full rotation, we can use the formula:\n",
    "$$\\text{Number of degrees} = T \\times 360 $$\n",
    "\n",
    "Substitute the value of \\(T\\) from the previous formula:\n",
    "$$\\text{Number of degrees} = \\frac{L}{\\pi \\times D} \\times 360 = 253.2958$$\n",
    "\n",
    "Then from this we can compute the required distance to travel for a given wanted rotation: \n",
    "$$\\frac{253.3}{4.3*\\pi} = \\frac{wanted rotation°}{distance} \\implies distance = \\frac{\\text{wanted rotation°} \\times 4.3 \\pi}{253.3}$$\n",
    "From which we compute the seconds required:\n",
    "$$\\text{Seconds of rotation} =  \\frac{distance}{SPEED \\times conversionfactor}$$\n"
   ]
  },
  {
   "cell_type": "code",
   "execution_count": null,
   "id": "5ab298e2-ded8-407f-a856-6507b1bbbc92",
   "metadata": {},
   "outputs": [],
   "source": []
  }
 ],
 "metadata": {
  "kernelspec": {
   "display_name": "Python 3 (ipykernel)",
   "language": "python",
   "name": "python3"
  },
  "language_info": {
   "codemirror_mode": {
    "name": "ipython",
    "version": 3
   },
   "file_extension": ".py",
   "mimetype": "text/x-python",
   "name": "python",
   "nbconvert_exporter": "python",
   "pygments_lexer": "ipython3",
   "version": "3.11.2"
  }
 },
 "nbformat": 4,
 "nbformat_minor": 5
}
