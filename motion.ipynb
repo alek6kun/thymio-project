{
 "cells": [
  {
   "cell_type": "code",
   "execution_count": 1,
   "id": "054916a6-70a2-4b8e-98a1-6532557ff777",
   "metadata": {},
   "outputs": [
    {
     "name": "stdout",
     "output_type": "stream",
     "text": [
      "Distance: 1.4142135623730951 degrees: 135.0\n"
     ]
    },
    {
     "data": {
      "text/plain": [
       "(1.4142135623730951, 135.0)"
      ]
     },
     "execution_count": 1,
     "metadata": {},
     "output_type": "execute_result"
    }
   ],
   "source": [
    "import math\n",
    "\n",
    "def compute_movement(current_pos, obj, current_angle_deg): \n",
    "    # current_angle_deg = angle between thymio front axis and x-axis\n",
    "    # Extracting coordinates from current_pos and obj\n",
    "    current_x, current_y = current_pos\n",
    "    obj_x, obj_y = obj\n",
    "\n",
    "    # Calculate distance between current position and the target object\n",
    "    distance = math.sqrt((obj_x - current_x)**2 + (obj_y - current_y)**2)\n",
    "\n",
    "    # Calculate angle in radians\n",
    "    angle_radians = math.atan2(obj_y - current_y, obj_x - current_x)\n",
    "    #angle_radians = math.atan2(obj_y , obj_x)\n",
    "    #if (obj_y - current_y) <0 and obj_x - current_x < 0:£\n",
    "    #    angle_radians = -angle_radians\n",
    "    #print(obj_y - current_y)\n",
    "    #print(obj_x - current_x)\n",
    "\n",
    "    # Convert angle to degrees\n",
    "    angle_degrees = math.degrees(angle_radians) - current_angle_deg\n",
    "\n",
    "\n",
    "    \n",
    "    print(f\"Distance: {distance}\", f\"degrees: {angle_degrees}\")\n",
    "    return distance, angle_degrees\n",
    "    \n",
    "\n",
    "# Example usage\n",
    "compute_movement([0, 0], [1, 1], -90)\n",
    "    \n",
    "\n",
    "    "
   ]
  },
  {
   "cell_type": "code",
   "execution_count": 2,
   "id": "9b3e545a-d0c8-4111-bddf-2a494f2872a9",
   "metadata": {},
   "outputs": [],
   "source": [
    "#USED TO CHECK FOR COLLISION AT REGULAR INTERVALS, Source : ex week 8\n",
    "from threading import Timer\n",
    "\n",
    "class RepeatedTimer(object):\n",
    "    def __init__(self, interval, function, *args, **kwargs):\n",
    "        self._timer     = None\n",
    "        self.interval   = interval\n",
    "        self.function   = function\n",
    "        self.args       = args\n",
    "        self.kwargs     = kwargs\n",
    "        self.is_running = False\n",
    "        self.start()\n",
    "\n",
    "    def _run(self):\n",
    "        self.is_running = False\n",
    "        self.start()\n",
    "        self.function(*self.args, **self.kwargs)\n",
    "\n",
    "    def start(self):\n",
    "        if not self.is_running:\n",
    "            self._timer = Timer(self.interval, self._run)\n",
    "            self._timer.start()\n",
    "            self.is_running = True\n",
    "\n",
    "    def stop(self):\n",
    "        self._timer.cancel()\n",
    "        self.is_running = False"
   ]
  },
  {
   "cell_type": "code",
   "execution_count": 3,
   "id": "510b0b86-46a2-4f5e-a76b-a666cc8b8775",
   "metadata": {},
   "outputs": [],
   "source": [
    "from tdmclient import ClientAsync, aw\n",
    "\n",
    "import time\n",
    "import numpy as np\n",
    "import asyncio\n",
    "Ts = 0.1\n",
    "SPEED = 100\n",
    "SEUIL_OBSTACLE = 100\n",
    "SEUIL_KIDNAPPED = 100\n",
    "#VALUES THAT NEED TO BE TUNED BEGIN: \n",
    "##We add correction factors to tune the speed symmetry\n",
    "SPEED_LEFT = SPEED +1 \n",
    "SPEED_RIGHT = SPEED\n",
    "\n",
    "thymio_speed_to_mms = 19.73913043478261/50 ##TO FIND THE MM/s speed, divide motors_speed by this, thix value has to be tuned for each thymio\n",
    "rotation_factor = 110*np.pi/360 \n",
    "#VALUES TO BE TUNED END\n",
    "\n",
    "#Global variables\n",
    "obstacle_detected = 0\n",
    "goal_reached = 0\n",
    "kidnapped = 0\n",
    "def get_horizontal():\n",
    "    global obstacle_detected, kidnapped, rotation_done\n",
    "    prox_values = node[\"prox.horizontal\"][:5]\n",
    "    #print(list(prox_values))\n",
    "    if obstacle_detected ==0 and rotation_done == 1:\n",
    "        obstacle_detected = any(value > SEUIL_OBSTACLE for value in prox_values)\n",
    "        if obstacle_detected:\n",
    "            rotation_done = 0\n",
    "    ground_values = node[\"prox.ground.reflected\"]\n",
    "    #print(list(ground_values))\n",
    "    \n",
    "    if ground_values[0] < SEUIL_KIDNAPPED or ground_values[1] < SEUIL_KIDNAPPED:\n",
    "        kidnapped = True \n",
    "        print(f\"kidnapped\")\n",
    "    else:\n",
    "        kidnapped = False\n",
    "    \n",
    "\n",
    "   \n",
    "async def drive(): \n",
    "    v = {\n",
    "        \"motor.left.target\": [int(SPEED_LEFT)],\n",
    "        \"motor.right.target\": [int(SPEED_RIGHT)],\n",
    "    }\n",
    "    await node.set_variables(v)\n",
    "async def stop(): \n",
    "    v = {\n",
    "        \"motor.left.target\": [0],\n",
    "        \"motor.right.target\": [0],\n",
    "    }\n",
    "    await node.set_variables(v)\n",
    "#Adapted from moodle forum thread : \n",
    "async def drive_for_seconds(client, seconds):\n",
    "#just drives straight for given seconds\n",
    "# input: async client, seconds\n",
    "    global obstacle_detected, kidnapped\n",
    "    await node.wait_for_variables()\n",
    "    rt = RepeatedTimer(Ts, get_horizontal)\n",
    "    # Set the motor speeds\n",
    "    v = {\n",
    "        \"motor.left.target\": [int(SPEED_LEFT)],\n",
    "        \"motor.right.target\": [int(SPEED_RIGHT)],\n",
    "    }\n",
    "    await node.set_variables(v)\n",
    "    start_time = time.monotonic()\n",
    "    while time.monotonic() - start_time < seconds:\n",
    "        await node.wait_for_variables({\"prox.horizontal\"})\n",
    "        \n",
    "        #get_horizontal()\n",
    "        await client.sleep(0.01)\n",
    "        if obstacle_detected:\n",
    "            # Si un obstacle est détecté, arrêtez les moteurs\n",
    "            v_stop = {\n",
    "                \"motor.left.target\": [int(0)],\n",
    "                \"motor.right.target\": [int(0)],\n",
    "            }\n",
    "            await node.set_variables(v_stop)\n",
    "    \n",
    "            #obstacle_detected = False  # Réinitialisez la variable d'obstacle détecté\n",
    "            rt.stop()\n",
    "            break  # Sortez de la boucle si un obstacle est détecté\n",
    "        await asyncio.sleep(Ts)\n",
    "\n",
    "    # Stop the motors\n",
    "    v_stop = {\n",
    "        \"motor.left.target\": [int(0)],\n",
    "        \"motor.right.target\": [int(0)],\n",
    "    }\n",
    "    rt.stop()\n",
    "    await node.set_variables(v_stop)\n",
    "async def rotate_for_seconds(client, seconds, degrees):\n",
    "##Rotates during a number of seconds\n",
    "##input : async client, number of seconds, degrees (used to know if he turns clockwise or counter-clockwise\n",
    "    global obstacle_detected\n",
    "    await node.wait_for_variables()\n",
    "    rt2 = RepeatedTimer(Ts, get_horizontal)\n",
    "    if degrees <=0:\n",
    "        v = {\n",
    "            \"motor.left.target\": [int(-SPEED_LEFT)],\n",
    "            \"motor.right.target\": [int(SPEED_RIGHT)],\n",
    "        }\n",
    "        await node.set_variables(v)\n",
    "        start_time = time.monotonic()\n",
    "        while time.monotonic() - start_time < seconds:\n",
    "            await node.wait_for_variables({\"prox.horizontal\"})\n",
    "        \n",
    "            await client.sleep(0.01)\n",
    "            if obstacle_detected or kidnapped:\n",
    "                # Si un obstacle est détecté, arrêtez les moteurs\n",
    "                v_stop = {\n",
    "                    \"motor.left.target\": [int(0)],\n",
    "                    \"motor.right.target\": [int(0)],\n",
    "                }\n",
    "                await node.set_variables(v_stop)\n",
    "                \n",
    "                ##obstacle_detected = False  # Réinitialisez la variable d'obstacle détecté\n",
    "                print(f\"obstacle detected\")\n",
    "                break  # Sortez de la boucle si un obstacle est détecté\n",
    "            await asyncio.sleep(Ts)\n",
    "    \n",
    "        # Stop the motors\n",
    "        v_stop = {\n",
    "            \"motor.left.target\": [int(0)],\n",
    "            \"motor.right.target\": [int(0)],\n",
    "        }\n",
    "        rt2.stop()\n",
    "        await node.set_variables(v_stop)\n",
    "    else:\n",
    "        v = {\n",
    "            \"motor.left.target\": [int(SPEED_LEFT)],\n",
    "            \"motor.right.target\": [int(-SPEED_RIGHT)],\n",
    "        }\n",
    "        await node.set_variables(v)\n",
    "        start_time = time.monotonic()\n",
    "        while time.monotonic() - start_time < seconds:\n",
    "            await node.wait_for_variables({\"prox.horizontal\"})\n",
    "        \n",
    "            #get_horizontal()\n",
    "            await client.sleep(0.001)\n",
    "            if obstacle_detected or kidnapped:\n",
    "                # Si un obstacle est détecté, arrêtez les moteurs\n",
    "                v_stop = {\n",
    "                    \"motor.left.target\": [int(0)],\n",
    "                    \"motor.right.target\": [int(0)],\n",
    "                }\n",
    "                await node.set_variables(v_stop)\n",
    "                \n",
    "                ##obstacle_detected = False  # Réinitialisez la variable d'obstacle détecté\n",
    "                break  # Sortez de la boucle si un obstacle est détecté\n",
    "            #await asyncio.sleep(Ts)\n",
    "    \n",
    "        # Stop the motors\n",
    "        v_stop = {\n",
    "            \"motor.left.target\": [int(0)],\n",
    "            \"motor.right.target\": [int(0)],\n",
    "        }\n",
    "        rt2.stop()\n",
    "        await node.set_variables(v_stop)\n",
    "async def rotate_angle(angle):\n",
    "     global rotation_done\n",
    "     if angle!= 0:\n",
    "        disttorotate = abs(angle*rotation_factor)\n",
    "        secondstorotate = disttorotate/(SPEED*thymio_speed_to_mms)\n",
    "        rotate_task = asyncio.create_task(rotate_for_seconds(client, secondstorotate, np.sign(angle)))\n",
    "        await rotate_task\n",
    "        rotation_done = 1\n",
    "         \n",
    "    \n",
    "async def print_elapsed_time(seconds, interval=0.5):\n",
    "##Testing function to know elapsed-time, no practical use apart from calibration, to delete later\n",
    "    start_time = time.monotonic()\n",
    "    while True:\n",
    "        elapsed = time.monotonic() - start_time\n",
    "        if elapsed > seconds:\n",
    "            break\n",
    "        print(f\"Elapsed time: {elapsed:.4f} seconds\")\n",
    "        await asyncio.sleep(interval)\n",
    "async def road_trip(nodes_to_visit, current_pos, initial_angle):\n",
    "##Makes the robot visit nodes one after another\n",
    "## input: nodes_to_visit:list of nodes containing [x,y] coordinates, \n",
    "##        current_pos : [x,y] coordinates of current position, \n",
    "##        initial_angle : current angle between thymio sagittal axis and x-axis\n",
    "    global obstacle_detected, goal_reached\n",
    "    previous_angle = 0;\n",
    "    for i in range(len(nodes_to_visit)):\n",
    "        if obstacle_detected or kidnapped: \n",
    "            break\n",
    "        else: \n",
    "            if i == 0:\n",
    "             dist, angle = compute_movement(current_pos, nodes_to_visit[i], initial_angle)\n",
    "             previous_angle = angle + initial_angle\n",
    "            else: \n",
    "             dist, angle = compute_movement(nodes_to_visit[i-1], nodes_to_visit[i], previous_angle)\n",
    "             previous_angle = angle + previous_angle\n",
    "            await go_to(dist, angle)\n",
    "            if i == len(nodes_to_visit)-1:\n",
    "                goal_reached = True\n",
    "                print(f\"goal_reached\")\n",
    "        \n",
    "    \n",
    "    \n",
    "async def go_to(dist, angle):\n",
    "## Makes the thymio rotate of given angle, then go straight for distance dist, only meant to be used through road_trip function\n",
    "## Input: dist : distance to travel in mm\n",
    "##        angle : angle to rotate before going forward\n",
    "\n",
    "    secondstodrive = dist/(SPEED*thymio_speed_to_mms)\n",
    "    if angle!= 0:\n",
    "        disttorotate = abs(angle*rotation_factor)\n",
    "        secondstorotate = disttorotate/(SPEED*thymio_speed_to_mms)\n",
    "        rotate_task = asyncio.create_task(rotate_for_seconds(client, secondstorotate, np.sign(angle)))\n",
    "        await rotate_task\n",
    "    \n",
    "    drive_task = asyncio.create_task(drive_for_seconds(client, secondstodrive))\n",
    "    \n",
    "    #print_task = asyncio.create_task(print_elapsed_time(secondstodrive))\n",
    "    \n",
    "    # Wait for both tasks to complete\n",
    "    await drive_task\n",
    "    \n",
    "    #await print_task\n",
    "\n",
    "def close_coordinates(x, y, w, z, tolerance):\n",
    "    distance = math.sqrt((w - x)**2 + (z - y)**2)\n",
    "    return distance <= tolerance"
   ]
  },
  {
   "cell_type": "code",
   "execution_count": null,
   "id": "3a7bce5d-5411-4697-b4c8-b9db4e36f476",
   "metadata": {},
   "outputs": [],
   "source": []
  },
  {
   "cell_type": "markdown",
   "id": "7d862c56-2675-4a6a-9c95-633ec2f3aefe",
   "metadata": {},
   "source": [
    "## Example main program, all these lines are necessary\n",
    "### This implementation will not be in the final project, to delete later"
   ]
  },
  {
   "cell_type": "code",
   "execution_count": null,
   "id": "9cd58d3b-c7a0-432b-aa9c-078f0e35ea99",
   "metadata": {
    "scrolled": true
   },
   "outputs": [],
   "source": [
    "from tdmclient import ClientAsync, aw\n",
    "#from ComputerVision import Vision\n",
    "import time\n",
    "import cv2\n",
    "#vis = Vision()\n",
    "client = ClientAsync()\n",
    "node = await client.wait_for_node()\n",
    "await node.lock()\n",
    "rotation_done = 1\n",
    "#Define the trip the robot has to make here : \n",
    "trip = ([0,100],[200,100], [200,300],[300,300], [300,0], [0,0])\n",
    "trip2 = ([0,100], [0,200])\n",
    "trip3 = ([100,0],[100,100],[0,0])\n",
    "async def main():    \n",
    "    global goal_reached, obstacle_detected\n",
    "    while not goal_reached : \n",
    "        \n",
    " \n",
    "        #vis.update()\n",
    "        #trip = vis.find_shortest_path()\n",
    "        await road_trip(trip3, [0,0], 360)\n",
    "        if(obstacle_detected ): \n",
    "            await client.sleep(1)\n",
    "            print(f\"REPLANNING due to obstacle\")\n",
    "            obstacle_detected = False\n",
    "            #vis.update()\n",
    "            #trip = vis.find_shortest_path()\n",
    "        #await road_trip(trip2, [vis.robot.x,vis.robot.y], vis.robot.angle)\n",
    "        while kidnapped : \n",
    "            await client.sleep(1)\n",
    "            get_horizontal()\n",
    "            if kidnapped == 0:\n",
    "                await client.sleep(1)\n",
    "                print(f\"REPLANNING due to kidnapping\")\n",
    "                #vis.update()\n",
    "                #trip = vis.find_shortest_path() \n",
    "await main()\n",
    "obstacle_detected = 0\n",
    "goal_reached = 0\n",
    "kidnapped = 0\n",
    "await node.unlock()"
   ]
  },
  {
   "cell_type": "markdown",
   "id": "faa997ce-a496-4173-8346-324cf7ec5c44",
   "metadata": {},
   "source": [
    "Quick explaination on how we computed the seconds required to rotate of x degrees\n",
    "\n",
    "\n",
    "You can use the following formula to calculate the number of wheel rotations \\(T\\) required for one complete rotation:\n",
    "$$T = \\frac{\\pi \\times L}{\\pi \\times D} $$\n",
    "We measured L = 9.5cm (distance between wheels) and D = 4.2 cm (wheel diameter), but this value is meant to be tuned\n",
    "we want to know the number of degrees the wheels will turn for the vehicle to complete one full rotation, we can use the formula:\n",
    "$$\\text{Number of degrees} = T \\times 360 $$\n",
    "\n",
    "Substitute the value of \\(T\\) from the previous formula:\n",
    "$$\\text{Number of degrees} = \\frac{L}{D} \\times 360 = 814.286$$\n",
    "\n",
    "Then from this we can compute the required distance to travel for a given wanted rotation: \n",
    "$$\\frac{814.286}{95*\\pi} = \\frac{wanted rotation°}{distance} \\implies distance = \\frac{\\text{wanted rotation°} \\times 95 \\pi}{814.286}$$\n",
    "From which we compute the seconds required:\n",
    "$$\\text{Seconds of rotation} =  \\frac{distance}{SPEED \\times conversionfactor}$$\n",
    "In practice, the values L and D have to be tuned.\n"
   ]
  },
  {
   "cell_type": "markdown",
   "id": "e3ba7031-b457-435d-8f67-57580168c34c",
   "metadata": {},
   "source": [
    "How I see it: \n",
    "Initially, we get the robot's pose and angle\n",
    "We obtain the desired path\n",
    "The robot orients itself, then moves towards the target.\n",
    "Every few seconds, we re-measure the robot's position, apply the kalman filter and recalculate the angle it should make (correct its trajectory).\n",
    "this means: just orient it and make it go to the desired node.\n",
    "If the robot's x and y estimates are within a few cm of the node's, then we change our objective.\n",
    "etc etc. \n",
    "And when the robot is kidnapped: we wait to see it again, and then start all over again.\n",
    "If it detects an obstacle: we recalculate its trajectory, rotates till it does not see an obstacle anymore\n",
    "# Final main loop putting all things together"
   ]
  },
  {
   "cell_type": "code",
   "execution_count": null,
   "id": "d29c471b-7b38-4efa-8e4e-e31ee1c8aab1",
   "metadata": {},
   "outputs": [],
   "source": [
    "import tdmclient.notebook\n",
    "await tdmclient.notebook.start()"
   ]
  },
  {
   "cell_type": "code",
   "execution_count": 4,
   "id": "2203a5d6-2e3d-4e0b-ba6d-4015483ddbbf",
   "metadata": {},
   "outputs": [
    {
     "name": "stderr",
     "output_type": "stream",
     "text": [
      "100%|██████████| 1/1 [00:00<00:00, 332.85it/s]\n",
      "100%|██████████| 2/2 [00:00<00:00, 285.84it/s]\n",
      "100%|██████████| 2/2 [00:00<00:00, 400.37it/s]\n",
      "100%|██████████| 2/2 [00:00<00:00, 400.03it/s]\n",
      "100%|██████████| 2/2 [00:00<00:00, 250.16it/s]\n",
      "100%|██████████| 2/2 [00:00<00:00, 181.87it/s]\n",
      "100%|██████████| 1/1 [00:00<00:00, 330.89it/s]\n",
      "100%|██████████| 2/2 [00:00<00:00, 221.72it/s]\n",
      "100%|██████████| 2/2 [00:00<00:00, 181.94it/s]\n",
      "100%|██████████| 2/2 [00:00<00:00, 125.09it/s]\n",
      "100%|██████████| 2/2 [00:00<00:00, 199.91it/s]\n",
      "100%|██████████| 1/1 [00:00<00:00, 250.15it/s]\n",
      "100%|██████████| 1/1 [00:00<00:00, 166.49it/s]\n",
      "100%|██████████| 1/1 [00:00<00:00, 338.06it/s]\n",
      "100%|██████████| 1/1 [00:00<00:00, 500.22it/s]\n",
      "100%|██████████| 1/1 [00:00<00:00, 333.62it/s]\n",
      "100%|██████████| 2/2 [00:00<00:00, 153.94it/s]\n",
      "100%|██████████| 2/2 [00:00<00:00, 497.01it/s]\n",
      "100%|██████████| 2/2 [00:00<00:00, 284.84it/s]\n",
      "100%|██████████| 2/2 [00:00<00:00, 181.49it/s]\n",
      "100%|██████████| 1/1 [00:00<00:00, 500.51it/s]\n",
      "100%|██████████| 1/1 [00:00<00:00, 250.27it/s]\n",
      "100%|██████████| 2/2 [00:00<00:00, 333.46it/s]\n",
      "100%|██████████| 2/2 [00:00<00:00, 333.54it/s]\n",
      "100%|██████████| 2/2 [00:00<00:00, 200.13it/s]\n",
      "100%|██████████| 2/2 [00:00<00:00, 142.93it/s]\n",
      "100%|██████████| 2/2 [00:00<00:00, 166.77it/s]\n",
      "100%|██████████| 2/2 [00:00<00:00, 153.93it/s]\n",
      "100%|██████████| 1/1 [00:00<00:00, 200.17it/s]\n",
      "100%|██████████| 2/2 [00:00<00:00, 333.60it/s]\n",
      "100%|██████████| 1/1 [00:00<00:00, 248.51it/s]\n",
      "100%|██████████| 2/2 [00:00<00:00, 333.58it/s]\n",
      "100%|██████████| 2/2 [00:00<00:00, 166.77it/s]\n",
      "100%|██████████| 1/1 [00:00<00:00, 1002.94it/s]\n",
      "100%|██████████| 2/2 [00:00<00:00, 154.03it/s]\n",
      "100%|██████████| 2/2 [00:00<00:00, 286.84it/s]\n",
      "100%|██████████| 2/2 [00:00<00:00, 249.97it/s]\n",
      "100%|██████████| 2/2 [00:00<00:00, 285.79it/s]\n",
      "100%|██████████| 2/2 [00:00<00:00, 105.32it/s]\n",
      "100%|██████████| 2/2 [00:00<00:00, 222.40it/s]\n",
      "100%|██████████| 2/2 [00:00<00:00, 333.58it/s]\n"
     ]
    },
    {
     "name": "stdout",
     "output_type": "stream",
     "text": [
      "yes :  [[166 361]\n",
      " [201 181]]\n"
     ]
    },
    {
     "name": "stderr",
     "output_type": "stream",
     "text": [
      "100%|██████████| 1/1 [00:00<00:00, 200.06it/s]\n"
     ]
    },
    {
     "name": "stdout",
     "output_type": "stream",
     "text": [
      "Angle : -38.15722658736906\n",
      "Distance: 183.8620406718037 degrees: -117.18342549689592\n",
      "Robotx:  166.0 Roboty:  361.5 Robotangle:  -38.15722658736906\n",
      "Objective_pos  [201 181]\n",
      "obstacle detected\n"
     ]
    },
    {
     "name": "stderr",
     "output_type": "stream",
     "text": [
      "100%|██████████| 2/2 [00:00<00:00, 333.91it/s]\n"
     ]
    },
    {
     "name": "stdout",
     "output_type": "stream",
     "text": [
      "Angle : -38.15722658736906\n",
      "Distance: 183.8620406718037 degrees: -117.18342549689592\n",
      "Robotx:  166.0 Roboty:  361.5 Robotangle:  -38.15722658736906\n",
      "Objective_pos  [201 181]\n",
      "obstacle detected\n"
     ]
    },
    {
     "name": "stderr",
     "output_type": "stream",
     "text": [
      "100%|██████████| 2/2 [00:00<00:00, 249.36it/s]\n"
     ]
    },
    {
     "name": "stdout",
     "output_type": "stream",
     "text": [
      "Angle : 93.63295073948821\n",
      "Distance: 134.5929047164077 degrees: 5.7619250103627735\n",
      "Robotx:  196.0 Roboty:  315.5 Robotangle:  93.63295073948821\n",
      "Objective_pos  [201 181]\n"
     ]
    },
    {
     "name": "stderr",
     "output_type": "stream",
     "text": [
      "100%|██████████| 1/1 [00:00<00:00, 506.01it/s]\n"
     ]
    },
    {
     "name": "stdout",
     "output_type": "stream",
     "text": [
      "Angle : 88.18169703554817\n",
      "Distance: 127.56272966662324 degrees: -0.02137769175585902\n",
      "Robotx:  197.0 Roboty:  308.5 Robotangle:  88.18169703554817\n",
      "Objective_pos  [201 181]\n",
      "obstacle detected\n"
     ]
    },
    {
     "name": "stderr",
     "output_type": "stream",
     "text": [
      "100%|██████████| 1/1 [00:00<00:00, 250.09it/s]\n"
     ]
    },
    {
     "name": "stdout",
     "output_type": "stream",
     "text": [
      "Angle : 90.90938044919915\n",
      "Distance: 120.58399562130954 degrees: 3.0480630268654494\n",
      "Robotx:  196.5 Roboty:  301.5 Robotangle:  90.90938044919915\n",
      "Objective_pos  [201 181]\n",
      "Angle : 85.46222749209335\n",
      "Distance: 114.55348095976831 degrees: -2.786918321363814\n",
      "Robotx:  197.5 Roboty:  295.5 Robotangle:  85.46222749209335\n",
      "Objective_pos  [201 181]\n",
      "obstacle detected\n"
     ]
    },
    {
     "name": "stderr",
     "output_type": "stream",
     "text": [
      "100%|██████████| 1/1 [00:00<00:00, 333.70it/s]\n"
     ]
    },
    {
     "name": "stdout",
     "output_type": "stream",
     "text": [
      "Angle : 89.09061955080087\n",
      "Distance: 108.63931148529983 degrees: 1.9925300196845086\n",
      "Robotx:  195.5 Roboty:  289.5 Robotangle:  89.09061955080087\n",
      "Objective_pos  [201 181]\n"
     ]
    },
    {
     "name": "stderr",
     "output_type": "stream",
     "text": [
      "100%|██████████| 1/1 [00:00<00:00, 333.49it/s]\n"
     ]
    },
    {
     "name": "stdout",
     "output_type": "stream",
     "text": [
      "Angle : 86.30861401354873\n",
      "Distance: 102.12247548899312 degrees: -0.8850157346630283\n",
      "Robotx:  196.0 Roboty:  283.0 Robotangle:  86.30861401354873\n",
      "Objective_pos  [201 181]\n",
      "obstacle detected\n"
     ]
    },
    {
     "name": "stderr",
     "output_type": "stream",
     "text": [
      "100%|██████████| 1/1 [00:00<00:00, 500.16it/s]\n"
     ]
    },
    {
     "name": "stdout",
     "output_type": "stream",
     "text": [
      "Angle : 90.0\n",
      "Distance: 96.25487000666512 degrees: 4.170436524842103\n",
      "Robotx:  194.0 Roboty:  277.0 Robotangle:  90.0\n",
      "Objective_pos  [201 181]\n"
     ]
    },
    {
     "name": "stderr",
     "output_type": "stream",
     "text": [
      "100%|██████████| 1/1 [00:00<00:00, 493.62it/s]\n"
     ]
    },
    {
     "name": "stdout",
     "output_type": "stream",
     "text": [
      "Angle : 90.0\n",
      "Distance: 96.25487000666512 degrees: 4.170436524842103\n",
      "Robotx:  194.0 Roboty:  277.0 Robotangle:  90.0\n",
      "Objective_pos  [201 181]\n"
     ]
    },
    {
     "name": "stderr",
     "output_type": "stream",
     "text": [
      "100%|██████████| 1/1 [00:00<00:00, 166.75it/s]\n"
     ]
    },
    {
     "name": "stdout",
     "output_type": "stream",
     "text": [
      "Angle : 80.69005982501396\n",
      "Distance: 82.71789407377342 degrees: -5.150297881273403\n",
      "Robotx:  195.0 Roboty:  263.5 Robotangle:  80.69005982501396\n",
      "Objective_pos  [201 181]\n",
      "obstacle detected\n"
     ]
    },
    {
     "name": "stderr",
     "output_type": "stream",
     "text": [
      "100%|██████████| 1/1 [00:00<00:00, 222.40it/s]\n"
     ]
    },
    {
     "name": "stdout",
     "output_type": "stream",
     "text": [
      "Angle : 80.69005982501396\n",
      "Distance: 82.71789407377342 degrees: -5.150297881273403\n",
      "Robotx:  195.0 Roboty:  263.5 Robotangle:  80.69005982501396\n",
      "Objective_pos  [201 181]\n",
      "obstacle detected\n"
     ]
    },
    {
     "name": "stderr",
     "output_type": "stream",
     "text": [
      "100%|██████████| 1/1 [00:00<00:00, 250.93it/s]\n"
     ]
    },
    {
     "name": "stdout",
     "output_type": "stream",
     "text": [
      "Angle : 87.2297842027998\n",
      "Distance: 71.50699266505339 degrees: 4.056646541273494\n",
      "Robotx:  192.5 Roboty:  252.0 Robotangle:  87.2297842027998\n",
      "Objective_pos  [201 181]\n"
     ]
    },
    {
     "name": "stderr",
     "output_type": "stream",
     "text": [
      "100%|██████████| 1/1 [00:00<00:00, 330.62it/s]\n"
     ]
    },
    {
     "name": "stdout",
     "output_type": "stream",
     "text": [
      "Angle : 82.64762064010765\n",
      "Distance: 65.49045732013177 degrees: -0.33587761516945136\n",
      "Robotx:  193.0 Roboty:  246.0 Robotangle:  82.64762064010765\n",
      "Objective_pos  [201 181]\n",
      "obstacle detected\n",
      "Angle : 88.09084756700362\n",
      "Distance: 59.682493245507096 degrees: 6.76402161488339\n",
      "Robotx:  192.0 Roboty:  240.0 Robotangle:  88.09084756700362\n",
      "Objective_pos  [201 181]\n",
      "Angle : 83.3455749539934\n",
      "Distance: 54.82928049865327 degrees: 3.3232875741439756\n",
      "Robotx:  191.5 Roboty:  235.0 Robotangle:  83.3455749539934\n",
      "Objective_pos  [201 181]\n"
     ]
    },
    {
     "name": "stderr",
     "output_type": "stream",
     "text": [
      "100%|██████████| 1/1 [00:00<00:00, 200.05it/s]\n"
     ]
    },
    {
     "name": "stdout",
     "output_type": "stream",
     "text": [
      "Angle : 78.50343698241423\n",
      "Distance: 49.1553659329274 degrees: -2.1300530605736583\n",
      "Robotx:  193.0 Roboty:  229.5 Robotangle:  78.50343698241423\n",
      "Objective_pos  [201 181]\n",
      "obstacle detected\n"
     ]
    },
    {
     "name": "stderr",
     "output_type": "stream",
     "text": [
      "100%|██████████| 1/1 [00:00<00:00, 142.95it/s]\n"
     ]
    },
    {
     "name": "stdout",
     "output_type": "stream",
     "text": [
      "Angle : 78.50343698241423\n",
      "Distance: 49.1553659329274 degrees: -2.1300530605736583\n",
      "Robotx:  193.0 Roboty:  229.5 Robotangle:  78.50343698241423\n",
      "Objective_pos  [201 181]\n",
      "obstacle detected\n"
     ]
    },
    {
     "name": "stderr",
     "output_type": "stream",
     "text": [
      "100%|██████████| 1/1 [00:00<00:00, 250.08it/s]\n"
     ]
    },
    {
     "name": "stdout",
     "output_type": "stream",
     "text": [
      "Angle : 86.1214754971523\n",
      "Distance: 37.84507894033252 degrees: 11.442985572017093\n",
      "Robotx:  191.0 Roboty:  217.5 Robotangle:  86.1214754971523\n",
      "Objective_pos  [201 181]\n"
     ]
    },
    {
     "name": "stderr",
     "output_type": "stream",
     "text": [
      "100%|██████████| 1/1 [00:00<00:00, 333.15it/s]\n"
     ]
    },
    {
     "name": "stdout",
     "output_type": "stream",
     "text": [
      "Angle : 81.17962044797895\n",
      "Distance: 31.784430150625635 degrees: 10.469666667167672\n",
      "Robotx:  190.5 Roboty:  211.0 Robotangle:  81.17962044797895\n",
      "Objective_pos  [201 181]\n"
     ]
    },
    {
     "name": "stderr",
     "output_type": "stream",
     "text": [
      "100%|██████████| 1/1 [00:00<00:00, 142.87it/s]\n"
     ]
    },
    {
     "name": "stdout",
     "output_type": "stream",
     "text": [
      "Angle : 78.3106308245608\n",
      "Distance: 26.92582403567252 degrees: 10.112040310912619\n",
      "Robotx:  191.0 Roboty:  206.0 Robotangle:  78.3106308245608\n",
      "Objective_pos  [201 181]\n"
     ]
    },
    {
     "name": "stderr",
     "output_type": "stream",
     "text": [
      "100%|██████████| 1/1 [00:00<00:00, 250.23it/s]\n"
     ]
    },
    {
     "name": "stdout",
     "output_type": "stream",
     "text": [
      "Angle : 77.366638064725\n",
      "Distance: 21.242645786248 degrees: 13.931689241802985\n",
      "Robotx:  191.5 Roboty:  200.0 Robotangle:  77.366638064725\n",
      "Objective_pos  [201 181]\n"
     ]
    },
    {
     "name": "stderr",
     "output_type": "stream",
     "text": [
      "100%|██████████| 1/1 [00:00<00:00, 200.01it/s]\n"
     ]
    }
   ],
   "source": [
    "from tdmclient import ClientAsync, aw\n",
    "from vision.ComputerVision import Vision\n",
    "import time\n",
    "import cv2\n",
    "vis = Vision()\n",
    "client = ClientAsync()\n",
    "node = await client.wait_for_node()\n",
    "await node.lock()\n",
    "path = []\n",
    "target_node = 0\n",
    "tolerance = 20 #TO TUNE\n",
    "rotation_done = 1\n",
    "last_image_time = time.time()\n",
    "previous_pos = []\n",
    "\n",
    "async def update_motion():\n",
    "        global target_node, path, rotation_done, goal_reached\n",
    "        await client.sleep(0.001) \n",
    "        if not obstacle_detected : \n",
    "        # Replace this with your actual task\n",
    "            #vis.update()\n",
    "            pass\n",
    "        #Kalman filter here:\n",
    "        #Kalman_Estimate = Kalman(robot.x, robot.y, robot.angle)\n",
    "        if close_coordinates(vis.robot.x, vis.robot.y, path[target_node][0], path[target_node][1], tolerance):\n",
    "            if target_node != (len(path))-1:\n",
    "                await stop()\n",
    "                target_node = target_node + 1\n",
    "            else: \n",
    "                goal_reached = True\n",
    "                return\n",
    "        #if obstacle_detected: \n",
    "                #path = vis.find_shortest_path()\n",
    "                #target_node = 0\n",
    "                #obstacle_detected = 0\n",
    "        if target_node != len(path): \n",
    "            objective_pos = path[target_node]\n",
    "        estimate_angle_degrees = math.degrees(vis.robot.angle)\n",
    "        print(\"Angle :\", estimate_angle_degrees)\n",
    "        dist, angle = compute_movement([vis.robot.x, vis.robot.y], objective_pos, -estimate_angle_degrees)\n",
    "        print(f\"Robotx: \", vis.robot.x, f\"Roboty: \", vis.robot.y, f\"Robotangle: \", estimate_angle_degrees)\n",
    "        print(f\"Objective_pos \", objective_pos )\n",
    "        await rotate_angle(angle)\n",
    "        \n",
    "        await drive()\n",
    "            \n",
    "            \n",
    "         # Sleep for 1 second\n",
    "#Define the trip the robot has to make here : \n",
    "async def main():    \n",
    "    global goal_reached, obstacle_detected, target_node, path, last_image_time, previous_pos\n",
    "    previous_pos = [vis.robot.x, vis.robot.y, vis.robot.angle]\n",
    "    vis.update(True)\n",
    "    vis.show()\n",
    "    while True:\n",
    "        if time.time() - last_image_time < 0.5:\n",
    "            continue\n",
    "        vis.show()\n",
    "        vis.update(True)\n",
    "        last_image_time = time.time()\n",
    "        if len(vis.shortest_path)>1:\n",
    "            break\n",
    "    \n",
    "    while True:\n",
    "        ##Find shortest path initially\n",
    "        #print(time.time())\n",
    "        if time.time() - last_image_time < 0.5:\n",
    "            continue\n",
    "\n",
    "        vis.show()\n",
    "        vis.update()\n",
    "        \n",
    "\n",
    "        # Update the\n",
    "        # last image acquisition time\n",
    "        last_image_time = time.time()\n",
    "\n",
    "        if cv2.waitKey(1) & 0xFF == ord('q') and len(vis.shortest_path)  > 1: \n",
    "            await stop()\n",
    "            break\n",
    "        if not (vis.found_robot and vis.found_goal):\n",
    "            await stop()\n",
    "            continue\n",
    "        \n",
    "        path = vis.shortest_path\n",
    "        if len(path) >= 1:\n",
    "            if not kidnapped : \n",
    "                v = { \"leds.top\" :[0, 0, 0]}\n",
    "                await node.set_variables(v)\n",
    "                await update_motion()\n",
    "            else:\n",
    "                await stop() #TO DELETE LATER\n",
    "                await client.sleep(0.01)\n",
    "                v = { \"leds.top\" :[32, 0, 0]}\n",
    "                await node.set_variables(v)\n",
    "                get_horizontal()\n",
    "                #if not kidnapped: \n",
    "                #    vis.update()\n",
    "                #    path = vis.find_shortest_path()\n",
    "                #    target_node = 0\n",
    "            if goal_reached == True: \n",
    "                await stop()\n",
    "                break\n",
    "\n",
    "await main()\n",
    "obstacle_detected = 0\n",
    "goal_reached = 0\n",
    "kidnapped = 0\n",
    "await node.unlock()\n",
    "del vis"
   ]
  },
  {
   "cell_type": "code",
   "execution_count": null,
   "id": "ef8fa200",
   "metadata": {},
   "outputs": [],
   "source": []
  },
  {
   "cell_type": "code",
   "execution_count": null,
   "id": "4b25553b-cdf9-4095-a986-40bda6040115",
   "metadata": {},
   "outputs": [],
   "source": []
  },
  {
   "cell_type": "code",
   "execution_count": null,
   "id": "d35aa1fe",
   "metadata": {},
   "outputs": [],
   "source": []
  },
  {
   "cell_type": "code",
   "execution_count": null,
   "id": "f7fb9aca",
   "metadata": {},
   "outputs": [],
   "source": []
  }
 ],
 "metadata": {
  "kernelspec": {
   "display_name": "Python 3",
   "language": "python",
   "name": "python3"
  },
  "language_info": {
   "codemirror_mode": {
    "name": "ipython",
    "version": 3
   },
   "file_extension": ".py",
   "mimetype": "text/x-python",
   "name": "python",
   "nbconvert_exporter": "python",
   "pygments_lexer": "ipython3",
   "version": "3.11.2"
  },
  "vscode": {
   "interpreter": {
    "hash": "1682e5d06a6d97c1b1cf6bb4ae6cf16223e994936ddb1d53664597d7d46101fa"
   }
  }
 },
 "nbformat": 4,
 "nbformat_minor": 5
}
