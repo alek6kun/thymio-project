{
 "cells": [
  {
   "cell_type": "code",
   "execution_count": null,
   "id": "054916a6-70a2-4b8e-98a1-6532557ff777",
   "metadata": {},
   "outputs": [],
   "source": [
    "import math\n",
    "\n",
    "def compute_movement(current_pos, obj, current_angle_deg): \n",
    "    # current_angle_deg = angle between thymio front axis and x-axis\n",
    "    # Extracting coordinates from current_pos and obj\n",
    "    current_x, current_y = current_pos\n",
    "    obj_x, obj_y = obj\n",
    "\n",
    "    # Calculate distance between current position and the target object\n",
    "    distance = math.sqrt((obj_x - current_x)**2 + (obj_y - current_y)**2)\n",
    "\n",
    "    # Calculate angle in radians\n",
    "    angle_radians = math.atan2(obj_y - current_y, obj_x - current_x)\n",
    "    #angle_radians = math.atan2(obj_y , obj_x)\n",
    "    #if (obj_y - current_y) <0 and obj_x - current_x < 0:£\n",
    "    #    angle_radians = -angle_radians\n",
    "    #print(obj_y - current_y)\n",
    "    #print(obj_x - current_x)\n",
    "\n",
    "    # Convert angle to degrees\n",
    "    angle_degrees = math.degrees(angle_radians) - current_angle_deg\n",
    "\n",
    "\n",
    "    \n",
    "    print(f\"Distance: {distance}\", f\"degrees: {angle_degrees}\")\n",
    "    return distance, angle_degrees\n",
    "    \n",
    "\n",
    "# Example usage\n",
    "compute_movement([0, 0], [1, 1], -90)\n",
    "    \n",
    "\n",
    "    "
   ]
  },
  {
   "cell_type": "code",
   "execution_count": null,
   "id": "9b3e545a-d0c8-4111-bddf-2a494f2872a9",
   "metadata": {},
   "outputs": [],
   "source": [
    "#USED TO CHECK FOR COLLISION AT REGULAR INTERVALS, Source : ex week 8\n",
    "from threading import Timer\n",
    "\n",
    "class RepeatedTimer(object):\n",
    "    def __init__(self, interval, function, *args, **kwargs):\n",
    "        self._timer     = None\n",
    "        self.interval   = interval\n",
    "        self.function   = function\n",
    "        self.args       = args\n",
    "        self.kwargs     = kwargs\n",
    "        self.is_running = False\n",
    "        self.start()\n",
    "\n",
    "    def _run(self):\n",
    "        self.is_running = False\n",
    "        self.start()\n",
    "        self.function(*self.args, **self.kwargs)\n",
    "\n",
    "    def start(self):\n",
    "        if not self.is_running:\n",
    "            self._timer = Timer(self.interval, self._run)\n",
    "            self._timer.start()\n",
    "            self.is_running = True\n",
    "\n",
    "    def stop(self):\n",
    "        self._timer.cancel()\n",
    "        self.is_running = False"
   ]
  },
  {
   "cell_type": "code",
   "execution_count": null,
   "id": "510b0b86-46a2-4f5e-a76b-a666cc8b8775",
   "metadata": {},
   "outputs": [],
   "source": [
    "from tdmclient import ClientAsync, aw\n",
    "\n",
    "import time\n",
    "import numpy as np\n",
    "import asyncio\n",
    "Ts = 0.01\n",
    "SPEED = 70\n",
    "SEUIL_OBSTACLE = 100\n",
    "SEUIL_KIDNAPPED = 100\n",
    "#VALUES THAT NEED TO BE TUNED BEGIN: \n",
    "##We add correction factors to tune the speed symmetry\n",
    "SPEED_LEFT = SPEED +1 \n",
    "SPEED_RIGHT = SPEED\n",
    "\n",
    "thymio_speed_to_mms = 19.73913043478261*1000/50 ##TO FIND THE MM/s speed, divide motors_speed by this, thix value has to be tuned for each thymio\n",
    "rotation_factor = 110*np.pi/360 \n",
    "#VALUES TO BE TUNED END\n",
    "\n",
    "#Global variables\n",
    "obstacle_detected = 0\n",
    "goal_reached = 0\n",
    "kidnapped = 0\n",
    "def get_horizontal():\n",
    "    vis.show()\n",
    "    vis.update()\n",
    "    global obstacle_detected, kidnapped, rotation_done\n",
    "    prox_values = node[\"prox.horizontal\"][:5]\n",
    "    #print(list(prox_values))\n",
    "    if obstacle_detected ==0 and rotation_done == 1:\n",
    "        obstacle_detected = any(value > SEUIL_OBSTACLE for value in prox_values)\n",
    "        if obstacle_detected:\n",
    "            rotation_done = 0\n",
    "    ground_values = node[\"prox.ground.reflected\"]\n",
    "    #print(list(ground_values))\n",
    "    \n",
    "    if ground_values[0] < SEUIL_KIDNAPPED or ground_values[1] < SEUIL_KIDNAPPED:\n",
    "        kidnapped = True \n",
    "        print(f\"kidnapped\")\n",
    "    else:\n",
    "        kidnapped = False\n",
    "    \n",
    "\n",
    "   \n",
    "async def drive(): \n",
    "    v = {\n",
    "        \"motor.left.target\": [int(SPEED_LEFT)],\n",
    "        \"motor.right.target\": [int(SPEED_RIGHT)],\n",
    "    }\n",
    "    await node.set_variables(v)\n",
    "async def stop(): \n",
    "    v = {\n",
    "        \"motor.left.target\": [0],\n",
    "        \"motor.right.target\": [0],\n",
    "    }\n",
    "    await node.set_variables(v)\n",
    "async def rotate(angle_diff) : \n",
    "    if angle_diff < 0 :\n",
    "        v = {\n",
    "            \"motor.left.target\": [int(-SPEED_LEFT)],\n",
    "            \"motor.right.target\": [int(SPEED_RIGHT)],\n",
    "        }\n",
    "    else :\n",
    "        v = {\n",
    "        \"motor.left.target\": [int(SPEED_LEFT)],\n",
    "        \"motor.right.target\": [int(-SPEED_RIGHT)],\n",
    "    }\n",
    "    await node.set_variables(v)\n",
    "#Adapted from moodle forum thread : \n",
    "async def drive_for_seconds(client, seconds):\n",
    "#just drives straight for given seconds\n",
    "# input: async client, seconds\n",
    "    global obstacle_detected, kidnapped\n",
    "    await node.wait_for_variables()\n",
    "    rt = RepeatedTimer(Ts, get_horizontal)\n",
    "    # Set the motor speeds\n",
    "    v = {\n",
    "        \"motor.left.target\": [int(SPEED_LEFT)],\n",
    "        \"motor.right.target\": [int(SPEED_RIGHT)],\n",
    "    }\n",
    "    await node.set_variables(v)\n",
    "    start_time = time.monotonic()\n",
    "    while time.monotonic() - start_time < seconds:\n",
    "        await node.wait_for_variables({\"prox.horizontal\"})\n",
    "        \n",
    "        #get_horizontal()\n",
    "        await client.sleep(0.01)\n",
    "        if obstacle_detected:\n",
    "            # Si un obstacle est détecté, arrêtez les moteurs\n",
    "            v_stop = {\n",
    "                \"motor.left.target\": [int(0)],\n",
    "                \"motor.right.target\": [int(0)],\n",
    "            }\n",
    "            await node.set_variables(v_stop)\n",
    "    \n",
    "            #obstacle_detected = False  # Réinitialisez la variable d'obstacle détecté\n",
    "            rt.stop()\n",
    "            break  # Sortez de la boucle si un obstacle est détecté\n",
    "        await asyncio.sleep(Ts)\n",
    "\n",
    "    # Stop the motors\n",
    "    v_stop = {\n",
    "        \"motor.left.target\": [int(0)],\n",
    "        \"motor.right.target\": [int(0)],\n",
    "    }\n",
    "    rt.stop()\n",
    "    await node.set_variables(v_stop)\n",
    "async def rotate_for_seconds(client, seconds, degrees):\n",
    "##Rotates during a number of seconds\n",
    "##input : async client, number of seconds, degrees (used to know if he turns clockwise or counter-clockwise\n",
    "    global obstacle_detected\n",
    "    await node.wait_for_variables()\n",
    "    rt2 = RepeatedTimer(Ts, get_horizontal)\n",
    "    if degrees <=0:\n",
    "        v = {\n",
    "            \"motor.left.target\": [int(-SPEED_LEFT)],\n",
    "            \"motor.right.target\": [int(SPEED_RIGHT)],\n",
    "        }\n",
    "        await node.set_variables(v)\n",
    "        start_time = time.monotonic()\n",
    "        while time.monotonic() - start_time < seconds:\n",
    "            vis.show()\n",
    "            vis.update()\n",
    "            await node.wait_for_variables({\"prox.horizontal\"})\n",
    "        \n",
    "            await client.sleep(0.01)\n",
    "            if obstacle_detected or kidnapped:\n",
    "                # Si un obstacle est détecté, arrêtez les moteurs\n",
    "                v_stop = {\n",
    "                    \"motor.left.target\": [int(0)],\n",
    "                    \"motor.right.target\": [int(0)],\n",
    "                }\n",
    "                await node.set_variables(v_stop)\n",
    "                \n",
    "                ##obstacle_detected = False  # Réinitialisez la variable d'obstacle détecté\n",
    "                print(f\"obstacle detected\")\n",
    "                break  # Sortez de la boucle si un obstacle est détecté\n",
    "            await asyncio.sleep(Ts)\n",
    "    \n",
    "        # Stop the motors\n",
    "        v_stop = {\n",
    "            \"motor.left.target\": [int(0)],\n",
    "            \"motor.right.target\": [int(0)],\n",
    "        }\n",
    "        rt2.stop()\n",
    "        await node.set_variables(v_stop)\n",
    "    else:\n",
    "        v = {\n",
    "            \"motor.left.target\": [int(SPEED_LEFT)],\n",
    "            \"motor.right.target\": [int(-SPEED_RIGHT)],\n",
    "        }\n",
    "        await node.set_variables(v)\n",
    "        start_time = time.monotonic()\n",
    "        while time.monotonic() - start_time < seconds:\n",
    "            await node.wait_for_variables({\"prox.horizontal\"})\n",
    "        \n",
    "            #get_horizontal()\n",
    "            await client.sleep(0.001)\n",
    "            if obstacle_detected or kidnapped:\n",
    "                # Si un obstacle est détecté, arrêtez les moteurs\n",
    "                v_stop = {\n",
    "                    \"motor.left.target\": [int(0)],\n",
    "                    \"motor.right.target\": [int(0)],\n",
    "                }\n",
    "                await node.set_variables(v_stop)\n",
    "                \n",
    "                ##obstacle_detected = False  # Réinitialisez la variable d'obstacle détecté\n",
    "                break  # Sortez de la boucle si un obstacle est détecté\n",
    "            #await asyncio.sleep(Ts)\n",
    "    \n",
    "        # Stop the motors\n",
    "        v_stop = {\n",
    "            \"motor.left.target\": [int(0)],\n",
    "            \"motor.right.target\": [int(0)],\n",
    "        }\n",
    "        rt2.stop()\n",
    "        await node.set_variables(v_stop)\n",
    "async def rotate_angle(angle):\n",
    "     global rotation_done\n",
    "     if angle!= 0:\n",
    "        disttorotate = abs(angle*rotation_factor)\n",
    "        secondstorotate = disttorotate/(SPEED*thymio_speed_to_mms)\n",
    "        rotate_task = asyncio.create_task(rotate_for_seconds(client, secondstorotate, np.sign(angle)))\n",
    "        await rotate_task\n",
    "        rotation_done = 1\n",
    "         \n",
    "    \n",
    "async def print_elapsed_time(seconds, interval=0.5):\n",
    "##Testing function to know elapsed-time, no practical use apart from calibration, to delete later\n",
    "    start_time = time.monotonic()\n",
    "    while True:\n",
    "        elapsed = time.monotonic() - start_time\n",
    "        if elapsed > seconds:\n",
    "            break\n",
    "        print(f\"Elapsed time: {elapsed:.4f} seconds\")\n",
    "        await asyncio.sleep(interval)\n",
    "async def road_trip(nodes_to_visit, current_pos, initial_angle):\n",
    "##Makes the robot visit nodes one after another\n",
    "## input: nodes_to_visit:list of nodes containing [x,y] coordinates, \n",
    "##        current_pos : [x,y] coordinates of current position, \n",
    "##        initial_angle : current angle between thymio sagittal axis and x-axis\n",
    "    global obstacle_detected, goal_reached\n",
    "    previous_angle = 0;\n",
    "    for i in range(len(nodes_to_visit)):\n",
    "        if obstacle_detected or kidnapped: \n",
    "            break\n",
    "        else: \n",
    "            if i == 0:\n",
    "             dist, angle = compute_movement(current_pos, nodes_to_visit[i], initial_angle)\n",
    "             previous_angle = angle + initial_angle\n",
    "            else: \n",
    "             dist, angle = compute_movement(nodes_to_visit[i-1], nodes_to_visit[i], previous_angle)\n",
    "             previous_angle = angle + previous_angle\n",
    "            await go_to(dist, angle)\n",
    "            if i == len(nodes_to_visit)-1:\n",
    "                goal_reached = True\n",
    "                print(f\"goal_reached\")\n",
    "        \n",
    "    \n",
    "    \n",
    "async def go_to(dist, angle):\n",
    "## Makes the thymio rotate of given angle, then go straight for distance dist, only meant to be used through road_trip function\n",
    "## Input: dist : distance to travel in mm\n",
    "##        angle : angle to rotate before going forward\n",
    "\n",
    "    secondstodrive = dist/(SPEED*thymio_speed_to_mms)\n",
    "    if angle!= 0:\n",
    "        disttorotate = abs(angle*rotation_factor)\n",
    "        secondstorotate = disttorotate/(SPEED*thymio_speed_to_mms)\n",
    "        rotate_task = asyncio.create_task(rotate_for_seconds(client, secondstorotate, np.sign(angle)))\n",
    "        await rotate_task\n",
    "    \n",
    "    drive_task = asyncio.create_task(drive_for_seconds(client, secondstodrive))\n",
    "    \n",
    "    #print_task = asyncio.create_task(print_elapsed_time(secondstodrive))\n",
    "    \n",
    "    # Wait for both tasks to complete\n",
    "    await drive_task\n",
    "    \n",
    "    #await print_task\n",
    "\n",
    "def close_coordinates(x, y, w, z, tolerance):\n",
    "    distance = math.sqrt((w - x)**2 + (z - y)**2)\n",
    "    return distance <= tolerance"
   ]
  },
  {
   "cell_type": "code",
   "execution_count": null,
   "id": "3a7bce5d-5411-4697-b4c8-b9db4e36f476",
   "metadata": {},
   "outputs": [],
   "source": []
  },
  {
   "cell_type": "markdown",
   "id": "faa997ce-a496-4173-8346-324cf7ec5c44",
   "metadata": {},
   "source": [
    "Quick explaination on how we computed the seconds required to rotate of x degrees\n",
    "\n",
    "\n",
    "You can use the following formula to calculate the number of wheel rotations \\(T\\) required for one complete rotation:\n",
    "$$T = \\frac{\\pi \\times L}{\\pi \\times D} $$\n",
    "We measured L = 9.5cm (distance between wheels) and D = 4.2 cm (wheel diameter), but this value is meant to be tuned\n",
    "we want to know the number of degrees the wheels will turn for the vehicle to complete one full rotation, we can use the formula:\n",
    "$$\\text{Number of degrees} = T \\times 360 $$\n",
    "\n",
    "Substitute the value of \\(T\\) from the previous formula:\n",
    "$$\\text{Number of degrees} = \\frac{L}{D} \\times 360 = 814.286$$\n",
    "\n",
    "Then from this we can compute the required distance to travel for a given wanted rotation: \n",
    "$$\\frac{814.286}{95*\\pi} = \\frac{wanted rotation°}{distance} \\implies distance = \\frac{\\text{wanted rotation°} \\times 95 \\pi}{814.286}$$\n",
    "From which we compute the seconds required:\n",
    "$$\\text{Seconds of rotation} =  \\frac{distance}{SPEED \\times conversionfactor}$$\n",
    "In practice, the values L and D have to be tuned.\n"
   ]
  },
  {
   "cell_type": "markdown",
   "id": "e3ba7031-b457-435d-8f67-57580168c34c",
   "metadata": {},
   "source": [
    "How I see it: \n",
    "Initially, we get the robot's pose and angle\n",
    "We obtain the desired path\n",
    "The robot orients itself, then moves towards the target.\n",
    "Every few seconds, we re-measure the robot's position, apply the kalman filter and recalculate the angle it should make (correct its trajectory).\n",
    "this means: just orient it and make it go to the desired node.\n",
    "If the robot's x and y estimates are within a few cm of the node's, then we change our objective.\n",
    "etc etc. \n",
    "And when the robot is kidnapped: we wait to see it again, and then start all over again.\n",
    "If it detects an obstacle: we recalculate its trajectory, rotates till it does not see an obstacle anymore\n",
    "# Final main loop putting all things together"
   ]
  },
  {
   "cell_type": "code",
   "execution_count": null,
   "id": "2203a5d6-2e3d-4e0b-ba6d-4015483ddbbf",
   "metadata": {},
   "outputs": [],
   "source": []
  },
  {
   "cell_type": "code",
   "execution_count": 5,
   "id": "ef8fa200",
   "metadata": {},
   "outputs": [
    {
     "name": "stderr",
     "output_type": "stream",
     "text": [
      "100%|██████████| 1/1 [00:00<00:00, 333.23it/s]\n",
      "100%|██████████| 1/1 [00:00<00:00, 333.81it/s]\n",
      "100%|██████████| 1/1 [00:00<00:00, 333.57it/s]\n",
      "100%|██████████| 1/1 [00:00<00:00, 333.49it/s]\n"
     ]
    },
    {
     "name": "stdout",
     "output_type": "stream",
     "text": [
      "Target node:  1\n",
      "Distance: 42.68782027698299 degrees: 76.5960570615173\n",
      "angle calculé:  76.5960570615173\n",
      "Robotx:  144.0 Roboty:  213.5 Robotangle:  -8.027237510431954\n",
      "Objective_pos  [148 256]\n",
      "Distance: 42.68782027698299 degrees: 76.5960570615173\n"
     ]
    },
    {
     "name": "stderr",
     "output_type": "stream",
     "text": [
      "100%|██████████| 1/1 [00:00<00:00, 333.70it/s]\n"
     ]
    },
    {
     "name": "stdout",
     "output_type": "stream",
     "text": [
      "Distance: 42.68782027698299 degrees: 76.5960570615173\n"
     ]
    },
    {
     "name": "stderr",
     "output_type": "stream",
     "text": [
      "100%|██████████| 1/1 [00:00<00:00, 200.09it/s]"
     ]
    },
    {
     "name": "stdout",
     "output_type": "stream",
     "text": [
      "Distance: 42.190046219457976"
     ]
    },
    {
     "name": "stderr",
     "output_type": "stream",
     "text": [
      "\n"
     ]
    },
    {
     "name": "stdout",
     "output_type": "stream",
     "text": [
      " degrees: 75.81350570643929\n"
     ]
    },
    {
     "name": "stderr",
     "output_type": "stream",
     "text": [
      "100%|██████████| 1/1 [00:00<00:00, 250.17it/s]\n"
     ]
    },
    {
     "name": "stdout",
     "output_type": "stream",
     "text": [
      "Distance: 42.190046219457976 degrees: 75.81350570643929\n"
     ]
    },
    {
     "name": "stderr",
     "output_type": "stream",
     "text": [
      "100%|██████████| 1/1 [00:00<00:00, 200.25it/s]\n"
     ]
    },
    {
     "name": "stdout",
     "output_type": "stream",
     "text": [
      "Distance: 41.692325432865935 degrees: 75.03219993399604\n"
     ]
    },
    {
     "name": "stderr",
     "output_type": "stream",
     "text": [
      "100%|██████████| 1/1 [00:00<00:00, 250.18it/s]\n"
     ]
    },
    {
     "name": "stdout",
     "output_type": "stream",
     "text": [
      "Distance: 41.19465984809196 degrees: 74.252291352993\n"
     ]
    },
    {
     "name": "stderr",
     "output_type": "stream",
     "text": [
      "100%|██████████| 1/1 [00:00<00:00, 200.02it/s]"
     ]
    },
    {
     "name": "stdout",
     "output_type": "stream",
     "text": [
      "Distance: 40.252329125157466 degrees: 70.42367052974642\n"
     ]
    },
    {
     "name": "stderr",
     "output_type": "stream",
     "text": [
      "\n",
      "100%|██████████| 1/1 [00:00<00:00, 250.11it/s]\n"
     ]
    },
    {
     "name": "stdout",
     "output_type": "stream",
     "text": [
      "Distance: 39.81519810323691 degrees: 65.94826533511686\n"
     ]
    },
    {
     "name": "stderr",
     "output_type": "stream",
     "text": [
      "100%|██████████| 1/1 [00:00<00:00, 166.75it/s]\n"
     ]
    },
    {
     "name": "stdout",
     "output_type": "stream",
     "text": [
      "Distance: 39.319206502675 degrees: 65.16867209296632\n"
     ]
    },
    {
     "name": "stderr",
     "output_type": "stream",
     "text": [
      "100%|██████████| 1/1 [00:00<00:00, 250.12it/s]\n"
     ]
    },
    {
     "name": "stdout",
     "output_type": "stream",
     "text": [
      "Distance: 37.90118731649445 degrees: 60.51628360730925\n"
     ]
    },
    {
     "name": "stderr",
     "output_type": "stream",
     "text": [
      "100%|██████████| 1/1 [00:00<00:00, 167.03it/s]\n"
     ]
    },
    {
     "name": "stdout",
     "output_type": "stream",
     "text": [
      "Distance: 37.48332962798263 degrees: 58.721073896773106\n"
     ]
    },
    {
     "name": "stderr",
     "output_type": "stream",
     "text": [
      "100%|██████████| 1/1 [00:00<00:00, 166.75it/s]\n"
     ]
    },
    {
     "name": "stdout",
     "output_type": "stream",
     "text": [
      "Distance: 36.9120576505835 degrees: 58.42198803733948\n"
     ]
    },
    {
     "name": "stderr",
     "output_type": "stream",
     "text": [
      "100%|██████████| 1/1 [00:00<00:00, 200.13it/s]\n"
     ]
    },
    {
     "name": "stdout",
     "output_type": "stream",
     "text": [
      "Distance: 36.09016486523718 degrees: 53.38280542779118\n"
     ]
    },
    {
     "name": "stderr",
     "output_type": "stream",
     "text": [
      "100%|██████████| 1/1 [00:00<00:00, 166.74it/s]\n"
     ]
    },
    {
     "name": "stdout",
     "output_type": "stream",
     "text": [
      "Distance: 36.09016486523718 degrees: 52.09892933620462\n"
     ]
    },
    {
     "name": "stderr",
     "output_type": "stream",
     "text": [
      "100%|██████████| 1/1 [00:00<00:00, 125.06it/s]\n"
     ]
    },
    {
     "name": "stdout",
     "output_type": "stream",
     "text": [
      "Distance: 34.713109915419565 degrees: 46.66493633155385\n"
     ]
    },
    {
     "name": "stderr",
     "output_type": "stream",
     "text": [
      "100%|██████████| 1/1 [00:00<00:00, 142.86it/s]\n"
     ]
    },
    {
     "name": "stdout",
     "output_type": "stream",
     "text": [
      "Distance: 34.077118422777474 degrees: 40.26921530044804\n"
     ]
    },
    {
     "name": "stderr",
     "output_type": "stream",
     "text": [
      "100%|██████████| 1/1 [00:00<00:00, 250.15it/s]\n"
     ]
    },
    {
     "name": "stdout",
     "output_type": "stream",
     "text": [
      "Distance: 33.24154027718932 degrees: 35.40686573726966\n"
     ]
    },
    {
     "name": "stderr",
     "output_type": "stream",
     "text": [
      "100%|██████████| 1/1 [00:00<00:00, 250.14it/s]\n"
     ]
    },
    {
     "name": "stdout",
     "output_type": "stream",
     "text": [
      "Distance: 32.57299494980466 degrees: 29.166711893045893\n"
     ]
    },
    {
     "name": "stderr",
     "output_type": "stream",
     "text": [
      "100%|██████████| 1/1 [00:00<00:00, 200.12it/s]\n"
     ]
    },
    {
     "name": "stdout",
     "output_type": "stream",
     "text": [
      "Distance: 31.953090617340916 degrees: 23.85861056649769\n"
     ]
    },
    {
     "name": "stderr",
     "output_type": "stream",
     "text": [
      "100%|██████████| 1/1 [00:00<00:00, 166.55it/s]\n"
     ]
    },
    {
     "name": "stdout",
     "output_type": "stream",
     "text": [
      "Distance: 31.953090617340916 degrees: 22.81828808286464\n"
     ]
    },
    {
     "name": "stderr",
     "output_type": "stream",
     "text": [
      "100%|██████████| 1/1 [00:00<00:00, 142.95it/s]\n"
     ]
    },
    {
     "name": "stdout",
     "output_type": "stream",
     "text": [
      "Distance: 31.535694062442957 degrees: 10.523647575774604\n"
     ]
    },
    {
     "name": "stderr",
     "output_type": "stream",
     "text": [
      "100%|██████████| 1/1 [00:00<00:00, 200.07it/s]\n"
     ]
    },
    {
     "name": "stdout",
     "output_type": "stream",
     "text": [
      "Distance: 31.535694062442957 degrees: 10.523647575774604\n"
     ]
    },
    {
     "name": "stderr",
     "output_type": "stream",
     "text": [
      "100%|██████████| 1/1 [00:00<00:00, 200.10it/s]\n"
     ]
    },
    {
     "name": "stdout",
     "output_type": "stream",
     "text": [
      "Distance: 31.531730050855124 degrees: 6.9091742058772425\n"
     ]
    },
    {
     "name": "stderr",
     "output_type": "stream",
     "text": [
      "100%|██████████| 1/1 [00:00<00:00, 200.13it/s]\n",
      "100%|██████████| 1/1 [00:00<00:00, 248.61it/s]\n"
     ]
    },
    {
     "name": "stdout",
     "output_type": "stream",
     "text": [
      "Target node:  1\n",
      "Distance: 31.064449134018133 degrees: -7.900789423839782\n",
      "angle calculé:  -7.900789423839782\n",
      "Robotx:  131.0 Roboty:  230.0 Robotangle:  -64.72227776444704\n",
      "Objective_pos  [148 256]\n"
     ]
    },
    {
     "name": "stderr",
     "output_type": "stream",
     "text": [
      "100%|██████████| 1/1 [00:00<00:00, 250.23it/s]\n"
     ]
    },
    {
     "name": "stdout",
     "output_type": "stream",
     "text": [
      "Target node:  2\n",
      "Distance: 253.31896889100113 degrees: -11.843145740774276\n",
      "angle calculé:  -11.843145740774276\n",
      "Robotx:  134.5 Roboty:  237.5 Robotangle:  -65.67442476087389\n",
      "Objective_pos  [284 442]\n",
      "Distance: 253.31896889100113 degrees: -11.843145740774276\n"
     ]
    },
    {
     "name": "stderr",
     "output_type": "stream",
     "text": [
      "100%|██████████| 1/1 [00:00<00:00, 331.07it/s]\n"
     ]
    },
    {
     "name": "stdout",
     "output_type": "stream",
     "text": [
      "Distance: 247.10979341175454 degrees: -11.736226083168681\n"
     ]
    },
    {
     "name": "stderr",
     "output_type": "stream",
     "text": [
      "100%|██████████| 1/1 [00:00<00:00, 333.57it/s]"
     ]
    },
    {
     "name": "stdout",
     "output_type": "stream",
     "text": [
      "Distance: 246.81369491987272"
     ]
    },
    {
     "name": "stderr",
     "output_type": "stream",
     "text": [
      "\n"
     ]
    },
    {
     "name": "stdout",
     "output_type": "stream",
     "text": [
      " degrees: -10.98859552337015\n"
     ]
    },
    {
     "name": "stderr",
     "output_type": "stream",
     "text": [
      "100%|██████████| 1/1 [00:00<00:00, 333.44it/s]\n"
     ]
    },
    {
     "name": "stdout",
     "output_type": "stream",
     "text": [
      "Distance: 247.10979341175454 degrees: -11.736226083168681\n"
     ]
    },
    {
     "name": "stderr",
     "output_type": "stream",
     "text": [
      "100%|██████████| 1/1 [00:00<00:00, 333.44it/s]\n"
     ]
    },
    {
     "name": "stdout",
     "output_type": "stream",
     "text": [
      "Distance: 246.51825490214716 degrees: -8.312969657534715\n"
     ]
    },
    {
     "name": "stderr",
     "output_type": "stream",
     "text": [
      "100%|██████████| 1/1 [00:00<00:00, 166.64it/s]\n",
      "100%|██████████| 1/1 [00:00<00:00, 500.33it/s]\n"
     ]
    },
    {
     "name": "stdout",
     "output_type": "stream",
     "text": [
      "Target node:  2\n",
      "Distance: 245.7488555415874 degrees: -3.0354140402276215\n",
      "angle calculé:  -3.0354140402276215\n",
      "Robotx:  140.5 Roboty:  242.5 Robotangle:  -57.30801581742793\n",
      "Objective_pos  [284 442]\n"
     ]
    },
    {
     "name": "stderr",
     "output_type": "stream",
     "text": [
      "100%|██████████| 1/1 [00:00<00:00, 331.36it/s]\n"
     ]
    },
    {
     "name": "stdout",
     "output_type": "stream",
     "text": [
      "Target node:  2\n",
      "Distance: 237.08911826568507 degrees: 2.0050600452832583\n",
      "angle calculé:  2.0050600452832583\n",
      "Robotx:  147.0 Roboty:  248.5 Robotangle:  -52.69605172201657\n",
      "Objective_pos  [284 442]\n"
     ]
    },
    {
     "name": "stderr",
     "output_type": "stream",
     "text": [
      "100%|██████████| 1/1 [00:00<00:00, 250.09it/s]\n"
     ]
    },
    {
     "name": "stdout",
     "output_type": "stream",
     "text": [
      "Target node:  2\n",
      "Distance: 227.67136403157951 degrees: -0.14853667251046687\n",
      "angle calculé:  -0.14853667251046687\n",
      "Robotx:  152.0 Roboty:  256.5 Robotangle:  -54.713251024940284\n",
      "Objective_pos  [284 442]\n"
     ]
    },
    {
     "name": "stderr",
     "output_type": "stream",
     "text": [
      "100%|██████████| 1/1 [00:00<00:00, 248.73it/s]\n"
     ]
    },
    {
     "name": "stdout",
     "output_type": "stream",
     "text": [
      "Target node:  2\n",
      "Distance: 217.50632174720806 degrees: 2.6684639289603425\n",
      "angle calculé:  2.6684639289603425\n",
      "Robotx:  159.0 Roboty:  264.0 Robotangle:  -52.25319461272534\n",
      "Objective_pos  [284 442]\n"
     ]
    },
    {
     "name": "stderr",
     "output_type": "stream",
     "text": [
      "100%|██████████| 1/1 [00:00<00:00, 333.60it/s]\n"
     ]
    },
    {
     "name": "stdout",
     "output_type": "stream",
     "text": [
      "Target node:  2\n",
      "Distance: 208.20782886337392 degrees: 1.6982708581786667\n",
      "angle calculé:  1.6982708581786667\n",
      "Robotx:  164.5 Roboty:  271.5 Robotangle:  -53.275892827075204\n",
      "Objective_pos  [284 442]\n"
     ]
    },
    {
     "name": "stderr",
     "output_type": "stream",
     "text": [
      "100%|██████████| 1/1 [00:00<00:00, 250.12it/s]\n"
     ]
    },
    {
     "name": "stdout",
     "output_type": "stream",
     "text": [
      "Target node:  2\n",
      "Distance: 198.74921383492313 degrees: 2.6543761050833865\n",
      "angle calculé:  2.6543761050833865\n",
      "Robotx:  171.0 Roboty:  278.5 Robotangle:  -52.69605172201657\n",
      "Objective_pos  [284 442]\n"
     ]
    },
    {
     "name": "stderr",
     "output_type": "stream",
     "text": [
      "100%|██████████| 1/1 [00:00<00:00, 333.52it/s]\n"
     ]
    },
    {
     "name": "stdout",
     "output_type": "stream",
     "text": [
      "Target node:  2\n",
      "Distance: 188.75711907104326 degrees: 182.77197545007743\n",
      "angle calculé:  182.77197545007743\n",
      "Robotx:  177.0 Roboty:  286.5 Robotangle:  127.30394827798344\n",
      "Objective_pos  [284 442]\n",
      "Distance: 188.75711907104326 degrees: 182.77197545007743\n"
     ]
    },
    {
     "name": "stderr",
     "output_type": "stream",
     "text": [
      "100%|██████████| 1/1 [00:00<00:00, 334.90it/s]"
     ]
    },
    {
     "name": "stdout",
     "output_type": "stream",
     "text": [
      "Distance: 188.75711907104326 degrees: 182.77197545007743\n"
     ]
    },
    {
     "name": "stderr",
     "output_type": "stream",
     "text": [
      "\n",
      "100%|██████████| 1/1 [00:00<00:00, 333.60it/s]\n"
     ]
    },
    {
     "name": "stdout",
     "output_type": "stream",
     "text": [
      "Distance: 188.75711907104326 degrees: 182.77197545007743\n"
     ]
    },
    {
     "name": "stderr",
     "output_type": "stream",
     "text": [
      "100%|██████████| 1/1 [00:00<00:00, 333.41it/s]\n"
     ]
    },
    {
     "name": "stdout",
     "output_type": "stream",
     "text": [
      "Distance: 188.75711907104326 degrees: 182.77197545007743\n"
     ]
    },
    {
     "name": "stderr",
     "output_type": "stream",
     "text": [
      "100%|██████████| 1/1 [00:00<00:00, 500.22it/s]\n"
     ]
    },
    {
     "name": "stdout",
     "output_type": "stream",
     "text": [
      "Distance: 188.75711907104326 degrees: 182.77197545007743\n"
     ]
    },
    {
     "name": "stderr",
     "output_type": "stream",
     "text": [
      "100%|██████████| 1/1 [00:00<00:00, 250.20it/s]\n"
     ]
    },
    {
     "name": "stdout",
     "output_type": "stream",
     "text": [
      "Distance: 188.75711907104326 degrees: 182.77197545007743\n"
     ]
    },
    {
     "name": "stderr",
     "output_type": "stream",
     "text": [
      "100%|██████████| 1/1 [00:00<00:00, 250.15it/s]\n"
     ]
    },
    {
     "name": "stdout",
     "output_type": "stream",
     "text": [
      "Distance: 188.75711907104326 degrees: 182.77197545007743\n"
     ]
    },
    {
     "name": "stderr",
     "output_type": "stream",
     "text": [
      "100%|██████████| 1/1 [00:00<00:00, 200.11it/s]\n"
     ]
    },
    {
     "name": "stdout",
     "output_type": "stream",
     "text": [
      "Distance: 188.75711907104326 degrees: 182.77197545007743\n"
     ]
    },
    {
     "name": "stderr",
     "output_type": "stream",
     "text": [
      "100%|██████████| 1/1 [00:00<00:00, 142.86it/s]\n"
     ]
    },
    {
     "name": "stdout",
     "output_type": "stream",
     "text": [
      "Distance: 188.75711907104326 degrees: 182.77197545007743\n"
     ]
    },
    {
     "name": "stderr",
     "output_type": "stream",
     "text": [
      "100%|██████████| 1/1 [00:00<00:00, 200.11it/s]\n"
     ]
    },
    {
     "name": "stdout",
     "output_type": "stream",
     "text": [
      "Distance: 188.75711907104326 degrees: 182.77197545007743\n"
     ]
    },
    {
     "name": "stderr",
     "output_type": "stream",
     "text": [
      "100%|██████████| 1/1 [00:00<00:00, 250.24it/s]\n"
     ]
    },
    {
     "name": "stdout",
     "output_type": "stream",
     "text": [
      "Distance: 188.75711907104326 degrees: 182.77197545007743\n"
     ]
    },
    {
     "name": "stderr",
     "output_type": "stream",
     "text": [
      "100%|██████████| 1/1 [00:00<00:00, 250.17it/s]\n"
     ]
    },
    {
     "name": "stdout",
     "output_type": "stream",
     "text": [
      "Distance: 188.75711907104326 degrees: 182.77197545007743\n"
     ]
    },
    {
     "name": "stderr",
     "output_type": "stream",
     "text": [
      "100%|██████████| 1/1 [00:00<00:00, 200.14it/s]\n"
     ]
    },
    {
     "name": "stdout",
     "output_type": "stream",
     "text": [
      "Distance: 188.75711907104326 degrees: 182.77197545007743\n"
     ]
    },
    {
     "name": "stderr",
     "output_type": "stream",
     "text": [
      "100%|██████████| 1/1 [00:00<00:00, 166.79it/s]\n"
     ]
    },
    {
     "name": "stdout",
     "output_type": "stream",
     "text": [
      "Distance: 188.75711907104326 degrees: 182.77197545007743\n"
     ]
    },
    {
     "name": "stderr",
     "output_type": "stream",
     "text": [
      "100%|██████████| 1/1 [00:00<00:00, 249.90it/s]\n"
     ]
    },
    {
     "name": "stdout",
     "output_type": "stream",
     "text": [
      "Distance: 188.75711907104326 degrees: 182.77197545007743\n"
     ]
    },
    {
     "name": "stderr",
     "output_type": "stream",
     "text": [
      "100%|██████████| 1/1 [00:00<00:00, 200.11it/s]"
     ]
    },
    {
     "name": "stdout",
     "output_type": "stream",
     "text": [
      "Distance: 188.75711907104326"
     ]
    },
    {
     "name": "stderr",
     "output_type": "stream",
     "text": [
      "\n"
     ]
    },
    {
     "name": "stdout",
     "output_type": "stream",
     "text": [
      " degrees: 182.77197545007743\n"
     ]
    },
    {
     "name": "stderr",
     "output_type": "stream",
     "text": [
      "100%|██████████| 1/1 [00:00<00:00, 250.18it/s]\n"
     ]
    },
    {
     "name": "stdout",
     "output_type": "stream",
     "text": [
      "Distance: 188.75711907104326 degrees: 182.77197545007743\n"
     ]
    },
    {
     "name": "stderr",
     "output_type": "stream",
     "text": [
      "100%|██████████| 1/1 [00:00<00:00, 250.05it/s]\n"
     ]
    },
    {
     "name": "stdout",
     "output_type": "stream",
     "text": [
      "Distance: 188.75711907104326 degrees: 182.77197545007743\n"
     ]
    },
    {
     "name": "stderr",
     "output_type": "stream",
     "text": [
      "100%|██████████| 1/1 [00:00<00:00, 166.76it/s]\n"
     ]
    },
    {
     "name": "stdout",
     "output_type": "stream",
     "text": [
      "Distance: 188.75711907104326 degrees: 182.77197545007743\n"
     ]
    },
    {
     "name": "stderr",
     "output_type": "stream",
     "text": [
      "100%|██████████| 1/1 [00:00<00:00, 200.84it/s]\n"
     ]
    },
    {
     "name": "stdout",
     "output_type": "stream",
     "text": [
      "Distance: 188.75711907104326 degrees: 182.77197545007743\n"
     ]
    },
    {
     "name": "stderr",
     "output_type": "stream",
     "text": [
      "100%|██████████| 1/1 [00:00<00:00, 166.60it/s]\n"
     ]
    },
    {
     "name": "stdout",
     "output_type": "stream",
     "text": [
      "Distance: 188.75711907104326 degrees: 182.77197545007743\n"
     ]
    },
    {
     "name": "stderr",
     "output_type": "stream",
     "text": [
      "100%|██████████| 1/1 [00:00<00:00, 250.14it/s]\n"
     ]
    },
    {
     "name": "stdout",
     "output_type": "stream",
     "text": [
      "Distance: 188.75711907104326 degrees: 182.77197545007743\n"
     ]
    },
    {
     "name": "stderr",
     "output_type": "stream",
     "text": [
      "100%|██████████| 1/1 [00:00<00:00, 166.75it/s]\n"
     ]
    },
    {
     "name": "stdout",
     "output_type": "stream",
     "text": [
      "Distance: 188.75711907104326 degrees: 182.77197545007743\n"
     ]
    },
    {
     "name": "stderr",
     "output_type": "stream",
     "text": [
      "100%|██████████| 1/1 [00:00<00:00, 250.15it/s]"
     ]
    },
    {
     "name": "stdout",
     "output_type": "stream",
     "text": [
      "Distance: 188.75711907104326"
     ]
    },
    {
     "name": "stderr",
     "output_type": "stream",
     "text": [
      "\n"
     ]
    },
    {
     "name": "stdout",
     "output_type": "stream",
     "text": [
      " degrees: 182.77197545007743\n"
     ]
    },
    {
     "name": "stderr",
     "output_type": "stream",
     "text": [
      "100%|██████████| 1/1 [00:00<00:00, 333.44it/s]\n"
     ]
    },
    {
     "name": "stdout",
     "output_type": "stream",
     "text": [
      "Distance: 188.75711907104326 degrees: 182.77197545007743\n"
     ]
    },
    {
     "name": "stderr",
     "output_type": "stream",
     "text": [
      "100%|██████████| 1/1 [00:00<00:00, 250.18it/s]\n"
     ]
    },
    {
     "name": "stdout",
     "output_type": "stream",
     "text": [
      "Distance: 188.75711907104326 degrees: 182.77197545007743\n"
     ]
    },
    {
     "name": "stderr",
     "output_type": "stream",
     "text": [
      "100%|██████████| 1/1 [00:00<00:00, 166.56it/s]\n"
     ]
    },
    {
     "name": "stdout",
     "output_type": "stream",
     "text": [
      "Distance: 188.75711907104326 degrees: 182.77197545007743\n"
     ]
    },
    {
     "name": "stderr",
     "output_type": "stream",
     "text": [
      "100%|██████████| 1/1 [00:00<00:00, 200.13it/s]\n"
     ]
    },
    {
     "name": "stdout",
     "output_type": "stream",
     "text": [
      "Distance: 188.75711907104326 degrees: 182.77197545007743\n"
     ]
    },
    {
     "name": "stderr",
     "output_type": "stream",
     "text": [
      "100%|██████████| 1/1 [00:00<00:00, 166.77it/s]"
     ]
    },
    {
     "name": "stdout",
     "output_type": "stream",
     "text": [
      "Distance: 188.75711907104326 degrees: 182.77197545007743\n"
     ]
    },
    {
     "name": "stderr",
     "output_type": "stream",
     "text": [
      "\n",
      "100%|██████████| 1/1 [00:00<00:00, 250.21it/s]\n"
     ]
    },
    {
     "name": "stdout",
     "output_type": "stream",
     "text": [
      "Distance: 188.75711907104326 degrees: 182.77197545007743\n"
     ]
    },
    {
     "name": "stderr",
     "output_type": "stream",
     "text": [
      "100%|██████████| 1/1 [00:00<00:00, 250.14it/s]\n"
     ]
    },
    {
     "name": "stdout",
     "output_type": "stream",
     "text": [
      "Distance: 188.75711907104326 degrees: 182.77197545007743\n"
     ]
    },
    {
     "name": "stderr",
     "output_type": "stream",
     "text": [
      "100%|██████████| 1/1 [00:00<00:00, 250.18it/s]\n"
     ]
    },
    {
     "name": "stdout",
     "output_type": "stream",
     "text": [
      "Distance: 188.75711907104326 degrees: 182.77197545007743\n"
     ]
    },
    {
     "name": "stderr",
     "output_type": "stream",
     "text": [
      "100%|██████████| 1/1 [00:00<00:00, 250.38it/s]\n"
     ]
    },
    {
     "name": "stdout",
     "output_type": "stream",
     "text": [
      "Distance: 202.8823550730817 degrees: 97.7322161093193\n"
     ]
    },
    {
     "name": "stderr",
     "output_type": "stream",
     "text": [
      "100%|██████████| 1/1 [00:00<00:00, 333.49it/s]\n"
     ]
    },
    {
     "name": "stdout",
     "output_type": "stream",
     "text": [
      "Distance: 203.58843287377601 degrees: 94.63415992355067\n"
     ]
    },
    {
     "name": "stderr",
     "output_type": "stream",
     "text": [
      "100%|██████████| 1/1 [00:00<00:00, 250.15it/s]\n"
     ]
    },
    {
     "name": "stdout",
     "output_type": "stream",
     "text": [
      "Distance: 204.66680238866292 degrees: 93.16884970997316\n"
     ]
    },
    {
     "name": "stderr",
     "output_type": "stream",
     "text": [
      "100%|██████████| 1/1 [00:00<00:00, 250.21it/s]"
     ]
    },
    {
     "name": "stdout",
     "output_type": "stream",
     "text": [
      "Distance: 204.66680238866292"
     ]
    },
    {
     "name": "stderr",
     "output_type": "stream",
     "text": [
      "\n"
     ]
    },
    {
     "name": "stdout",
     "output_type": "stream",
     "text": [
      " degrees: 93.16884970997316\n"
     ]
    },
    {
     "name": "stderr",
     "output_type": "stream",
     "text": [
      "100%|██████████| 1/1 [00:00<00:00, 250.21it/s]"
     ]
    },
    {
     "name": "stdout",
     "output_type": "stream",
     "text": [
      "Distance: 205.37283169883986"
     ]
    },
    {
     "name": "stderr",
     "output_type": "stream",
     "text": [
      "\n"
     ]
    },
    {
     "name": "stdout",
     "output_type": "stream",
     "text": [
      " degrees: 90.03581433432356\n"
     ]
    },
    {
     "name": "stderr",
     "output_type": "stream",
     "text": [
      "100%|██████████| 1/1 [00:00<00:00, 250.23it/s]"
     ]
    },
    {
     "name": "stdout",
     "output_type": "stream",
     "text": [
      "Distance: 205.74559533559886"
     ]
    },
    {
     "name": "stderr",
     "output_type": "stream",
     "text": [
      "\n"
     ]
    },
    {
     "name": "stdout",
     "output_type": "stream",
     "text": [
      " degrees: 88.61536514424661\n"
     ]
    },
    {
     "name": "stderr",
     "output_type": "stream",
     "text": [
      "100%|██████████| 1/1 [00:00<00:00, 250.17it/s]"
     ]
    },
    {
     "name": "stdout",
     "output_type": "stream",
     "text": [
      "Distance: 205.74559533559886 degrees: -91.3846348557534\n"
     ]
    },
    {
     "name": "stderr",
     "output_type": "stream",
     "text": [
      "\n",
      "100%|██████████| 1/1 [00:00<00:00, 250.18it/s]"
     ]
    },
    {
     "name": "stdout",
     "output_type": "stream",
     "text": [
      "Distance: 206.11889772653063 degrees: -91.8510527634077\n"
     ]
    },
    {
     "name": "stderr",
     "output_type": "stream",
     "text": [
      "\n",
      "100%|██████████| 1/1 [00:00<00:00, 250.23it/s]"
     ]
    },
    {
     "name": "stdout",
     "output_type": "stream",
     "text": [
      "Distance: 205.4555913086816 degrees: -92.7884583910895\n"
     ]
    },
    {
     "name": "stderr",
     "output_type": "stream",
     "text": [
      "\n",
      "100%|██████████| 1/1 [00:00<00:00, 250.17it/s]"
     ]
    },
    {
     "name": "stdout",
     "output_type": "stream",
     "text": [
      "Distance: 206.86710710018642 degrees: -94.89950097110656\n"
     ]
    },
    {
     "name": "stderr",
     "output_type": "stream",
     "text": [
      "\n",
      "100%|██████████| 1/1 [00:00<00:00, 166.76it/s]\n"
     ]
    },
    {
     "name": "stdout",
     "output_type": "stream",
     "text": [
      "Distance: 206.86710710018642 degrees: -94.89950097110656\n"
     ]
    },
    {
     "name": "stderr",
     "output_type": "stream",
     "text": [
      "100%|██████████| 1/1 [00:00<00:00, 142.94it/s]\n"
     ]
    },
    {
     "name": "stdout",
     "output_type": "stream",
     "text": [
      "Distance: 206.86710710018642 degrees: -96.96400896195746\n"
     ]
    },
    {
     "name": "stderr",
     "output_type": "stream",
     "text": [
      "100%|██████████| 1/1 [00:00<00:00, 200.11it/s]\n"
     ]
    },
    {
     "name": "stdout",
     "output_type": "stream",
     "text": [
      "Distance: 207.9477097733947 degrees: -98.52460395001745\n"
     ]
    },
    {
     "name": "stderr",
     "output_type": "stream",
     "text": [
      "100%|██████████| 1/1 [00:00<00:00, 166.64it/s]\n"
     ]
    },
    {
     "name": "stdout",
     "output_type": "stream",
     "text": [
      "Distance: 207.6174366473105 degrees: -100.07136602035233\n"
     ]
    },
    {
     "name": "stderr",
     "output_type": "stream",
     "text": [
      "100%|██████████| 1/1 [00:00<00:00, 200.38it/s]\n"
     ]
    },
    {
     "name": "stdout",
     "output_type": "stream",
     "text": [
      "Distance: 208.32306641368353 degrees: -102.39316989700698\n"
     ]
    },
    {
     "name": "stderr",
     "output_type": "stream",
     "text": [
      "100%|██████████| 1/1 [00:00<00:00, 250.18it/s]\n"
     ]
    },
    {
     "name": "stdout",
     "output_type": "stream",
     "text": [
      "Distance: 208.69894585263242 degrees: -104.97981159073768\n"
     ]
    },
    {
     "name": "stderr",
     "output_type": "stream",
     "text": [
      "100%|██████████| 1/1 [00:00<00:00, 166.74it/s]\n"
     ]
    },
    {
     "name": "stdout",
     "output_type": "stream",
     "text": [
      "Distance: 209.40451284535393 degrees: -105.98400491092337\n"
     ]
    },
    {
     "name": "stderr",
     "output_type": "stream",
     "text": [
      "100%|██████████| 1/1 [00:00<00:00, 142.78it/s]\n"
     ]
    },
    {
     "name": "stdout",
     "output_type": "stream",
     "text": [
      "Distance: 209.45226186412978 degrees: -106.7702333049603\n"
     ]
    },
    {
     "name": "stderr",
     "output_type": "stream",
     "text": [
      "100%|██████████| 1/1 [00:00<00:00, 250.11it/s]\n"
     ]
    },
    {
     "name": "stdout",
     "output_type": "stream",
     "text": [
      "Distance: 210.535032714273 degrees: -109.70500891868568\n"
     ]
    },
    {
     "name": "stderr",
     "output_type": "stream",
     "text": [
      "100%|██████████| 1/1 [00:00<00:00, 250.17it/s]\n"
     ]
    },
    {
     "name": "stdout",
     "output_type": "stream",
     "text": [
      "Distance: 211.67014432838656 degrees: -113.42356468016487\n"
     ]
    },
    {
     "name": "stderr",
     "output_type": "stream",
     "text": [
      "100%|██████████| 1/1 [00:00<00:00, 166.75it/s]"
     ]
    },
    {
     "name": "stdout",
     "output_type": "stream",
     "text": [
      "Distance: 212.37525750425826 degrees: -117.20797965568292\n"
     ]
    },
    {
     "name": "stderr",
     "output_type": "stream",
     "text": [
      "\n",
      "100%|██████████| 1/1 [00:00<00:00, 250.17it/s]"
     ]
    },
    {
     "name": "stdout",
     "output_type": "stream",
     "text": [
      "Distance: 214.21951358361358 degrees: -120.01876699741467\n"
     ]
    },
    {
     "name": "stderr",
     "output_type": "stream",
     "text": [
      "\n",
      "100%|██████████| 1/1 [00:00<00:00, 250.32it/s]\n"
     ]
    },
    {
     "name": "stdout",
     "output_type": "stream",
     "text": [
      "Distance: 215.74522010927612 degrees: -127.17592560545407\n"
     ]
    },
    {
     "name": "stderr",
     "output_type": "stream",
     "text": [
      "100%|██████████| 1/1 [00:00<00:00, 200.10it/s]\n"
     ]
    },
    {
     "name": "stdout",
     "output_type": "stream",
     "text": [
      "Distance: 216.1278556780685 degrees: -127.82360132273517\n"
     ]
    },
    {
     "name": "stderr",
     "output_type": "stream",
     "text": [
      "100%|██████████| 1/1 [00:00<00:00, 200.13it/s]"
     ]
    },
    {
     "name": "stdout",
     "output_type": "stream",
     "text": [
      "Distance: 217.27862297059966 degrees: 228.75939117088652\n"
     ]
    },
    {
     "name": "stderr",
     "output_type": "stream",
     "text": [
      "\n",
      "100%|██████████| 1/1 [00:00<00:00, 250.09it/s]\n"
     ]
    },
    {
     "name": "stdout",
     "output_type": "stream",
     "text": [
      "Distance: 217.66315719478112 degrees: 228.10979247829647\n"
     ]
    },
    {
     "name": "stderr",
     "output_type": "stream",
     "text": [
      "100%|██████████| 1/1 [00:00<00:00, 200.10it/s]\n"
     ]
    },
    {
     "name": "stdout",
     "output_type": "stream",
     "text": [
      "Distance: 218.81956036881164 degrees: 224.70719523531506\n"
     ]
    },
    {
     "name": "stderr",
     "output_type": "stream",
     "text": [
      "100%|██████████| 1/1 [00:00<00:00, 199.90it/s]\n"
     ]
    },
    {
     "name": "stdout",
     "output_type": "stream",
     "text": [
      "Distance: 218.43362836340012 degrees: 223.89795324198653\n"
     ]
    },
    {
     "name": "stderr",
     "output_type": "stream",
     "text": [
      "100%|██████████| 1/1 [00:00<00:00, 142.96it/s]\n"
     ]
    },
    {
     "name": "stdout",
     "output_type": "stream",
     "text": [
      "Distance: 219.66451693434695 degrees: 219.8890112822213\n"
     ]
    },
    {
     "name": "stderr",
     "output_type": "stream",
     "text": [
      "100%|██████████| 1/1 [00:00<00:00, 166.79it/s]\n"
     ]
    },
    {
     "name": "stdout",
     "output_type": "stream",
     "text": [
      "Distance: 219.66451693434695 degrees: 219.8890112822213\n"
     ]
    },
    {
     "name": "stderr",
     "output_type": "stream",
     "text": [
      "100%|██████████| 1/1 [00:00<00:00, 166.76it/s]\n"
     ]
    },
    {
     "name": "stdout",
     "output_type": "stream",
     "text": [
      "Distance: 220.51757299589528 degrees: 216.51547346865155\n"
     ]
    },
    {
     "name": "stderr",
     "output_type": "stream",
     "text": [
      "100%|██████████| 1/1 [00:00<00:00, 200.14it/s]\n"
     ]
    },
    {
     "name": "stdout",
     "output_type": "stream",
     "text": [
      "Distance: 220.51757299589528 degrees: 215.1146975248388\n"
     ]
    },
    {
     "name": "stderr",
     "output_type": "stream",
     "text": [
      "100%|██████████| 1/1 [00:00<00:00, 166.78it/s]\n"
     ]
    },
    {
     "name": "stdout",
     "output_type": "stream",
     "text": [
      "Distance: 220.90778619143327 degrees: 214.50271912023354\n"
     ]
    },
    {
     "name": "stderr",
     "output_type": "stream",
     "text": [
      "100%|██████████| 1/1 [00:00<00:00, 333.54it/s]\n"
     ]
    },
    {
     "name": "stdout",
     "output_type": "stream",
     "text": [
      "Distance: 221.46105752479374 degrees: 211.0590905198238\n"
     ]
    },
    {
     "name": "stderr",
     "output_type": "stream",
     "text": [
      "100%|██████████| 1/1 [00:00<00:00, 200.11it/s]\n"
     ]
    },
    {
     "name": "stdout",
     "output_type": "stream",
     "text": [
      "Distance: 221.85411873571334 degrees: 210.46472117045718\n"
     ]
    },
    {
     "name": "stderr",
     "output_type": "stream",
     "text": [
      "100%|██████████| 1/1 [00:00<00:00, 166.76it/s]\n"
     ]
    },
    {
     "name": "stdout",
     "output_type": "stream",
     "text": [
      "Distance: 222.3342078943319 degrees: 205.88366669674403\n"
     ]
    },
    {
     "name": "stderr",
     "output_type": "stream",
     "text": [
      "100%|██████████| 1/1 [00:00<00:00, 333.38it/s]\n"
     ]
    },
    {
     "name": "stdout",
     "output_type": "stream",
     "text": [
      "Distance: 222.3342078943319 degrees: 205.88366669674403\n"
     ]
    },
    {
     "name": "stderr",
     "output_type": "stream",
     "text": [
      "100%|██████████| 1/1 [00:00<00:00, 333.44it/s]\n"
     ]
    },
    {
     "name": "stdout",
     "output_type": "stream",
     "text": [
      "Distance: 222.91085662210352 degrees: 202.46331271858344\n"
     ]
    },
    {
     "name": "stderr",
     "output_type": "stream",
     "text": [
      "100%|██████████| 1/1 [00:00<00:00, 200.14it/s]\n"
     ]
    },
    {
     "name": "stdout",
     "output_type": "stream",
     "text": [
      "Distance: 222.60727750906977 degrees: 202.20125934235432\n"
     ]
    },
    {
     "name": "stderr",
     "output_type": "stream",
     "text": [
      "100%|██████████| 1/1 [00:00<00:00, 166.77it/s]\n"
     ]
    },
    {
     "name": "stdout",
     "output_type": "stream",
     "text": [
      "Distance: 223.30808314971495 degrees: 201.17845601823072\n"
     ]
    },
    {
     "name": "stderr",
     "output_type": "stream",
     "text": [
      "100%|██████████| 1/1 [00:00<00:00, 250.17it/s]\n"
     ]
    },
    {
     "name": "stdout",
     "output_type": "stream",
     "text": [
      "Distance: 223.6000894454204 degrees: 197.47465940098894\n"
     ]
    },
    {
     "name": "stderr",
     "output_type": "stream",
     "text": [
      "100%|██████████| 1/1 [00:00<00:00, 166.75it/s]\n"
     ]
    },
    {
     "name": "stdout",
     "output_type": "stream",
     "text": [
      "Distance: 223.20002240143256 degrees: 196.81180247528238\n"
     ]
    },
    {
     "name": "stderr",
     "output_type": "stream",
     "text": [
      "100%|██████████| 1/1 [00:00<00:00, 250.15it/s]\n"
     ]
    },
    {
     "name": "stdout",
     "output_type": "stream",
     "text": [
      "Distance: 223.40378242097873 degrees: 193.09897523780677\n"
     ]
    },
    {
     "name": "stderr",
     "output_type": "stream",
     "text": [
      "100%|██████████| 1/1 [00:00<00:00, 166.62it/s]\n"
     ]
    },
    {
     "name": "stdout",
     "output_type": "stream",
     "text": [
      "Distance: 223.80571931923456 degrees: 192.62533345679492\n"
     ]
    },
    {
     "name": "stderr",
     "output_type": "stream",
     "text": [
      "100%|██████████| 1/1 [00:00<00:00, 200.08it/s]\n"
     ]
    },
    {
     "name": "stdout",
     "output_type": "stream",
     "text": [
      "Distance: 224.0200883849482 degrees: 188.8974106692457\n"
     ]
    },
    {
     "name": "stderr",
     "output_type": "stream",
     "text": [
      "100%|██████████| 1/1 [00:00<00:00, 200.15it/s]\n"
     ]
    },
    {
     "name": "stdout",
     "output_type": "stream",
     "text": [
      "Distance: 223.72583668409868 degrees: 188.4847054552297\n"
     ]
    },
    {
     "name": "stderr",
     "output_type": "stream",
     "text": [
      "100%|██████████| 1/1 [00:00<00:00, 166.73it/s]\n"
     ]
    },
    {
     "name": "stdout",
     "output_type": "stream",
     "text": [
      "Distance: 224.13054231853366 degrees: 188.0529674104531\n"
     ]
    },
    {
     "name": "stderr",
     "output_type": "stream",
     "text": [
      "100%|██████████| 1/1 [00:00<00:00, 166.56it/s]\n"
     ]
    },
    {
     "name": "stdout",
     "output_type": "stream",
     "text": [
      "Distance: 224.35797289153777 degrees: 184.33047002593383\n"
     ]
    },
    {
     "name": "stderr",
     "output_type": "stream",
     "text": [
      "100%|██████████| 1/1 [00:00<00:00, 166.76it/s]\n"
     ]
    },
    {
     "name": "stdout",
     "output_type": "stream",
     "text": [
      "Distance: 224.06751214756682 degrees: 183.87715391829693\n"
     ]
    },
    {
     "name": "stderr",
     "output_type": "stream",
     "text": [
      "100%|██████████| 1/1 [00:00<00:00, 250.18it/s]\n"
     ]
    },
    {
     "name": "stdout",
     "output_type": "stream",
     "text": [
      "Distance: 224.30615238998683 degrees: 180.1796351448492\n"
     ]
    },
    {
     "name": "stderr",
     "output_type": "stream",
     "text": [
      "100%|██████████| 1/1 [00:00<00:00, 200.15it/s]\n"
     ]
    },
    {
     "name": "stdout",
     "output_type": "stream",
     "text": [
      "Distance: 223.85765566538035 degrees: 176.36807049146213\n"
     ]
    },
    {
     "name": "stderr",
     "output_type": "stream",
     "text": [
      "100%|██████████| 1/1 [00:00<00:00, 250.15it/s]\n"
     ]
    },
    {
     "name": "stdout",
     "output_type": "stream",
     "text": [
      "Distance: 224.11436812484826 degrees: 173.49596333487222\n"
     ]
    },
    {
     "name": "stderr",
     "output_type": "stream",
     "text": [
      "100%|██████████| 1/1 [00:00<00:00, 200.14it/s]\n"
     ]
    },
    {
     "name": "stdout",
     "output_type": "stream",
     "text": [
      "Distance: 223.27113561766106 degrees: 169.91655161797652\n"
     ]
    },
    {
     "name": "stderr",
     "output_type": "stream",
     "text": [
      "100%|██████████| 1/1 [00:00<00:00, 166.79it/s]\n"
     ]
    },
    {
     "name": "stdout",
     "output_type": "stream",
     "text": [
      "Distance: 223.12832630573823 degrees: 167.22361122972285\n"
     ]
    },
    {
     "name": "stderr",
     "output_type": "stream",
     "text": [
      "100%|██████████| 1/1 [00:00<00:00, 166.78it/s]"
     ]
    },
    {
     "name": "stdout",
     "output_type": "stream",
     "text": [
      "Distance: 223.13336819041655"
     ]
    },
    {
     "name": "stderr",
     "output_type": "stream",
     "text": [
      "\n"
     ]
    },
    {
     "name": "stdout",
     "output_type": "stream",
     "text": [
      " degrees: 163.75066248647641\n"
     ]
    },
    {
     "name": "stderr",
     "output_type": "stream",
     "text": [
      "100%|██████████| 1/1 [00:00<00:00, 166.77it/s]\n"
     ]
    },
    {
     "name": "stdout",
     "output_type": "stream",
     "text": [
      "Distance: 222.44100341438852 degrees: 162.8829099870058\n"
     ]
    },
    {
     "name": "stderr",
     "output_type": "stream",
     "text": [
      "100%|██████████| 1/1 [00:00<00:00, 250.21it/s]\n"
     ]
    },
    {
     "name": "stdout",
     "output_type": "stream",
     "text": [
      "Distance: 222.44100341438852 degrees: 161.48213404319307\n"
     ]
    },
    {
     "name": "stderr",
     "output_type": "stream",
     "text": [
      "100%|██████████| 1/1 [00:00<00:00, 166.73it/s]\n"
     ]
    },
    {
     "name": "stdout",
     "output_type": "stream",
     "text": [
      "Distance: 222.04166275724023 degrees: 158.15644420468522\n"
     ]
    },
    {
     "name": "stderr",
     "output_type": "stream",
     "text": [
      "100%|██████████| 1/1 [00:00<00:00, 166.67it/s]\n"
     ]
    },
    {
     "name": "stdout",
     "output_type": "stream",
     "text": [
      "Distance: 221.23121389171104 degrees: 154.85888074314846\n"
     ]
    },
    {
     "name": "stderr",
     "output_type": "stream",
     "text": [
      "100%|██████████| 1/1 [00:00<00:00, 166.75it/s]\n"
     ]
    },
    {
     "name": "stdout",
     "output_type": "stream",
     "text": [
      "Distance: 220.96266652989144 degrees: 154.23524251869858\n"
     ]
    },
    {
     "name": "stderr",
     "output_type": "stream",
     "text": [
      "100%|██████████| 1/1 [00:00<00:00, 200.20it/s]\n"
     ]
    },
    {
     "name": "stdout",
     "output_type": "stream",
     "text": [
      "Distance: 220.96266652989144 degrees: 152.763011535532\n"
     ]
    },
    {
     "name": "stderr",
     "output_type": "stream",
     "text": [
      "100%|██████████| 1/1 [00:00<00:00, 200.11it/s]\n"
     ]
    },
    {
     "name": "stdout",
     "output_type": "stream",
     "text": [
      "Distance: 220.42799277768694 degrees: 150.01914726283354\n"
     ]
    },
    {
     "name": "stderr",
     "output_type": "stream",
     "text": [
      "100%|██████████| 1/1 [00:00<00:00, 199.88it/s]\n"
     ]
    },
    {
     "name": "stdout",
     "output_type": "stream",
     "text": [
      "Distance: 219.63207871347026 degrees: 146.63118488202343\n"
     ]
    },
    {
     "name": "stderr",
     "output_type": "stream",
     "text": [
      "100%|██████████| 1/1 [00:00<00:00, 166.57it/s]\n"
     ]
    },
    {
     "name": "stdout",
     "output_type": "stream",
     "text": [
      "Distance: 219.36841158197777 degrees: 144.5146557306033\n"
     ]
    },
    {
     "name": "stderr",
     "output_type": "stream",
     "text": [
      "100%|██████████| 1/1 [00:00<00:00, 166.90it/s]\n"
     ]
    },
    {
     "name": "stdout",
     "output_type": "stream",
     "text": [
      "Distance: 219.10556816292916 degrees: 143.8855009026526\n"
     ]
    },
    {
     "name": "stderr",
     "output_type": "stream",
     "text": [
      "100%|██████████| 1/1 [00:00<00:00, 200.13it/s]\n"
     ]
    },
    {
     "name": "stdout",
     "output_type": "stream",
     "text": [
      "Distance: 218.15590755237412 degrees: 139.52310666589943\n"
     ]
    },
    {
     "name": "stderr",
     "output_type": "stream",
     "text": [
      "100%|██████████| 1/1 [00:00<00:00, 200.10it/s]\n"
     ]
    },
    {
     "name": "stdout",
     "output_type": "stream",
     "text": [
      "Distance: 218.58236433893745 degrees: 139.4739445192851\n"
     ]
    },
    {
     "name": "stderr",
     "output_type": "stream",
     "text": [
      "100%|██████████| 1/1 [00:00<00:00, 200.11it/s]\n"
     ]
    },
    {
     "name": "stdout",
     "output_type": "stream",
     "text": [
      "Distance: 217.20784976607084 degrees: 135.15598052754615\n"
     ]
    },
    {
     "name": "stderr",
     "output_type": "stream",
     "text": [
      "100%|██████████| 1/1 [00:00<00:00, 200.08it/s]\n"
     ]
    },
    {
     "name": "stdout",
     "output_type": "stream",
     "text": [
      "Distance: 216.6892936902975 degrees: 133.94611262507044\n"
     ]
    },
    {
     "name": "stderr",
     "output_type": "stream",
     "text": [
      "100%|██████████| 1/1 [00:00<00:00, 125.09it/s]\n"
     ]
    },
    {
     "name": "stdout",
     "output_type": "stream",
     "text": [
      "Distance: 215.74522010927612 degrees: 131.06710372776945\n"
     ]
    },
    {
     "name": "stderr",
     "output_type": "stream",
     "text": [
      "100%|██████████| 1/1 [00:00<00:00, 200.13it/s]\n"
     ]
    },
    {
     "name": "stdout",
     "output_type": "stream",
     "text": [
      "Distance: 215.74522010927612 degrees: 129.18102909860545\n"
     ]
    },
    {
     "name": "stderr",
     "output_type": "stream",
     "text": [
      "100%|██████████| 1/1 [00:00<00:00, 200.30it/s]\n"
     ]
    },
    {
     "name": "stdout",
     "output_type": "stream",
     "text": [
      "Distance: 214.29244037062998 degrees: 126.52023500482736\n"
     ]
    },
    {
     "name": "stderr",
     "output_type": "stream",
     "text": [
      "100%|██████████| 1/1 [00:00<00:00, 199.99it/s]"
     ]
    },
    {
     "name": "stdout",
     "output_type": "stream",
     "text": [
      "Distance: 213.86210510513544 degrees: 124.79069704223397\n"
     ]
    },
    {
     "name": "stderr",
     "output_type": "stream",
     "text": [
      "\n",
      "100%|██████████| 1/1 [00:00<00:00, 200.11it/s]"
     ]
    },
    {
     "name": "stdout",
     "output_type": "stream",
     "text": [
      "Distance: 212.49235280357738 degrees: 121.55515722014536\n"
     ]
    },
    {
     "name": "stderr",
     "output_type": "stream",
     "text": [
      "\n",
      "100%|██████████| 1/1 [00:00<00:00, 200.13it/s]\n"
     ]
    },
    {
     "name": "stdout",
     "output_type": "stream",
     "text": [
      "Distance: 212.2386628303147 degrees: 121.017281896484\n"
     ]
    },
    {
     "name": "stderr",
     "output_type": "stream",
     "text": [
      "100%|██████████| 1/1 [00:00<00:00, 166.87it/s]\n"
     ]
    },
    {
     "name": "stdout",
     "output_type": "stream",
     "text": [
      "Distance: 211.3019166974119 degrees: 117.49133587982759\n"
     ]
    },
    {
     "name": "stderr",
     "output_type": "stream",
     "text": [
      "100%|██████████| 1/1 [00:00<00:00, 200.14it/s]\n"
     ]
    },
    {
     "name": "stdout",
     "output_type": "stream",
     "text": [
      "Distance: 210.61813787041228 degrees: 116.50783805778076\n"
     ]
    },
    {
     "name": "stderr",
     "output_type": "stream",
     "text": [
      "100%|██████████| 1/1 [00:00<00:00, 250.08it/s]\n"
     ]
    },
    {
     "name": "stdout",
     "output_type": "stream",
     "text": [
      "Distance: 209.93451359888397 degrees: 112.21801017193303\n"
     ]
    },
    {
     "name": "stderr",
     "output_type": "stream",
     "text": [
      "100%|██████████| 1/1 [00:00<00:00, 250.12it/s]\n"
     ]
    },
    {
     "name": "stdout",
     "output_type": "stream",
     "text": [
      "Distance: 209.2510453976276 degrees: 111.22172144905045\n"
     ]
    },
    {
     "name": "stderr",
     "output_type": "stream",
     "text": [
      "100%|██████████| 1/1 [00:00<00:00, 166.75it/s]\n"
     ]
    },
    {
     "name": "stdout",
     "output_type": "stream",
     "text": [
      "Distance: 207.45180163112587 degrees: 107.53895276128235\n"
     ]
    },
    {
     "name": "stderr",
     "output_type": "stream",
     "text": [
      "100%|██████████| 1/1 [00:00<00:00, 142.86it/s]\n"
     ]
    },
    {
     "name": "stdout",
     "output_type": "stream",
     "text": [
      "Distance: 207.20159265797162 degrees: 107.11474433159114\n"
     ]
    },
    {
     "name": "stderr",
     "output_type": "stream",
     "text": [
      "100%|██████████| 1/1 [00:00<00:00, 200.15it/s]\n"
     ]
    },
    {
     "name": "stdout",
     "output_type": "stream",
     "text": [
      "Distance: 206.7685904580287 degrees: 106.53952124462242\n"
     ]
    },
    {
     "name": "stderr",
     "output_type": "stream",
     "text": [
      "100%|██████████| 1/1 [00:00<00:00, 200.09it/s]\n"
     ]
    },
    {
     "name": "stdout",
     "output_type": "stream",
     "text": [
      "Distance: 205.4026533421611 degrees: 102.43841981076005\n"
     ]
    },
    {
     "name": "stderr",
     "output_type": "stream",
     "text": [
      "100%|██████████| 1/1 [00:00<00:00, 200.16it/s]\n"
     ]
    },
    {
     "name": "stdout",
     "output_type": "stream",
     "text": [
      "Distance: 204.7199306369558 degrees: 101.44176267246752\n"
     ]
    },
    {
     "name": "stderr",
     "output_type": "stream",
     "text": [
      "100%|██████████| 1/1 [00:00<00:00, 250.17it/s]\n"
     ]
    },
    {
     "name": "stdout",
     "output_type": "stream",
     "text": [
      "Distance: 203.60378189021932 degrees: 97.71200557803242\n"
     ]
    },
    {
     "name": "stderr",
     "output_type": "stream",
     "text": [
      "100%|██████████| 1/1 [00:00<00:00, 200.40it/s]\n"
     ]
    },
    {
     "name": "stdout",
     "output_type": "stream",
     "text": [
      "Distance: 203.35498518600423 degrees: 96.19255865114852\n"
     ]
    },
    {
     "name": "stderr",
     "output_type": "stream",
     "text": [
      "100%|██████████| 1/1 [00:00<00:00, 200.11it/s]\n"
     ]
    },
    {
     "name": "stdout",
     "output_type": "stream",
     "text": [
      "Distance: 201.8049801169436 degrees: 93.00054323018024\n"
     ]
    },
    {
     "name": "stderr",
     "output_type": "stream",
     "text": [
      "100%|██████████| 1/1 [00:00<00:00, 166.75it/s]\n"
     ]
    },
    {
     "name": "stdout",
     "output_type": "stream",
     "text": [
      "Distance: 200.2554618481104 degrees: 88.59358205668508\n"
     ]
    },
    {
     "name": "stderr",
     "output_type": "stream",
     "text": [
      "100%|██████████| 1/1 [00:00<00:00, 250.17it/s]\n"
     ]
    },
    {
     "name": "stdout",
     "output_type": "stream",
     "text": [
      "Distance: 199.5726684694074 degrees: 84.35616696040307\n"
     ]
    },
    {
     "name": "stderr",
     "output_type": "stream",
     "text": [
      "100%|██████████| 2/2 [00:00<00:00, 285.87it/s]\n"
     ]
    },
    {
     "name": "stdout",
     "output_type": "stream",
     "text": [
      "Distance: 198.0233572081839 degrees: 80.55994695648022\n"
     ]
    },
    {
     "name": "stderr",
     "output_type": "stream",
     "text": [
      "100%|██████████| 2/2 [00:00<00:00, 222.36it/s]\n"
     ]
    },
    {
     "name": "stdout",
     "output_type": "stream",
     "text": [
      "Distance: 196.47455305967742 degrees: 76.25966437964314\n"
     ]
    },
    {
     "name": "stderr",
     "output_type": "stream",
     "text": [
      "100%|██████████| 2/2 [00:00<00:00, 285.90it/s]\n"
     ]
    },
    {
     "name": "stdout",
     "output_type": "stream",
     "text": [
      "Distance: 195.79134301597708 degrees: 75.80782241612982\n"
     ]
    },
    {
     "name": "stderr",
     "output_type": "stream",
     "text": [
      "100%|██████████| 1/1 [00:00<00:00, 250.17it/s]"
     ]
    },
    {
     "name": "stdout",
     "output_type": "stream",
     "text": [
      "Distance: 194.92626811181708 degrees: 72.42622247940609\n"
     ]
    },
    {
     "name": "stderr",
     "output_type": "stream",
     "text": [
      "\n",
      "100%|██████████| 1/1 [00:00<00:00, 111.17it/s]\n"
     ]
    },
    {
     "name": "stdout",
     "output_type": "stream",
     "text": [
      "Distance: 193.37851483554215 degrees: 68.5801943055274\n"
     ]
    },
    {
     "name": "stderr",
     "output_type": "stream",
     "text": [
      "100%|██████████| 1/1 [00:00<00:00, 166.76it/s]\n"
     ]
    },
    {
     "name": "stdout",
     "output_type": "stream",
     "text": [
      "Distance: 192.94688388258567 degrees: 67.77747762651899\n"
     ]
    },
    {
     "name": "stderr",
     "output_type": "stream",
     "text": [
      "100%|██████████| 1/1 [00:00<00:00, 200.11it/s]\n"
     ]
    },
    {
     "name": "stdout",
     "output_type": "stream",
     "text": [
      "Distance: 192.08461677083878 degrees: 63.21193517765659\n"
     ]
    },
    {
     "name": "stderr",
     "output_type": "stream",
     "text": [
      "100%|██████████| 1/1 [00:00<00:00, 250.12it/s]"
     ]
    },
    {
     "name": "stdout",
     "output_type": "stream",
     "text": [
      "Distance: 190.53870997778904 degrees: 59.397238201944894\n"
     ]
    },
    {
     "name": "stderr",
     "output_type": "stream",
     "text": [
      "\n",
      "100%|██████████| 1/1 [00:00<00:00, 166.56it/s]\n"
     ]
    },
    {
     "name": "stdout",
     "output_type": "stream",
     "text": [
      "Distance: 190.36412477144953 degrees: 58.447037346135275\n"
     ]
    },
    {
     "name": "stderr",
     "output_type": "stream",
     "text": [
      "100%|██████████| 1/1 [00:00<00:00, 200.12it/s]\n"
     ]
    },
    {
     "name": "stdout",
     "output_type": "stream",
     "text": [
      "Distance: 190.1085216396151 degrees: 57.11792514506234\n"
     ]
    },
    {
     "name": "stderr",
     "output_type": "stream",
     "text": [
      "100%|██████████| 1/1 [00:00<00:00, 166.70it/s]\n"
     ]
    },
    {
     "name": "stdout",
     "output_type": "stream",
     "text": [
      "Distance: 189.07736511809128 degrees: 53.02676314959162\n"
     ]
    },
    {
     "name": "stderr",
     "output_type": "stream",
     "text": [
      "100%|██████████| 1/1 [00:00<00:00, 200.13it/s]\n"
     ]
    },
    {
     "name": "stdout",
     "output_type": "stream",
     "text": [
      "Distance: 188.64914524057616 degrees: 52.21332274759403\n"
     ]
    },
    {
     "name": "stderr",
     "output_type": "stream",
     "text": [
      "100%|██████████| 1/1 [00:00<00:00, 200.30it/s]"
     ]
    },
    {
     "name": "stdout",
     "output_type": "stream",
     "text": [
      "Distance: 188.05384867106548 degrees: 48.88544662547484\n"
     ]
    },
    {
     "name": "stderr",
     "output_type": "stream",
     "text": [
      "\n",
      "100%|██████████| 2/2 [00:00<00:00, 200.12it/s]\n"
     ]
    },
    {
     "name": "stdout",
     "output_type": "stream",
     "text": [
      "Distance: 187.62729012593024 degrees: 46.62387259615805\n"
     ]
    },
    {
     "name": "stderr",
     "output_type": "stream",
     "text": [
      "100%|██████████| 2/2 [00:00<00:00, 222.26it/s]\n"
     ]
    },
    {
     "name": "stdout",
     "output_type": "stream",
     "text": [
      "Distance: 186.3498054734697 degrees: 44.235398540621986\n"
     ]
    },
    {
     "name": "stderr",
     "output_type": "stream",
     "text": [
      "100%|██████████| 2/2 [00:00<00:00, 200.09it/s]\n"
     ]
    },
    {
     "name": "stdout",
     "output_type": "stream",
     "text": [
      "Distance: 186.61323640085126 degrees: 42.498823300506686\n"
     ]
    },
    {
     "name": "stderr",
     "output_type": "stream",
     "text": [
      "100%|██████████| 1/1 [00:00<00:00, 200.05it/s]\n"
     ]
    },
    {
     "name": "stdout",
     "output_type": "stream",
     "text": [
      "Distance: 185.76463603172698 degrees: 39.54332109939151\n"
     ]
    },
    {
     "name": "stderr",
     "output_type": "stream",
     "text": [
      "100%|██████████| 1/1 [00:00<00:00, 166.61it/s]\n"
     ]
    },
    {
     "name": "stdout",
     "output_type": "stream",
     "text": [
      "Distance: 185.60711193270586 degrees: 38.40657160536391\n"
     ]
    },
    {
     "name": "stderr",
     "output_type": "stream",
     "text": [
      "100%|██████████| 1/1 [00:00<00:00, 200.15it/s]\n"
     ]
    },
    {
     "name": "stdout",
     "output_type": "stream",
     "text": [
      "Distance: 184.76200908195386 degrees: 34.98029487804024\n"
     ]
    },
    {
     "name": "stderr",
     "output_type": "stream",
     "text": [
      "100%|██████████| 1/1 [00:00<00:00, 200.12it/s]\n"
     ]
    },
    {
     "name": "stdout",
     "output_type": "stream",
     "text": [
      "Distance: 184.34003905825776 degrees: 34.22232521691996\n"
     ]
    },
    {
     "name": "stderr",
     "output_type": "stream",
     "text": [
      "100%|██████████| 1/1 [00:00<00:00, 200.14it/s]\n"
     ]
    },
    {
     "name": "stdout",
     "output_type": "stream",
     "text": [
      "Distance: 183.7675161719285 degrees: 30.321703537981275\n"
     ]
    },
    {
     "name": "stderr",
     "output_type": "stream",
     "text": [
      "100%|██████████| 1/1 [00:00<00:00, 200.18it/s]"
     ]
    },
    {
     "name": "stdout",
     "output_type": "stream",
     "text": [
      "Distance: 184.18808321930058 degrees: 29.749343179642175\n"
     ]
    },
    {
     "name": "stderr",
     "output_type": "stream",
     "text": [
      "\n",
      "100%|██████████| 1/1 [00:00<00:00, 250.30it/s]"
     ]
    },
    {
     "name": "stdout",
     "output_type": "stream",
     "text": [
      "Distance: 184.0387187523321 degrees: 27.25153036382028\n"
     ]
    },
    {
     "name": "stderr",
     "output_type": "stream",
     "text": [
      "\n",
      "100%|██████████| 1/1 [00:00<00:00, 166.73it/s]\n"
     ]
    },
    {
     "name": "stdout",
     "output_type": "stream",
     "text": [
      "Distance: 183.61917111238685 degrees: 26.53674997932383\n"
     ]
    },
    {
     "name": "stderr",
     "output_type": "stream",
     "text": [
      "100%|██████████| 1/1 [00:00<00:00, 200.11it/s]\n"
     ]
    },
    {
     "name": "stdout",
     "output_type": "stream",
     "text": [
      "Distance: 183.05531950751936 degrees: 22.60560150805027\n"
     ]
    },
    {
     "name": "stderr",
     "output_type": "stream",
     "text": [
      "100%|██████████| 1/1 [00:00<00:00, 250.18it/s]\n"
     ]
    },
    {
     "name": "stdout",
     "output_type": "stream",
     "text": [
      "Distance: 182.7812900709479 degrees: 21.12488777813764\n"
     ]
    },
    {
     "name": "stderr",
     "output_type": "stream",
     "text": [
      "100%|██████████| 1/1 [00:00<00:00, 200.14it/s]\n"
     ]
    },
    {
     "name": "stdout",
     "output_type": "stream",
     "text": [
      "Distance: 182.63761934497504 degrees: 19.890355809717995\n"
     ]
    },
    {
     "name": "stderr",
     "output_type": "stream",
     "text": [
      "100%|██████████| 1/1 [00:00<00:00, 166.77it/s]\n"
     ]
    },
    {
     "name": "stdout",
     "output_type": "stream",
     "text": [
      "Distance: 182.49657531033287 degrees: 18.65020267246267\n"
     ]
    },
    {
     "name": "stderr",
     "output_type": "stream",
     "text": [
      "100%|██████████| 1/1 [00:00<00:00, 200.06it/s]\n"
     ]
    },
    {
     "name": "stdout",
     "output_type": "stream",
     "text": [
      "Distance: 182.38558057039486 degrees: 201.44213829002499\n"
     ]
    },
    {
     "name": "stderr",
     "output_type": "stream",
     "text": [
      "100%|██████████| 1/1 [00:00<00:00, 166.81it/s]\n"
     ]
    },
    {
     "name": "stdout",
     "output_type": "stream",
     "text": [
      "Distance: 182.22033366230016 degrees: 197.18743373191535\n"
     ]
    },
    {
     "name": "stderr",
     "output_type": "stream",
     "text": [
      "100%|██████████| 1/1 [00:00<00:00, 249.94it/s]\n"
     ]
    },
    {
     "name": "stdout",
     "output_type": "stream",
     "text": [
      "Distance: 181.6645259812713 degrees: 193.26786655833206\n"
     ]
    },
    {
     "name": "stderr",
     "output_type": "stream",
     "text": [
      "100%|██████████| 1/1 [00:00<00:00, 200.06it/s]\n"
     ]
    },
    {
     "name": "stdout",
     "output_type": "stream",
     "text": [
      "Distance: 182.36296224836883 degrees: 195.29039988088283\n"
     ]
    },
    {
     "name": "stderr",
     "output_type": "stream",
     "text": [
      "100%|██████████| 1/1 [00:00<00:00, 166.75it/s]\n"
     ]
    },
    {
     "name": "stdout",
     "output_type": "stream",
     "text": [
      "Distance: 182.36296224836883 degrees: 195.29039988088283\n"
     ]
    },
    {
     "name": "stderr",
     "output_type": "stream",
     "text": [
      "100%|██████████| 1/1 [00:00<00:00, 250.11it/s]\n"
     ]
    },
    {
     "name": "stdout",
     "output_type": "stream",
     "text": [
      "Distance: 182.36296224836883 degrees: 195.29039988088283\n"
     ]
    },
    {
     "name": "stderr",
     "output_type": "stream",
     "text": [
      "100%|██████████| 1/1 [00:00<00:00, 200.10it/s]\n"
     ]
    },
    {
     "name": "stdout",
     "output_type": "stream",
     "text": [
      "Distance: 182.36296224836883 degrees: 195.29039988088283\n"
     ]
    },
    {
     "name": "stderr",
     "output_type": "stream",
     "text": [
      "100%|██████████| 1/1 [00:00<00:00, 250.12it/s]\n"
     ]
    },
    {
     "name": "stdout",
     "output_type": "stream",
     "text": [
      "Distance: 182.36296224836883 degrees: 195.29039988088283\n"
     ]
    },
    {
     "name": "stderr",
     "output_type": "stream",
     "text": [
      "100%|██████████| 1/1 [00:00<00:00, 200.12it/s]\n"
     ]
    },
    {
     "name": "stdout",
     "output_type": "stream",
     "text": [
      "Distance: 182.36296224836883 degrees: 195.29039988088283\n"
     ]
    },
    {
     "name": "stderr",
     "output_type": "stream",
     "text": [
      "100%|██████████| 1/1 [00:00<00:00, 199.84it/s]\n"
     ]
    },
    {
     "name": "stdout",
     "output_type": "stream",
     "text": [
      "Distance: 182.36296224836883 degrees: 195.29039988088283\n"
     ]
    },
    {
     "name": "stderr",
     "output_type": "stream",
     "text": [
      "100%|██████████| 1/1 [00:00<00:00, 500.22it/s]\n"
     ]
    },
    {
     "name": "stdout",
     "output_type": "stream",
     "text": [
      "Distance: 182.36296224836883 degrees: 195.29039988088283\n"
     ]
    },
    {
     "name": "stderr",
     "output_type": "stream",
     "text": [
      "100%|██████████| 1/1 [00:00<00:00, 250.08it/s]\n"
     ]
    },
    {
     "name": "stdout",
     "output_type": "stream",
     "text": [
      "Distance: 182.36296224836883 degrees: 195.29039988088283\n"
     ]
    },
    {
     "name": "stderr",
     "output_type": "stream",
     "text": [
      "100%|██████████| 1/1 [00:00<00:00, 333.54it/s]\n"
     ]
    },
    {
     "name": "stdout",
     "output_type": "stream",
     "text": [
      "Distance: 182.36296224836883 degrees: 195.29039988088283\n"
     ]
    },
    {
     "name": "stderr",
     "output_type": "stream",
     "text": [
      "100%|██████████| 1/1 [00:00<00:00, 250.18it/s]\n"
     ]
    },
    {
     "name": "stdout",
     "output_type": "stream",
     "text": [
      "Distance: 182.36296224836883 degrees: 195.29039988088283\n"
     ]
    },
    {
     "name": "stderr",
     "output_type": "stream",
     "text": [
      "100%|██████████| 1/1 [00:00<00:00, 333.30it/s]\n"
     ]
    },
    {
     "name": "stdout",
     "output_type": "stream",
     "text": [
      "Distance: 182.36296224836883 degrees: 195.29039988088283\n"
     ]
    },
    {
     "name": "stderr",
     "output_type": "stream",
     "text": [
      "100%|██████████| 1/1 [00:00<00:00, 249.82it/s]\n"
     ]
    },
    {
     "name": "stdout",
     "output_type": "stream",
     "text": [
      "Distance: 182.36296224836883 degrees: 195.29039988088283\n"
     ]
    },
    {
     "name": "stderr",
     "output_type": "stream",
     "text": [
      "100%|██████████| 1/1 [00:00<00:00, 333.52it/s]\n"
     ]
    },
    {
     "name": "stdout",
     "output_type": "stream",
     "text": [
      "Distance: 182.36296224836883 degrees: 195.29039988088283\n"
     ]
    },
    {
     "name": "stderr",
     "output_type": "stream",
     "text": [
      "100%|██████████| 1/1 [00:00<00:00, 250.00it/s]\n"
     ]
    },
    {
     "name": "stdout",
     "output_type": "stream",
     "text": [
      "Distance: 182.36296224836883 degrees: 195.29039988088283\n"
     ]
    },
    {
     "name": "stderr",
     "output_type": "stream",
     "text": [
      "100%|██████████| 1/1 [00:00<00:00, 500.04it/s]\n"
     ]
    },
    {
     "name": "stdout",
     "output_type": "stream",
     "text": [
      "Distance: 182.36296224836883 degrees: 195.29039988088283\n"
     ]
    },
    {
     "name": "stderr",
     "output_type": "stream",
     "text": [
      "100%|██████████| 1/1 [00:00<00:00, 249.99it/s]\n"
     ]
    },
    {
     "name": "stdout",
     "output_type": "stream",
     "text": [
      "Distance: 182.36296224836883 degrees: 195.29039988088283\n"
     ]
    },
    {
     "name": "stderr",
     "output_type": "stream",
     "text": [
      "100%|██████████| 1/1 [00:00<00:00, 333.46it/s]\n"
     ]
    },
    {
     "name": "stdout",
     "output_type": "stream",
     "text": [
      "Distance: 182.36296224836883 degrees: 195.29039988088283\n"
     ]
    },
    {
     "name": "stderr",
     "output_type": "stream",
     "text": [
      "100%|██████████| 1/1 [00:00<00:00, 250.20it/s]\n"
     ]
    },
    {
     "name": "stdout",
     "output_type": "stream",
     "text": [
      "Distance: 182.36296224836883 degrees: 195.29039988088283\n"
     ]
    },
    {
     "name": "stderr",
     "output_type": "stream",
     "text": [
      "100%|██████████| 1/1 [00:00<00:00, 250.15it/s]\n"
     ]
    },
    {
     "name": "stdout",
     "output_type": "stream",
     "text": [
      "Distance: 182.36296224836883 degrees: 195.29039988088283\n"
     ]
    },
    {
     "name": "stderr",
     "output_type": "stream",
     "text": [
      "100%|██████████| 1/1 [00:00<00:00, 333.65it/s]\n"
     ]
    },
    {
     "name": "stdout",
     "output_type": "stream",
     "text": [
      "Distance: 182.36296224836883 degrees: 195.29039988088283\n"
     ]
    },
    {
     "name": "stderr",
     "output_type": "stream",
     "text": [
      "100%|██████████| 1/1 [00:00<00:00, 333.60it/s]\n"
     ]
    },
    {
     "name": "stdout",
     "output_type": "stream",
     "text": [
      "Distance: 182.36296224836883 degrees: 195.29039988088283\n"
     ]
    },
    {
     "name": "stderr",
     "output_type": "stream",
     "text": [
      "100%|██████████| 1/1 [00:00<00:00, 500.33it/s]\n"
     ]
    },
    {
     "name": "stdout",
     "output_type": "stream",
     "text": [
      "Distance: 182.36296224836883 degrees: 195.29039988088283\n"
     ]
    },
    {
     "name": "stderr",
     "output_type": "stream",
     "text": [
      "100%|██████████| 1/1 [00:00<00:00, 250.12it/s]"
     ]
    },
    {
     "name": "stdout",
     "output_type": "stream",
     "text": [
      "Distance: 182.36296224836883 degrees: 195.29039988088283\n"
     ]
    },
    {
     "name": "stderr",
     "output_type": "stream",
     "text": [
      "\n",
      "100%|██████████| 1/1 [00:00<00:00, 250.15it/s]\n"
     ]
    },
    {
     "name": "stdout",
     "output_type": "stream",
     "text": [
      "Distance: 182.36296224836883 degrees: 195.29039988088283\n"
     ]
    },
    {
     "name": "stderr",
     "output_type": "stream",
     "text": [
      "100%|██████████| 1/1 [00:00<00:00, 333.38it/s]\n"
     ]
    },
    {
     "name": "stdout",
     "output_type": "stream",
     "text": [
      "Distance: 182.36296224836883 degrees: 195.29039988088283\n"
     ]
    },
    {
     "name": "stderr",
     "output_type": "stream",
     "text": [
      "100%|██████████| 1/1 [00:00<00:00, 166.75it/s]\n"
     ]
    },
    {
     "name": "stdout",
     "output_type": "stream",
     "text": [
      "Distance: 182.36296224836883 degrees: 195.29039988088283\n"
     ]
    },
    {
     "name": "stderr",
     "output_type": "stream",
     "text": [
      "100%|██████████| 1/1 [00:00<00:00, 333.17it/s]"
     ]
    },
    {
     "name": "stdout",
     "output_type": "stream",
     "text": [
      "Distance: 182.36296224836883 degrees: 195.29039988088283\n"
     ]
    },
    {
     "name": "stderr",
     "output_type": "stream",
     "text": [
      "\n",
      "100%|██████████| 1/1 [00:00<00:00, 333.52it/s]"
     ]
    },
    {
     "name": "stdout",
     "output_type": "stream",
     "text": [
      "Distance: 182.36296224836883 degrees: 195.29039988088283\n"
     ]
    },
    {
     "name": "stderr",
     "output_type": "stream",
     "text": [
      "\n",
      "100%|██████████| 1/1 [00:00<00:00, 500.93it/s]"
     ]
    },
    {
     "name": "stdout",
     "output_type": "stream",
     "text": [
      "Distance: 182.36296224836883"
     ]
    },
    {
     "name": "stderr",
     "output_type": "stream",
     "text": [
      "\n"
     ]
    },
    {
     "name": "stdout",
     "output_type": "stream",
     "text": [
      " degrees: 195.29039988088283\n"
     ]
    },
    {
     "name": "stderr",
     "output_type": "stream",
     "text": [
      "100%|██████████| 1/1 [00:00<00:00, 166.86it/s]"
     ]
    },
    {
     "name": "stdout",
     "output_type": "stream",
     "text": [
      "Distance: 182.36296224836883"
     ]
    },
    {
     "name": "stderr",
     "output_type": "stream",
     "text": [
      "\n"
     ]
    },
    {
     "name": "stdout",
     "output_type": "stream",
     "text": [
      " degrees: 195.29039988088283\n"
     ]
    },
    {
     "name": "stderr",
     "output_type": "stream",
     "text": [
      "100%|██████████| 1/1 [00:00<00:00, 250.00it/s]\n"
     ]
    },
    {
     "name": "stdout",
     "output_type": "stream",
     "text": [
      "Distance: 182.36296224836883 degrees: 195.29039988088283\n"
     ]
    },
    {
     "name": "stderr",
     "output_type": "stream",
     "text": [
      "100%|██████████| 1/1 [00:00<00:00, 200.24it/s]\n"
     ]
    },
    {
     "name": "stdout",
     "output_type": "stream",
     "text": [
      "Distance: 182.36296224836883 degrees: 195.29039988088283\n"
     ]
    },
    {
     "name": "stderr",
     "output_type": "stream",
     "text": [
      "100%|██████████| 1/1 [00:00<00:00, 500.45it/s]\n"
     ]
    },
    {
     "name": "stdout",
     "output_type": "stream",
     "text": [
      "Distance: 182.36296224836883 degrees: 195.29039988088283\n"
     ]
    },
    {
     "name": "stderr",
     "output_type": "stream",
     "text": [
      "100%|██████████| 1/1 [00:00<00:00, 249.75it/s]\n"
     ]
    },
    {
     "name": "stdout",
     "output_type": "stream",
     "text": [
      "Distance: 203.9607805437114 degrees: 96.30196058197996\n"
     ]
    },
    {
     "name": "stderr",
     "output_type": "stream",
     "text": [
      "100%|██████████| 1/1 [00:00<00:00, 250.03it/s]"
     ]
    },
    {
     "name": "stdout",
     "output_type": "stream",
     "text": [
      "Distance: 204.3336731916695"
     ]
    },
    {
     "name": "stderr",
     "output_type": "stream",
     "text": [
      "\n"
     ]
    },
    {
     "name": "stdout",
     "output_type": "stream",
     "text": [
      " degrees: 94.82147350723466\n"
     ]
    },
    {
     "name": "stderr",
     "output_type": "stream",
     "text": [
      "100%|██████████| 1/1 [00:00<00:00, 333.54it/s]"
     ]
    },
    {
     "name": "stdout",
     "output_type": "stream",
     "text": [
      "Distance: 204.29451779232843"
     ]
    },
    {
     "name": "stderr",
     "output_type": "stream",
     "text": [
      "\n"
     ]
    },
    {
     "name": "stdout",
     "output_type": "stream",
     "text": [
      " degrees: 93.59149030781688\n"
     ]
    },
    {
     "name": "stderr",
     "output_type": "stream",
     "text": [
      "100%|██████████| 1/1 [00:00<00:00, 333.57it/s]"
     ]
    },
    {
     "name": "stdout",
     "output_type": "stream",
     "text": [
      "Distance: 204.66680238866292"
     ]
    },
    {
     "name": "stderr",
     "output_type": "stream",
     "text": [
      "\n"
     ]
    },
    {
     "name": "stdout",
     "output_type": "stream",
     "text": [
      " degrees: 93.16884970997316\n"
     ]
    },
    {
     "name": "stderr",
     "output_type": "stream",
     "text": [
      "100%|██████████| 1/1 [00:00<00:00, 500.33it/s]\n"
     ]
    },
    {
     "name": "stdout",
     "output_type": "stream",
     "text": [
      "Distance: 205.74559533559886 degrees: 90.67168107086583\n"
     ]
    },
    {
     "name": "stderr",
     "output_type": "stream",
     "text": [
      "100%|██████████| 1/1 [00:00<00:00, 333.49it/s]\n"
     ]
    },
    {
     "name": "stdout",
     "output_type": "stream",
     "text": [
      "Distance: 206.07886839751427 degrees: 88.98747231038095\n"
     ]
    },
    {
     "name": "stderr",
     "output_type": "stream",
     "text": [
      "100%|██████████| 1/1 [00:00<00:00, 250.32it/s]\n"
     ]
    },
    {
     "name": "stdout",
     "output_type": "stream",
     "text": [
      "Distance: 206.45156817035806 degrees: -91.48043663494141\n"
     ]
    },
    {
     "name": "stderr",
     "output_type": "stream",
     "text": [
      "100%|██████████| 1/1 [00:00<00:00, 333.52it/s]\n"
     ]
    },
    {
     "name": "stdout",
     "output_type": "stream",
     "text": [
      "Distance: 206.11889772653063 degrees: -92.9968156015828\n"
     ]
    },
    {
     "name": "stderr",
     "output_type": "stream",
     "text": [
      "100%|██████████| 1/1 [00:00<00:00, 250.17it/s]\n"
     ]
    },
    {
     "name": "stdout",
     "output_type": "stream",
     "text": [
      "Distance: 206.16134458234404 degrees: -93.84648398271732\n"
     ]
    },
    {
     "name": "stderr",
     "output_type": "stream",
     "text": [
      "100%|██████████| 1/1 [00:00<00:00, 333.62it/s]\n"
     ]
    },
    {
     "name": "stdout",
     "output_type": "stream",
     "text": [
      "Distance: 205.4555913086816 degrees: -92.7884583910895\n"
     ]
    },
    {
     "name": "stderr",
     "output_type": "stream",
     "text": [
      "100%|██████████| 1/1 [00:00<00:00, 500.22it/s]"
     ]
    },
    {
     "name": "stdout",
     "output_type": "stream",
     "text": [
      "Distance: 206.5363164191712"
     ]
    },
    {
     "name": "stderr",
     "output_type": "stream",
     "text": [
      "\n"
     ]
    },
    {
     "name": "stdout",
     "output_type": "stream",
     "text": [
      " degrees: -96.4376656589836\n"
     ]
    },
    {
     "name": "stderr",
     "output_type": "stream",
     "text": [
      "100%|██████████| 1/1 [00:00<00:00, 333.60it/s]\n"
     ]
    },
    {
     "name": "stdout",
     "output_type": "stream",
     "text": [
      "Distance: 206.86710710018642 degrees: -96.96400896195746\n"
     ]
    },
    {
     "name": "stderr",
     "output_type": "stream",
     "text": [
      "100%|██████████| 1/1 [00:00<00:00, 333.12it/s]\n"
     ]
    },
    {
     "name": "stdout",
     "output_type": "stream",
     "text": [
      "Distance: 207.24200828982526 degrees: -97.4848183781859\n"
     ]
    },
    {
     "name": "stderr",
     "output_type": "stream",
     "text": [
      "100%|██████████| 1/1 [00:00<00:00, 500.57it/s]\n"
     ]
    },
    {
     "name": "stdout",
     "output_type": "stream",
     "text": [
      "Distance: 207.24200828982526 degrees: -97.4848183781859\n"
     ]
    },
    {
     "name": "stderr",
     "output_type": "stream",
     "text": [
      "100%|██████████| 1/1 [00:00<00:00, 333.57it/s]"
     ]
    },
    {
     "name": "stdout",
     "output_type": "stream",
     "text": [
      "Distance: 208.32306641368353"
     ]
    },
    {
     "name": "stderr",
     "output_type": "stream",
     "text": [
      "\n"
     ]
    },
    {
     "name": "stdout",
     "output_type": "stream",
     "text": [
      " degrees: -101.09911579321216\n"
     ]
    },
    {
     "name": "stderr",
     "output_type": "stream",
     "text": [
      "100%|██████████| 1/1 [00:00<00:00, 250.18it/s]\n"
     ]
    },
    {
     "name": "stdout",
     "output_type": "stream",
     "text": [
      "Distance: 208.32306641368353 degrees: -101.09911579321216\n"
     ]
    },
    {
     "name": "stderr",
     "output_type": "stream",
     "text": [
      "100%|██████████| 1/1 [00:00<00:00, 250.18it/s]\n"
     ]
    },
    {
     "name": "stdout",
     "output_type": "stream",
     "text": [
      "Distance: 209.0287061625747 degrees: -103.41758231389662\n"
     ]
    },
    {
     "name": "stderr",
     "output_type": "stream",
     "text": [
      "100%|██████████| 1/1 [00:00<00:00, 250.15it/s]"
     ]
    },
    {
     "name": "stdout",
     "output_type": "stream",
     "text": [
      "Distance: 209.78083801910984 degrees: -106.56736750954693\n"
     ]
    },
    {
     "name": "stderr",
     "output_type": "stream",
     "text": [
      "\n",
      "100%|██████████| 1/1 [00:00<00:00, 199.92it/s]\n"
     ]
    },
    {
     "name": "stdout",
     "output_type": "stream",
     "text": [
      "Distance: 209.78083801910984 degrees: -106.56736750954693\n"
     ]
    },
    {
     "name": "stderr",
     "output_type": "stream",
     "text": [
      "100%|██████████| 1/1 [00:00<00:00, 200.14it/s]"
     ]
    },
    {
     "name": "stdout",
     "output_type": "stream",
     "text": [
      "Distance: 210.15767889848803"
     ]
    },
    {
     "name": "stderr",
     "output_type": "stream",
     "text": [
      "\n"
     ]
    },
    {
     "name": "stdout",
     "output_type": "stream",
     "text": [
      " degrees: -107.7503027575442\n"
     ]
    },
    {
     "name": "stderr",
     "output_type": "stream",
     "text": [
      "100%|██████████| 1/1 [00:00<00:00, 333.54it/s]"
     ]
    },
    {
     "name": "stdout",
     "output_type": "stream",
     "text": [
      "Distance: 210.15767889848803 degrees: -109.10638554373213\n"
     ]
    },
    {
     "name": "stderr",
     "output_type": "stream",
     "text": [
      "\n",
      "100%|██████████| 1/1 [00:00<00:00, 249.99it/s]\n"
     ]
    },
    {
     "name": "stdout",
     "output_type": "stream",
     "text": [
      "Distance: 211.24038439654478 degrees: -112.06446586740367\n"
     ]
    },
    {
     "name": "stderr",
     "output_type": "stream",
     "text": [
      "100%|██████████| 1/1 [00:00<00:00, 333.52it/s]"
     ]
    },
    {
     "name": "stdout",
     "output_type": "stream",
     "text": [
      "Distance: 211.94574777522666 degrees: -113.01333921618371\n"
     ]
    },
    {
     "name": "stderr",
     "output_type": "stream",
     "text": [
      "\n",
      "100%|██████████| 1/1 [00:00<00:00, 333.54it/s]\n"
     ]
    },
    {
     "name": "stdout",
     "output_type": "stream",
     "text": [
      "Distance: 212.32345607586552 degrees: -113.62818134972505\n"
     ]
    },
    {
     "name": "stderr",
     "output_type": "stream",
     "text": [
      "100%|██████████| 1/1 [00:00<00:00, 250.21it/s]\n"
     ]
    },
    {
     "name": "stdout",
     "output_type": "stream",
     "text": [
      "Distance: 213.08038389302757 degrees: -116.68171333097557\n"
     ]
    },
    {
     "name": "stderr",
     "output_type": "stream",
     "text": [
      "100%|██████████| 1/1 [00:00<00:00, 250.36it/s]\n"
     ]
    },
    {
     "name": "stdout",
     "output_type": "stream",
     "text": [
      "Distance: 214.9244053149851 degrees: -120.8882310395349\n"
     ]
    },
    {
     "name": "stderr",
     "output_type": "stream",
     "text": [
      "100%|██████████| 1/1 [00:00<00:00, 250.20it/s]\n"
     ]
    },
    {
     "name": "stdout",
     "output_type": "stream",
     "text": [
      "Distance: 214.9244053149851 degrees: -122.34107340891148\n"
     ]
    },
    {
     "name": "stderr",
     "output_type": "stream",
     "text": [
      "100%|██████████| 1/1 [00:00<00:00, 200.13it/s]\n"
     ]
    },
    {
     "name": "stdout",
     "output_type": "stream",
     "text": [
      "Distance: 216.0676977245789 degrees: -125.75739804572368\n"
     ]
    },
    {
     "name": "stderr",
     "output_type": "stream",
     "text": [
      "100%|██████████| 1/1 [00:00<00:00, 200.12it/s]\n"
     ]
    },
    {
     "name": "stdout",
     "output_type": "stream",
     "text": [
      "Distance: 216.44976322463373 degrees: -126.41226020372576\n"
     ]
    },
    {
     "name": "stderr",
     "output_type": "stream",
     "text": [
      "100%|██████████| 1/1 [00:00<00:00, 166.75it/s]\n"
     ]
    },
    {
     "name": "stdout",
     "output_type": "stream",
     "text": [
      "Distance: 217.59882812184443 degrees: -129.87299769192805\n"
     ]
    },
    {
     "name": "stderr",
     "output_type": "stream",
     "text": [
      "100%|██████████| 1/1 [00:00<00:00, 333.54it/s]\n"
     ]
    },
    {
     "name": "stdout",
     "output_type": "stream",
     "text": [
      "Distance: 218.04815981796315 degrees: 227.4606187934779\n"
     ]
    },
    {
     "name": "stderr",
     "output_type": "stream",
     "text": [
      "100%|██████████| 1/1 [00:00<00:00, 250.21it/s]\n"
     ]
    },
    {
     "name": "stdout",
     "output_type": "stream",
     "text": [
      "Distance: 218.43362836340012 degrees: 225.3517068553117\n"
     ]
    },
    {
     "name": "stderr",
     "output_type": "stream",
     "text": [
      "100%|██████████| 1/1 [00:00<00:00, 200.15it/s]\n"
     ]
    },
    {
     "name": "stdout",
     "output_type": "stream",
     "text": [
      "Distance: 218.81956036881164 degrees: 224.70719523531506\n"
     ]
    },
    {
     "name": "stderr",
     "output_type": "stream",
     "text": [
      "100%|██████████| 1/1 [00:00<00:00, 200.14it/s]\n"
     ]
    },
    {
     "name": "stdout",
     "output_type": "stream",
     "text": [
      "Distance: 219.9801127374927 degrees: 221.34906301719377\n"
     ]
    },
    {
     "name": "stderr",
     "output_type": "stream",
     "text": [
      "100%|██████████| 1/1 [00:00<00:00, 250.18it/s]\n"
     ]
    },
    {
     "name": "stdout",
     "output_type": "stream",
     "text": [
      "Distance: 219.27665174386442 degrees: 220.52524675755757\n"
     ]
    },
    {
     "name": "stderr",
     "output_type": "stream",
     "text": [
      "100%|██████████| 1/1 [00:00<00:00, 200.19it/s]\n"
     ]
    },
    {
     "name": "stdout",
     "output_type": "stream",
     "text": [
      "Distance: 219.66451693434695 degrees: 219.8890112822213\n"
     ]
    },
    {
     "name": "stderr",
     "output_type": "stream",
     "text": [
      "100%|██████████| 1/1 [00:00<00:00, 166.76it/s]\n"
     ]
    },
    {
     "name": "stdout",
     "output_type": "stream",
     "text": [
      "Distance: 220.51757299589528 degrees: 216.51547346865155\n"
     ]
    },
    {
     "name": "stderr",
     "output_type": "stream",
     "text": [
      "100%|██████████| 1/1 [00:00<00:00, 200.11it/s]\n"
     ]
    },
    {
     "name": "stdout",
     "output_type": "stream",
     "text": [
      "Distance: 220.90778619143327 degrees: 215.89387537821736\n"
     ]
    },
    {
     "name": "stderr",
     "output_type": "stream",
     "text": [
      "100%|██████████| 1/1 [00:00<00:00, 250.00it/s]\n"
     ]
    },
    {
     "name": "stdout",
     "output_type": "stream",
     "text": [
      "Distance: 221.77071492872994 degrees: 212.56342901402238\n"
     ]
    },
    {
     "name": "stderr",
     "output_type": "stream",
     "text": [
      "100%|██████████| 1/1 [00:00<00:00, 250.20it/s]\n"
     ]
    },
    {
     "name": "stdout",
     "output_type": "stream",
     "text": [
      "Distance: 221.37863492216226 degrees: 211.80404551945452\n"
     ]
    },
    {
     "name": "stderr",
     "output_type": "stream",
     "text": [
      "100%|██████████| 1/1 [00:00<00:00, 166.78it/s]\n"
     ]
    },
    {
     "name": "stdout",
     "output_type": "stream",
     "text": [
      "Distance: 222.24760966093652 degrees: 207.98164153641505\n"
     ]
    },
    {
     "name": "stderr",
     "output_type": "stream",
     "text": [
      "100%|██████████| 1/1 [00:00<00:00, 250.30it/s]\n"
     ]
    },
    {
     "name": "stdout",
     "output_type": "stream",
     "text": [
      "Distance: 222.6415280220651 degrees: 207.39988341708752\n"
     ]
    },
    {
     "name": "stderr",
     "output_type": "stream",
     "text": [
      "100%|██████████| 1/1 [00:00<00:00, 200.14it/s]\n"
     ]
    },
    {
     "name": "stdout",
     "output_type": "stream",
     "text": [
      "Distance: 222.3342078943319 degrees: 205.88366669674403\n"
     ]
    },
    {
     "name": "stderr",
     "output_type": "stream",
     "text": [
      "100%|██████████| 1/1 [00:00<00:00, 200.20it/s]\n"
     ]
    },
    {
     "name": "stdout",
     "output_type": "stream",
     "text": [
      "Distance: 222.81887262976625 degrees: 202.54883444761683\n"
     ]
    },
    {
     "name": "stderr",
     "output_type": "stream",
     "text": [
      "100%|██████████| 1/1 [00:00<00:00, 333.68it/s]\n"
     ]
    },
    {
     "name": "stdout",
     "output_type": "stream",
     "text": [
      "Distance: 223.21514285549716 degrees: 201.9971636656505\n"
     ]
    },
    {
     "name": "stderr",
     "output_type": "stream",
     "text": [
      "100%|██████████| 1/1 [00:00<00:00, 142.93it/s]\n"
     ]
    },
    {
     "name": "stdout",
     "output_type": "stream",
     "text": [
      "Distance: 223.50055928341655 degrees: 198.30677055909848\n"
     ]
    },
    {
     "name": "stderr",
     "output_type": "stream",
     "text": [
      "100%|██████████| 1/1 [00:00<00:00, 200.14it/s]\n"
     ]
    },
    {
     "name": "stdout",
     "output_type": "stream",
     "text": [
      "Distance: 223.50055928341655 degrees: 198.30677055909848\n"
     ]
    },
    {
     "name": "stderr",
     "output_type": "stream",
     "text": [
      "100%|██████████| 1/1 [00:00<00:00, 200.08it/s]\n"
     ]
    },
    {
     "name": "stdout",
     "output_type": "stream",
     "text": [
      "Distance: 223.90008932557396 degrees: 196.9435459620628\n"
     ]
    },
    {
     "name": "stderr",
     "output_type": "stream",
     "text": [
      "100%|██████████| 1/1 [00:00<00:00, 200.11it/s]\n"
     ]
    },
    {
     "name": "stdout",
     "output_type": "stream",
     "text": [
      "Distance: 224.10321282837512 degrees: 194.0963859715684\n"
     ]
    },
    {
     "name": "stderr",
     "output_type": "stream",
     "text": [
      "100%|██████████| 1/1 [00:00<00:00, 200.09it/s]\n"
     ]
    },
    {
     "name": "stdout",
     "output_type": "stream",
     "text": [
      "Distance: 224.208050702913 degrees: 193.25111161106676\n"
     ]
    },
    {
     "name": "stderr",
     "output_type": "stream",
     "text": [
      "100%|██████████| 1/1 [00:00<00:00, 200.10it/s]\n"
     ]
    },
    {
     "name": "stdout",
     "output_type": "stream",
     "text": [
      "Distance: 224.4242633941348 degrees: 189.48879084466122\n"
     ]
    },
    {
     "name": "stderr",
     "output_type": "stream",
     "text": [
      "100%|██████████| 1/1 [00:00<00:00, 200.17it/s]\n"
     ]
    },
    {
     "name": "stdout",
     "output_type": "stream",
     "text": [
      "Distance: 224.4242633941348 degrees: 188.46559755398164\n"
     ]
    },
    {
     "name": "stderr",
     "output_type": "stream",
     "text": [
      "100%|██████████| 1/1 [00:00<00:00, 200.19it/s]\n"
     ]
    },
    {
     "name": "stdout",
     "output_type": "stream",
     "text": [
      "Distance: 224.64917093103193 degrees: 185.7204352225768\n"
     ]
    },
    {
     "name": "stderr",
     "output_type": "stream",
     "text": [
      "100%|██████████| 1/1 [00:00<00:00, 166.76it/s]\n"
     ]
    },
    {
     "name": "stdout",
     "output_type": "stream",
     "text": [
      "Distance: 224.35797289153777 degrees: 184.33047002593383\n"
     ]
    },
    {
     "name": "stderr",
     "output_type": "stream",
     "text": [
      "100%|██████████| 1/1 [00:00<00:00, 166.73it/s]\n"
     ]
    },
    {
     "name": "stdout",
     "output_type": "stream",
     "text": [
      "Distance: 224.76487714943366 degrees: 182.8268859260431\n"
     ]
    },
    {
     "name": "stderr",
     "output_type": "stream",
     "text": [
      "100%|██████████| 1/1 [00:00<00:00, 200.08it/s]\n"
     ]
    },
    {
     "name": "stdout",
     "output_type": "stream",
     "text": [
      "Distance: 224.30615238998683 degrees: 180.1796351448492\n"
     ]
    },
    {
     "name": "stderr",
     "output_type": "stream",
     "text": [
      "100%|██████████| 1/1 [00:00<00:00, 200.12it/s]\n"
     ]
    },
    {
     "name": "stdout",
     "output_type": "stream",
     "text": [
      "Distance: 224.30615238998683 degrees: 178.987864124555\n"
     ]
    },
    {
     "name": "stderr",
     "output_type": "stream",
     "text": [
      "100%|██████████| 1/1 [00:00<00:00, 200.03it/s]\n"
     ]
    },
    {
     "name": "stdout",
     "output_type": "stream",
     "text": [
      "Distance: 224.42871919609576 degrees: 178.15557676004633\n"
     ]
    },
    {
     "name": "stderr",
     "output_type": "stream",
     "text": [
      "100%|██████████| 1/1 [00:00<00:00, 200.09it/s]\n"
     ]
    },
    {
     "name": "stdout",
     "output_type": "stream",
     "text": [
      "Distance: 224.26881191998143 degrees: 174.8292090471752\n"
     ]
    },
    {
     "name": "stderr",
     "output_type": "stream",
     "text": [
      "100%|██████████| 1/1 [00:00<00:00, 166.68it/s]\n"
     ]
    },
    {
     "name": "stdout",
     "output_type": "stream",
     "text": [
      "Distance: 223.98493252895383 degrees: 174.30120097092023\n"
     ]
    },
    {
     "name": "stderr",
     "output_type": "stream",
     "text": [
      "100%|██████████| 1/1 [00:00<00:00, 250.12it/s]\n"
     ]
    },
    {
     "name": "stdout",
     "output_type": "stream",
     "text": [
      "Distance: 223.96539911334517 degrees: 170.84816275267886\n"
     ]
    },
    {
     "name": "stderr",
     "output_type": "stream",
     "text": [
      "100%|██████████| 1/1 [00:00<00:00, 166.78it/s]\n"
     ]
    },
    {
     "name": "stdout",
     "output_type": "stream",
     "text": [
      "Distance: 223.27113561766106 degrees: 169.91655161797652\n"
     ]
    },
    {
     "name": "stderr",
     "output_type": "stream",
     "text": [
      "100%|██████████| 1/1 [00:00<00:00, 250.23it/s]\n"
     ]
    },
    {
     "name": "stdout",
     "output_type": "stream",
     "text": [
      "Distance: 223.55144821718332 degrees: 169.14244300648386\n"
     ]
    },
    {
     "name": "stderr",
     "output_type": "stream",
     "text": [
      "100%|██████████| 1/1 [00:00<00:00, 166.80it/s]"
     ]
    },
    {
     "name": "stdout",
     "output_type": "stream",
     "text": [
      "Distance: 223.54417907876734"
     ]
    },
    {
     "name": "stderr",
     "output_type": "stream",
     "text": [
      "\n"
     ]
    },
    {
     "name": "stdout",
     "output_type": "stream",
     "text": [
      " degrees: 165.66892664971493\n"
     ]
    },
    {
     "name": "stderr",
     "output_type": "stream",
     "text": [
      "100%|██████████| 1/1 [00:00<00:00, 250.12it/s]\n"
     ]
    },
    {
     "name": "stdout",
     "output_type": "stream",
     "text": [
      "Distance: 223.26721658138706 degrees: 165.083608946752\n"
     ]
    },
    {
     "name": "stderr",
     "output_type": "stream",
     "text": [
      "100%|██████████| 1/1 [00:00<00:00, 200.10it/s]\n"
     ]
    },
    {
     "name": "stdout",
     "output_type": "stream",
     "text": [
      "Distance: 222.9910312097776 degrees: 164.49286144405437\n"
     ]
    },
    {
     "name": "stderr",
     "output_type": "stream",
     "text": [
      "100%|██████████| 1/1 [00:00<00:00, 250.21it/s]\n"
     ]
    },
    {
     "name": "stdout",
     "output_type": "stream",
     "text": [
      "Distance: 222.44100341438852 degrees: 161.48213404319307\n"
     ]
    },
    {
     "name": "stderr",
     "output_type": "stream",
     "text": [
      "100%|██████████| 1/1 [00:00<00:00, 333.52it/s]\n"
     ]
    },
    {
     "name": "stdout",
     "output_type": "stream",
     "text": [
      "Distance: 222.44100341438852 degrees: 160.06310246861312\n"
     ]
    },
    {
     "name": "stderr",
     "output_type": "stream",
     "text": [
      "100%|██████████| 1/1 [00:00<00:00, 333.57it/s]\n"
     ]
    },
    {
     "name": "stdout",
     "output_type": "stream",
     "text": [
      "Distance: 222.167166791135 degrees: 159.45500092658568\n"
     ]
    },
    {
     "name": "stderr",
     "output_type": "stream",
     "text": [
      "100%|██████████| 1/1 [00:00<00:00, 200.11it/s]\n"
     ]
    },
    {
     "name": "stdout",
     "output_type": "stream",
     "text": [
      "Distance: 221.77071492872994 degrees: 156.09944783572607\n"
     ]
    },
    {
     "name": "stderr",
     "output_type": "stream",
     "text": [
      "100%|██████████| 1/1 [00:00<00:00, 200.14it/s]\n"
     ]
    },
    {
     "name": "stdout",
     "output_type": "stream",
     "text": [
      "Distance: 221.50056433336687 degrees: 155.48035731180926\n"
     ]
    },
    {
     "name": "stderr",
     "output_type": "stream",
     "text": [
      "100%|██████████| 1/1 [00:00<00:00, 200.12it/s]\n"
     ]
    },
    {
     "name": "stdout",
     "output_type": "stream",
     "text": [
      "Distance: 224.93610203788987 degrees: 152.81472602873586\n"
     ]
    },
    {
     "name": "stderr",
     "output_type": "stream",
     "text": [
      "100%|██████████| 1/1 [00:00<00:00, 200.12it/s]\n"
     ]
    },
    {
     "name": "stdout",
     "output_type": "stream",
     "text": [
      "Distance: 223.6604569431083 degrees: 151.093216186436\n"
     ]
    },
    {
     "name": "stderr",
     "output_type": "stream",
     "text": [
      "100%|██████████| 1/1 [00:00<00:00, 200.15it/s]\n"
     ]
    },
    {
     "name": "stdout",
     "output_type": "stream",
     "text": [
      "Distance: 220.42799277768694 degrees: 150.01914726283354\n"
     ]
    },
    {
     "name": "stderr",
     "output_type": "stream",
     "text": [
      "100%|██████████| 1/1 [00:00<00:00, 333.38it/s]\n"
     ]
    },
    {
     "name": "stdout",
     "output_type": "stream",
     "text": [
      "Distance: 220.48185866415403 degrees: 146.76843489799214\n"
     ]
    },
    {
     "name": "stderr",
     "output_type": "stream",
     "text": [
      "100%|██████████| 1/1 [00:00<00:00, 200.12it/s]\n"
     ]
    },
    {
     "name": "stdout",
     "output_type": "stream",
     "text": [
      "Distance: 220.48185866415403 degrees: 146.76843489799214\n"
     ]
    },
    {
     "name": "stderr",
     "output_type": "stream",
     "text": [
      "100%|██████████| 1/1 [00:00<00:00, 200.11it/s]\n"
     ]
    },
    {
     "name": "stdout",
     "output_type": "stream",
     "text": [
      "Distance: 218.51887790303152 degrees: 144.37660395891808\n"
     ]
    },
    {
     "name": "stderr",
     "output_type": "stream",
     "text": [
      "100%|██████████| 1/1 [00:00<00:00, 250.15it/s]\n"
     ]
    },
    {
     "name": "stdout",
     "output_type": "stream",
     "text": [
      "Distance: 218.41760460182692 degrees: 140.14828578120876\n"
     ]
    },
    {
     "name": "stderr",
     "output_type": "stream",
     "text": [
      "100%|██████████| 1/1 [00:00<00:00, 250.15it/s]\n"
     ]
    },
    {
     "name": "stdout",
     "output_type": "stream",
     "text": [
      "Distance: 218.15590755237412 degrees: 139.52310666589943\n"
     ]
    },
    {
     "name": "stderr",
     "output_type": "stream",
     "text": [
      "100%|██████████| 1/1 [00:00<00:00, 250.14it/s]\n"
     ]
    },
    {
     "name": "stdout",
     "output_type": "stream",
     "text": [
      "Distance: 218.25501139721854 degrees: 137.62979490120557\n"
     ]
    },
    {
     "name": "stderr",
     "output_type": "stream",
     "text": [
      "100%|██████████| 1/1 [00:00<00:00, 506.74it/s]\n"
     ]
    },
    {
     "name": "stdout",
     "output_type": "stream",
     "text": [
      "Distance: 216.52078422174625 degrees: 134.29585519761798\n"
     ]
    },
    {
     "name": "stderr",
     "output_type": "stream",
     "text": [
      "100%|██████████| 1/1 [00:00<00:00, 500.87it/s]\n"
     ]
    },
    {
     "name": "stdout",
     "output_type": "stream",
     "text": [
      "Distance: 216.26141588364763 degrees: 133.68505345047072\n"
     ]
    },
    {
     "name": "stderr",
     "output_type": "stream",
     "text": [
      "100%|██████████| 1/1 [00:00<00:00, 200.09it/s]"
     ]
    },
    {
     "name": "stdout",
     "output_type": "stream",
     "text": [
      "Distance: 216.26141588364763"
     ]
    },
    {
     "name": "stderr",
     "output_type": "stream",
     "text": [
      "\n"
     ]
    },
    {
     "name": "stdout",
     "output_type": "stream",
     "text": [
      " degrees: 132.25198938314463\n"
     ]
    },
    {
     "name": "stderr",
     "output_type": "stream",
     "text": [
      "100%|██████████| 1/1 [00:00<00:00, 250.11it/s]\n"
     ]
    },
    {
     "name": "stdout",
     "output_type": "stream",
     "text": [
      "Distance: 215.31662731893235 degrees: 129.36370161070332\n"
     ]
    },
    {
     "name": "stderr",
     "output_type": "stream",
     "text": [
      "100%|██████████| 1/1 [00:00<00:00, 250.08it/s]\n"
     ]
    },
    {
     "name": "stdout",
     "output_type": "stream",
     "text": [
      "Distance: 214.63049643515248 degrees: 128.45730740676706\n"
     ]
    },
    {
     "name": "stderr",
     "output_type": "stream",
     "text": [
      "100%|██████████| 1/1 [00:00<00:00, 250.08it/s]"
     ]
    },
    {
     "name": "stdout",
     "output_type": "stream",
     "text": [
      "Distance: 213.86210510513544 degrees: 124.79069704223397\n"
     ]
    },
    {
     "name": "stderr",
     "output_type": "stream",
     "text": [
      "\n",
      "100%|██████████| 1/1 [00:00<00:00, 200.12it/s]\n"
     ]
    },
    {
     "name": "stdout",
     "output_type": "stream",
     "text": [
      "Distance: 213.43207350349198 degrees: 123.05751746463177\n"
     ]
    },
    {
     "name": "stderr",
     "output_type": "stream",
     "text": [
      "100%|██████████| 1/1 [00:00<00:00, 166.76it/s]\n"
     ]
    },
    {
     "name": "stdout",
     "output_type": "stream",
     "text": [
      "Distance: 212.06190134015114 degrees: 119.82341272069868\n"
     ]
    },
    {
     "name": "stderr",
     "output_type": "stream",
     "text": [
      "100%|██████████| 1/1 [00:00<00:00, 250.20it/s]\n"
     ]
    },
    {
     "name": "stdout",
     "output_type": "stream",
     "text": [
      "Distance: 211.80769579975134 degrees: 119.29692901160992\n"
     ]
    },
    {
     "name": "stderr",
     "output_type": "stream",
     "text": [
      "100%|██████████| 1/1 [00:00<00:00, 250.02it/s]\n"
     ]
    },
    {
     "name": "stdout",
     "output_type": "stream",
     "text": [
      "Distance: 210.18622695124435 degrees: 114.78319277450063\n"
     ]
    },
    {
     "name": "stderr",
     "output_type": "stream",
     "text": [
      "100%|██████████| 1/1 [00:00<00:00, 200.11it/s]\n"
     ]
    },
    {
     "name": "stdout",
     "output_type": "stream",
     "text": [
      "Distance: 210.18622695124435 degrees: 114.78319277450063\n"
     ]
    },
    {
     "name": "stderr",
     "output_type": "stream",
     "text": [
      "100%|██████████| 1/1 [00:00<00:00, 500.57it/s]\n"
     ]
    },
    {
     "name": "stdout",
     "output_type": "stream",
     "text": [
      "Distance: 209.50238662125068 degrees: 113.7908616752664\n"
     ]
    },
    {
     "name": "stderr",
     "output_type": "stream",
     "text": [
      "100%|██████████| 1/1 [00:00<00:00, 200.08it/s]\n"
     ]
    },
    {
     "name": "stdout",
     "output_type": "stream",
     "text": [
      "Distance: 208.56773480095143 degrees: 110.22149838350883\n"
     ]
    },
    {
     "name": "stderr",
     "output_type": "stream",
     "text": [
      "100%|██████████| 1/1 [00:00<00:00, 200.10it/s]\n"
     ]
    },
    {
     "name": "stdout",
     "output_type": "stream",
     "text": [
      "Distance: 208.13517242407636 degrees: 108.53695365374476\n"
     ]
    },
    {
     "name": "stderr",
     "output_type": "stream",
     "text": [
      "100%|██████████| 1/1 [00:00<00:00, 166.77it/s]\n"
     ]
    },
    {
     "name": "stdout",
     "output_type": "stream",
     "text": [
      "Distance: 206.51876428063383 degrees: 105.08305982232989\n"
     ]
    },
    {
     "name": "stderr",
     "output_type": "stream",
     "text": [
      "100%|██████████| 1/1 [00:00<00:00, 200.09it/s]\n"
     ]
    },
    {
     "name": "stdout",
     "output_type": "stream",
     "text": [
      "Distance: 206.26984752988014 degrees: 104.67780421327942\n"
     ]
    },
    {
     "name": "stderr",
     "output_type": "stream",
     "text": [
      "100%|██████████| 1/1 [00:00<00:00, 166.78it/s]\n"
     ]
    },
    {
     "name": "stdout",
     "output_type": "stream",
     "text": [
      "Distance: 206.0855404922917 degrees: 103.43717949130897\n"
     ]
    },
    {
     "name": "stderr",
     "output_type": "stream",
     "text": [
      "100%|██████████| 1/1 [00:00<00:00, 200.10it/s]\n"
     ]
    },
    {
     "name": "stdout",
     "output_type": "stream",
     "text": [
      "Distance: 204.7199306369558 degrees: 99.35362930669872\n"
     ]
    },
    {
     "name": "stderr",
     "output_type": "stream",
     "text": [
      "100%|██████████| 1/1 [00:00<00:00, 200.11it/s]\n"
     ]
    },
    {
     "name": "stdout",
     "output_type": "stream",
     "text": [
      "Distance: 204.03737402740705 degrees: 98.36672829335907\n"
     ]
    },
    {
     "name": "stderr",
     "output_type": "stream",
     "text": [
      "100%|██████████| 1/1 [00:00<00:00, 166.77it/s]\n"
     ]
    },
    {
     "name": "stdout",
     "output_type": "stream",
     "text": [
      "Distance: 202.9211669589942 degrees: 94.65857619813661\n"
     ]
    },
    {
     "name": "stderr",
     "output_type": "stream",
     "text": [
      "100%|██████████| 1/1 [00:00<00:00, 250.12it/s]\n"
     ]
    },
    {
     "name": "stdout",
     "output_type": "stream",
     "text": [
      "Distance: 202.23872032822993 degrees: 93.68857752468912\n"
     ]
    },
    {
     "name": "stderr",
     "output_type": "stream",
     "text": [
      "100%|██████████| 1/1 [00:00<00:00, 166.78it/s]\n"
     ]
    },
    {
     "name": "stdout",
     "output_type": "stream",
     "text": [
      "Distance: 201.8049801169436 degrees: 93.00054323018024\n"
     ]
    },
    {
     "name": "stderr",
     "output_type": "stream",
     "text": [
      "100%|██████████| 1/1 [00:00<00:00, 500.33it/s]\n"
     ]
    },
    {
     "name": "stdout",
     "output_type": "stream",
     "text": [
      "Distance: 200.2554618481104 degrees: 88.59358205668508\n"
     ]
    },
    {
     "name": "stderr",
     "output_type": "stream",
     "text": [
      "100%|██████████| 1/1 [00:00<00:00, 200.12it/s]\n"
     ]
    },
    {
     "name": "stdout",
     "output_type": "stream",
     "text": [
      "Distance: 199.5726684694074 degrees: 87.64768768464309\n"
     ]
    },
    {
     "name": "stderr",
     "output_type": "stream",
     "text": [
      "100%|██████████| 1/1 [00:00<00:00, 200.13it/s]\n"
     ]
    },
    {
     "name": "stdout",
     "output_type": "stream",
     "text": [
      "Distance: 199.07599051618456 degrees: 84.60565524584052\n"
     ]
    },
    {
     "name": "stderr",
     "output_type": "stream",
     "text": [
      "100%|██████████| 2/2 [00:00<00:00, 95.29it/s]\n"
     ]
    },
    {
     "name": "stdout",
     "output_type": "stream",
     "text": [
      "Distance: 199.07599051618456 degrees: 83.25013405177992\n"
     ]
    },
    {
     "name": "stderr",
     "output_type": "stream",
     "text": [
      "100%|██████████| 2/2 [00:00<00:00, 105.32it/s]"
     ]
    },
    {
     "name": "stdout",
     "output_type": "stream",
     "text": [
      "Distance: 202.5617189895465 degrees: 80.50827395611604\n"
     ]
    },
    {
     "name": "stderr",
     "output_type": "stream",
     "text": [
      "\n",
      "100%|██████████| 2/2 [00:00<00:00, 133.42it/s]\n"
     ]
    },
    {
     "name": "stdout",
     "output_type": "stream",
     "text": [
      "Distance: 197.3404418764689 degrees: 78.25621616840584\n"
     ]
    },
    {
     "name": "stderr",
     "output_type": "stream",
     "text": [
      "100%|██████████| 2/2 [00:00<00:00, 222.34it/s]\n"
     ]
    },
    {
     "name": "stdout",
     "output_type": "stream",
     "text": [
      "Distance: 196.5464321731636 degrees: 73.80203954190998\n"
     ]
    },
    {
     "name": "stderr",
     "output_type": "stream",
     "text": [
      "100%|██████████| 2/2 [00:00<00:00, 250.07it/s]\n"
     ]
    },
    {
     "name": "stdout",
     "output_type": "stream",
     "text": [
      "Distance: 201.16784037216286 degrees: 70.3461759419467\n"
     ]
    },
    {
     "name": "stderr",
     "output_type": "stream",
     "text": [
      "100%|██████████| 2/2 [00:00<00:00, 74.11it/s]\n"
     ]
    },
    {
     "name": "stdout",
     "output_type": "stream",
     "text": [
      "Distance: 201.16784037216286 degrees: 70.3461759419467\n"
     ]
    },
    {
     "name": "stderr",
     "output_type": "stream",
     "text": [
      "100%|██████████| 2/2 [00:00<00:00, 181.95it/s]\n"
     ]
    },
    {
     "name": "stdout",
     "output_type": "stream",
     "text": [
      "Distance: 201.16784037216286 degrees: 70.3461759419467\n"
     ]
    },
    {
     "name": "stderr",
     "output_type": "stream",
     "text": [
      "100%|██████████| 2/2 [00:00<00:00, 142.93it/s]\n"
     ]
    },
    {
     "name": "stdout",
     "output_type": "stream",
     "text": [
      "Distance: 201.16784037216286 degrees: 70.3461759419467\n"
     ]
    },
    {
     "name": "stderr",
     "output_type": "stream",
     "text": [
      "100%|██████████| 2/2 [00:00<00:00, 142.96it/s]\n"
     ]
    },
    {
     "name": "stdout",
     "output_type": "stream",
     "text": [
      "Distance: 201.16784037216286 degrees: 70.3461759419467\n"
     ]
    },
    {
     "name": "stderr",
     "output_type": "stream",
     "text": [
      "100%|██████████| 1/1 [00:00<00:00, 166.78it/s]\n"
     ]
    },
    {
     "name": "stdout",
     "output_type": "stream",
     "text": [
      "Distance: 201.16784037216286 degrees: 70.3461759419467\n"
     ]
    },
    {
     "name": "stderr",
     "output_type": "stream",
     "text": [
      "100%|██████████| 1/1 [00:00<00:00, 200.10it/s]\n"
     ]
    },
    {
     "name": "stdout",
     "output_type": "stream",
     "text": [
      "Distance: 201.16784037216286 degrees: 70.3461759419467\n"
     ]
    },
    {
     "name": "stderr",
     "output_type": "stream",
     "text": [
      "100%|██████████| 1/1 [00:00<00:00, 166.75it/s]\n"
     ]
    },
    {
     "name": "stdout",
     "output_type": "stream",
     "text": [
      "Distance: 201.16784037216286 degrees: 70.3461759419467\n"
     ]
    },
    {
     "name": "stderr",
     "output_type": "stream",
     "text": [
      "100%|██████████| 1/1 [00:00<00:00, 250.12it/s]\n"
     ]
    },
    {
     "name": "stdout",
     "output_type": "stream",
     "text": [
      "Distance: 201.16784037216286 degrees: 70.3461759419467\n"
     ]
    },
    {
     "name": "stderr",
     "output_type": "stream",
     "text": [
      "100%|██████████| 1/1 [00:00<00:00, 250.17it/s]\n"
     ]
    },
    {
     "name": "stdout",
     "output_type": "stream",
     "text": [
      "Distance: 201.16784037216286 degrees: 70.3461759419467\n"
     ]
    },
    {
     "name": "stderr",
     "output_type": "stream",
     "text": [
      "100%|██████████| 1/1 [00:00<00:00, 200.12it/s]"
     ]
    },
    {
     "name": "stdout",
     "output_type": "stream",
     "text": [
      "Distance: 201.16784037216286"
     ]
    },
    {
     "name": "stderr",
     "output_type": "stream",
     "text": [
      "\n"
     ]
    },
    {
     "name": "stdout",
     "output_type": "stream",
     "text": [
      " degrees: 70.3461759419467\n"
     ]
    },
    {
     "name": "stderr",
     "output_type": "stream",
     "text": [
      "100%|██████████| 1/1 [00:00<00:00, 333.49it/s]"
     ]
    },
    {
     "name": "stdout",
     "output_type": "stream",
     "text": [
      "Distance: 201.16784037216286"
     ]
    },
    {
     "name": "stderr",
     "output_type": "stream",
     "text": [
      "\n"
     ]
    },
    {
     "name": "stdout",
     "output_type": "stream",
     "text": [
      " degrees: 70.3461759419467\n"
     ]
    },
    {
     "name": "stderr",
     "output_type": "stream",
     "text": [
      "100%|██████████| 1/1 [00:00<00:00, 200.10it/s]\n"
     ]
    },
    {
     "name": "stdout",
     "output_type": "stream",
     "text": [
      "Distance: 201.16784037216286 degrees: 70.3461759419467\n"
     ]
    },
    {
     "name": "stderr",
     "output_type": "stream",
     "text": [
      "100%|██████████| 1/1 [00:00<00:00, 250.23it/s]\n"
     ]
    },
    {
     "name": "stdout",
     "output_type": "stream",
     "text": [
      "Distance: 201.16784037216286 degrees: 70.3461759419467\n"
     ]
    },
    {
     "name": "stderr",
     "output_type": "stream",
     "text": [
      "100%|██████████| 1/1 [00:00<00:00, 250.02it/s]\n"
     ]
    },
    {
     "name": "stdout",
     "output_type": "stream",
     "text": [
      "Distance: 201.16784037216286 degrees: 70.3461759419467\n"
     ]
    },
    {
     "name": "stderr",
     "output_type": "stream",
     "text": [
      "100%|██████████| 1/1 [00:00<00:00, 200.13it/s]\n"
     ]
    },
    {
     "name": "stdout",
     "output_type": "stream",
     "text": [
      "Distance: 201.16784037216286 degrees: 70.3461759419467\n"
     ]
    },
    {
     "name": "stderr",
     "output_type": "stream",
     "text": [
      "100%|██████████| 1/1 [00:00<00:00, 250.17it/s]\n"
     ]
    },
    {
     "name": "stdout",
     "output_type": "stream",
     "text": [
      "Distance: 266.9386633666993 degrees: 5.180510561890557\n"
     ]
    },
    {
     "name": "stderr",
     "output_type": "stream",
     "text": [
      "100%|██████████| 1/1 [00:00<00:00, 200.17it/s]\n",
      "100%|██████████| 1/1 [00:00<00:00, 166.76it/s]\n",
      "100%|██████████| 1/1 [00:00<00:00, 333.52it/s]\n",
      "100%|██████████| 1/1 [00:00<00:00, 502.25it/s]\n"
     ]
    },
    {
     "name": "stdout",
     "output_type": "stream",
     "text": [
      "Target node:  2\n",
      "Distance: 263.10454196003536 degrees: -4.244764906823065\n",
      "angle calculé:  -4.244764906823065\n",
      "Robotx:  94.0 Roboty:  260.0 Robotangle:  -48.01278750418334\n",
      "Objective_pos  [284 442]\n"
     ]
    },
    {
     "name": "stderr",
     "output_type": "stream",
     "text": [
      "100%|██████████| 1/1 [00:00<00:00, 500.22it/s]\n",
      "100%|██████████| 1/1 [00:00<00:00, 493.45it/s]\n"
     ]
    },
    {
     "name": "stdout",
     "output_type": "stream",
     "text": [
      "Target node:  2\n",
      "Distance: 257.0880199464767 degrees: -0.6749719940369587\n",
      "angle calculé:  -0.6749719940369587\n",
      "Robotx:  98.5 Roboty:  264.0 Robotangle:  -44.492970939085225\n",
      "Objective_pos  [284 442]\n"
     ]
    },
    {
     "name": "stderr",
     "output_type": "stream",
     "text": [
      "100%|██████████| 1/1 [00:00<00:00, 500.99it/s]\n"
     ]
    },
    {
     "name": "stdout",
     "output_type": "stream",
     "text": [
      "Target node:  2\n",
      "Distance: 254.93185363935987 degrees: -0.2081377007683045\n",
      "angle calculé:  -0.2081377007683045\n",
      "Robotx:  101.5 Roboty:  264.0 Robotangle:  -44.492970939085225\n",
      "Objective_pos  [284 442]\n"
     ]
    },
    {
     "name": "stderr",
     "output_type": "stream",
     "text": [
      "100%|██████████| 1/1 [00:00<00:00, 333.94it/s]\n"
     ]
    },
    {
     "name": "stdout",
     "output_type": "stream",
     "text": [
      "Target node:  2\n",
      "Distance: 245.7402083502006 degrees: 3.8935451618917583\n",
      "angle calculé:  3.8935451618917583\n",
      "Robotx:  108.0 Roboty:  270.5 Robotangle:  -40.36453657309736\n",
      "Objective_pos  [284 442]\n"
     ]
    },
    {
     "name": "stderr",
     "output_type": "stream",
     "text": [
      "100%|██████████| 1/1 [00:00<00:00, 494.03it/s]\n"
     ]
    },
    {
     "name": "stdout",
     "output_type": "stream",
     "text": [
      "Target node:  2\n",
      "Distance: 236.183191611935 degrees: 3.645023382595461\n",
      "angle calculé:  3.645023382595461\n",
      "Robotx:  115.5 Roboty:  276.5 Robotangle:  -40.84035770628736\n",
      "Objective_pos  [284 442]\n"
     ]
    },
    {
     "name": "stderr",
     "output_type": "stream",
     "text": [
      "100%|██████████| 1/1 [00:00<00:00, 493.27it/s]\n"
     ]
    },
    {
     "name": "stdout",
     "output_type": "stream",
     "text": [
      "Target node:  2\n",
      "Distance: 226.27527483134344 degrees: 3.980593565573656\n",
      "angle calculé:  3.980593565573656\n",
      "Robotx:  123.5 Roboty:  282.5 Robotangle:  -40.84035770628736\n",
      "Objective_pos  [284 442]\n"
     ]
    },
    {
     "name": "stderr",
     "output_type": "stream",
     "text": [
      "100%|██████████| 1/1 [00:00<00:00, 500.51it/s]\n"
     ]
    },
    {
     "name": "stdout",
     "output_type": "stream",
     "text": [
      "Target node:  2\n",
      "Distance: 216.3792966066763 degrees: 186.48998045300823\n",
      "angle calculé:  186.48998045300823\n",
      "Robotx:  132.0 Roboty:  288.0 Robotangle:  141.1155035662854\n",
      "Objective_pos  [284 442]\n",
      "Distance: 216.3792966066763 degrees: 186.48998045300823\n"
     ]
    },
    {
     "name": "stderr",
     "output_type": "stream",
     "text": [
      "100%|██████████| 1/1 [00:00<00:00, 333.49it/s]\n"
     ]
    },
    {
     "name": "stdout",
     "output_type": "stream",
     "text": [
      "Distance: 209.3083849252103 degrees: 186.50263132043636\n"
     ]
    },
    {
     "name": "stderr",
     "output_type": "stream",
     "text": [
      "100%|██████████| 1/1 [00:00<00:00, 500.10it/s]\n"
     ]
    },
    {
     "name": "stdout",
     "output_type": "stream",
     "text": [
      "Distance: 209.3083849252103 degrees: 186.50263132043636\n"
     ]
    },
    {
     "name": "stderr",
     "output_type": "stream",
     "text": [
      "100%|██████████| 1/1 [00:00<00:00, 333.54it/s]\n"
     ]
    },
    {
     "name": "stdout",
     "output_type": "stream",
     "text": [
      "Distance: 208.5976989326584 degrees: 184.27983901744471\n"
     ]
    },
    {
     "name": "stderr",
     "output_type": "stream",
     "text": [
      "100%|██████████| 1/1 [00:00<00:00, 500.63it/s]\n"
     ]
    },
    {
     "name": "stdout",
     "output_type": "stream",
     "text": [
      "Distance: 208.5976989326584 degrees: 184.27983901744471\n"
     ]
    },
    {
     "name": "stderr",
     "output_type": "stream",
     "text": [
      "100%|██████████| 1/1 [00:00<00:00, 500.57it/s]\n"
     ]
    },
    {
     "name": "stdout",
     "output_type": "stream",
     "text": [
      "Distance: 208.5976989326584 degrees: 184.27983901744471\n"
     ]
    },
    {
     "name": "stderr",
     "output_type": "stream",
     "text": [
      "100%|██████████| 1/1 [00:00<00:00, 250.15it/s]\n"
     ]
    },
    {
     "name": "stdout",
     "output_type": "stream",
     "text": [
      "Distance: 208.5976989326584 degrees: 184.27983901744471\n"
     ]
    },
    {
     "name": "stderr",
     "output_type": "stream",
     "text": [
      "100%|██████████| 1/1 [00:00<00:00, 200.13it/s]\n"
     ]
    },
    {
     "name": "stdout",
     "output_type": "stream",
     "text": [
      "Distance: 208.5976989326584 degrees: 184.27983901744471\n"
     ]
    },
    {
     "name": "stderr",
     "output_type": "stream",
     "text": [
      "100%|██████████| 1/1 [00:00<00:00, 250.18it/s]\n"
     ]
    },
    {
     "name": "stdout",
     "output_type": "stream",
     "text": [
      "Distance: 208.5976989326584 degrees: 184.27983901744471\n"
     ]
    },
    {
     "name": "stderr",
     "output_type": "stream",
     "text": [
      "100%|██████████| 1/1 [00:00<00:00, 250.15it/s]\n"
     ]
    },
    {
     "name": "stdout",
     "output_type": "stream",
     "text": [
      "Distance: 208.5976989326584 degrees: 184.27983901744471\n"
     ]
    },
    {
     "name": "stderr",
     "output_type": "stream",
     "text": [
      "100%|██████████| 1/1 [00:00<00:00, 200.16it/s]"
     ]
    },
    {
     "name": "stdout",
     "output_type": "stream",
     "text": [
      "Distance: 208.5976989326584"
     ]
    },
    {
     "name": "stderr",
     "output_type": "stream",
     "text": [
      "\n"
     ]
    },
    {
     "name": "stdout",
     "output_type": "stream",
     "text": [
      " degrees: 184.27983901744471\n"
     ]
    },
    {
     "name": "stderr",
     "output_type": "stream",
     "text": [
      "100%|██████████| 1/1 [00:00<00:00, 200.13it/s]\n"
     ]
    },
    {
     "name": "stdout",
     "output_type": "stream",
     "text": [
      "Distance: 208.5976989326584 degrees: 184.27983901744471\n"
     ]
    },
    {
     "name": "stderr",
     "output_type": "stream",
     "text": [
      "100%|██████████| 1/1 [00:00<00:00, 200.12it/s]\n"
     ]
    },
    {
     "name": "stdout",
     "output_type": "stream",
     "text": [
      "Distance: 208.5976989326584 degrees: 184.27983901744471\n"
     ]
    },
    {
     "name": "stderr",
     "output_type": "stream",
     "text": [
      "100%|██████████| 1/1 [00:00<00:00, 166.78it/s]"
     ]
    },
    {
     "name": "stdout",
     "output_type": "stream",
     "text": [
      "Distance: 208.5976989326584 "
     ]
    },
    {
     "name": "stderr",
     "output_type": "stream",
     "text": [
      "\n"
     ]
    },
    {
     "name": "stdout",
     "output_type": "stream",
     "text": [
      "degrees: 184.27983901744471\n"
     ]
    },
    {
     "name": "stderr",
     "output_type": "stream",
     "text": [
      "100%|██████████| 1/1 [00:00<00:00, 250.18it/s]"
     ]
    },
    {
     "name": "stdout",
     "output_type": "stream",
     "text": [
      "Distance: 208.5976989326584"
     ]
    },
    {
     "name": "stderr",
     "output_type": "stream",
     "text": [
      "\n"
     ]
    },
    {
     "name": "stdout",
     "output_type": "stream",
     "text": [
      " degrees: 184.27983901744471\n"
     ]
    },
    {
     "name": "stderr",
     "output_type": "stream",
     "text": [
      "100%|██████████| 1/1 [00:00<00:00, 250.18it/s]"
     ]
    },
    {
     "name": "stdout",
     "output_type": "stream",
     "text": [
      "Distance: 208.5976989326584"
     ]
    },
    {
     "name": "stderr",
     "output_type": "stream",
     "text": [
      "\n"
     ]
    },
    {
     "name": "stdout",
     "output_type": "stream",
     "text": [
      " degrees: 184.27983901744471\n"
     ]
    },
    {
     "name": "stderr",
     "output_type": "stream",
     "text": [
      "100%|██████████| 1/1 [00:00<00:00, 250.12it/s]"
     ]
    },
    {
     "name": "stdout",
     "output_type": "stream",
     "text": [
      "Distance: 208.5976989326584 degrees: 184.27983901744471\n"
     ]
    },
    {
     "name": "stderr",
     "output_type": "stream",
     "text": [
      "\n",
      "100%|██████████| 1/1 [00:00<00:00, 200.14it/s]"
     ]
    },
    {
     "name": "stdout",
     "output_type": "stream",
     "text": [
      "Distance: 208.5976989326584 degrees: 184.27983901744471\n"
     ]
    },
    {
     "name": "stderr",
     "output_type": "stream",
     "text": [
      "\n",
      "100%|██████████| 1/1 [00:00<00:00, 200.12it/s]"
     ]
    },
    {
     "name": "stdout",
     "output_type": "stream",
     "text": [
      "Distance: 208.5976989326584 degrees: 184.27983901744471\n"
     ]
    },
    {
     "name": "stderr",
     "output_type": "stream",
     "text": [
      "\n",
      "100%|██████████| 1/1 [00:00<00:00, 250.17it/s]"
     ]
    },
    {
     "name": "stdout",
     "output_type": "stream",
     "text": [
      "Distance: 208.5976989326584 degrees: 184.27983901744471\n"
     ]
    },
    {
     "name": "stderr",
     "output_type": "stream",
     "text": [
      "\n",
      "100%|██████████| 1/1 [00:00<00:00, 200.07it/s]\n"
     ]
    },
    {
     "name": "stdout",
     "output_type": "stream",
     "text": [
      "Distance: 208.5976989326584 degrees: 184.27983901744471\n"
     ]
    },
    {
     "name": "stderr",
     "output_type": "stream",
     "text": [
      "100%|██████████| 1/1 [00:00<00:00, 333.49it/s]\n"
     ]
    },
    {
     "name": "stdout",
     "output_type": "stream",
     "text": [
      "Distance: 208.5976989326584 degrees: 184.27983901744471\n"
     ]
    },
    {
     "name": "stderr",
     "output_type": "stream",
     "text": [
      "100%|██████████| 1/1 [00:00<00:00, 250.12it/s]\n"
     ]
    },
    {
     "name": "stdout",
     "output_type": "stream",
     "text": [
      "Distance: 208.5976989326584 degrees: 184.27983901744471\n"
     ]
    },
    {
     "name": "stderr",
     "output_type": "stream",
     "text": [
      "100%|██████████| 1/1 [00:00<00:00, 200.15it/s]\n"
     ]
    },
    {
     "name": "stdout",
     "output_type": "stream",
     "text": [
      "Distance: 208.5976989326584 degrees: 184.27983901744471\n"
     ]
    },
    {
     "name": "stderr",
     "output_type": "stream",
     "text": [
      "100%|██████████| 1/1 [00:00<00:00, 501.23it/s]\n"
     ]
    },
    {
     "name": "stdout",
     "output_type": "stream",
     "text": [
      "Distance: 208.5976989326584 degrees: 184.27983901744471\n"
     ]
    },
    {
     "name": "stderr",
     "output_type": "stream",
     "text": [
      "100%|██████████| 1/1 [00:00<00:00, 333.68it/s]\n"
     ]
    },
    {
     "name": "stdout",
     "output_type": "stream",
     "text": [
      "Distance: 208.5976989326584 degrees: 184.27983901744471\n"
     ]
    },
    {
     "name": "stderr",
     "output_type": "stream",
     "text": [
      "100%|██████████| 1/1 [00:00<00:00, 200.12it/s]\n"
     ]
    },
    {
     "name": "stdout",
     "output_type": "stream",
     "text": [
      "Distance: 208.5976989326584 degrees: 184.27983901744471\n"
     ]
    },
    {
     "name": "stderr",
     "output_type": "stream",
     "text": [
      "100%|██████████| 1/1 [00:00<00:00, 333.41it/s]\n"
     ]
    },
    {
     "name": "stdout",
     "output_type": "stream",
     "text": [
      "Distance: 208.5976989326584 degrees: 184.27983901744471\n"
     ]
    },
    {
     "name": "stderr",
     "output_type": "stream",
     "text": [
      "100%|██████████| 1/1 [00:00<00:00, 333.49it/s]\n"
     ]
    },
    {
     "name": "stdout",
     "output_type": "stream",
     "text": [
      "Distance: 208.5976989326584 degrees: 184.27983901744471\n"
     ]
    },
    {
     "name": "stderr",
     "output_type": "stream",
     "text": [
      "100%|██████████| 1/1 [00:00<00:00, 200.02it/s]\n"
     ]
    },
    {
     "name": "stdout",
     "output_type": "stream",
     "text": [
      "Distance: 208.5976989326584 degrees: 184.27983901744471\n"
     ]
    },
    {
     "name": "stderr",
     "output_type": "stream",
     "text": [
      "100%|██████████| 1/1 [00:00<00:00, 200.06it/s]"
     ]
    },
    {
     "name": "stdout",
     "output_type": "stream",
     "text": [
      "Distance: 208.5976989326584"
     ]
    },
    {
     "name": "stderr",
     "output_type": "stream",
     "text": [
      "\n"
     ]
    },
    {
     "name": "stdout",
     "output_type": "stream",
     "text": [
      " degrees: 184.27983901744471\n"
     ]
    },
    {
     "name": "stderr",
     "output_type": "stream",
     "text": [
      "100%|██████████| 1/1 [00:00<00:00, 200.09it/s]\n"
     ]
    },
    {
     "name": "stdout",
     "output_type": "stream",
     "text": [
      "Distance: 208.5976989326584 degrees: 184.27983901744471\n"
     ]
    },
    {
     "name": "stderr",
     "output_type": "stream",
     "text": [
      "100%|██████████| 1/1 [00:00<00:00, 200.11it/s]\n"
     ]
    },
    {
     "name": "stdout",
     "output_type": "stream",
     "text": [
      "Distance: 208.5976989326584 degrees: 184.27983901744471\n"
     ]
    },
    {
     "name": "stderr",
     "output_type": "stream",
     "text": [
      "100%|██████████| 1/1 [00:00<00:00, 200.10it/s]\n"
     ]
    },
    {
     "name": "stdout",
     "output_type": "stream",
     "text": [
      "Distance: 208.5976989326584 degrees: 184.27983901744471\n"
     ]
    },
    {
     "name": "stderr",
     "output_type": "stream",
     "text": [
      "100%|██████████| 1/1 [00:00<00:00, 333.52it/s]\n"
     ]
    },
    {
     "name": "stdout",
     "output_type": "stream",
     "text": [
      "Distance: 228.64000087473758 degrees: 98.03722583453367\n"
     ]
    },
    {
     "name": "stderr",
     "output_type": "stream",
     "text": [
      "100%|██████████| 1/1 [00:00<00:00, 250.20it/s]\n"
     ]
    },
    {
     "name": "stdout",
     "output_type": "stream",
     "text": [
      "Distance: 230.1222501193659 degrees: 93.62556530085601\n"
     ]
    },
    {
     "name": "stderr",
     "output_type": "stream",
     "text": [
      "100%|██████████| 1/1 [00:00<00:00, 200.04it/s]\n"
     ]
    },
    {
     "name": "stdout",
     "output_type": "stream",
     "text": [
      "Distance: 231.1384866265244 degrees: 91.10656895307866\n"
     ]
    },
    {
     "name": "stderr",
     "output_type": "stream",
     "text": [
      "100%|██████████| 1/1 [00:00<00:00, 250.14it/s]"
     ]
    },
    {
     "name": "stdout",
     "output_type": "stream",
     "text": [
      "Distance: 231.4524789238603"
     ]
    },
    {
     "name": "stderr",
     "output_type": "stream",
     "text": [
      "\n"
     ]
    },
    {
     "name": "stdout",
     "output_type": "stream",
     "text": [
      " degrees: 88.66990110814477\n"
     ]
    },
    {
     "name": "stderr",
     "output_type": "stream",
     "text": [
      "100%|██████████| 1/1 [00:00<00:00, 250.18it/s]\n"
     ]
    },
    {
     "name": "stdout",
     "output_type": "stream",
     "text": [
      "Distance: 232.15565898767147 degrees: 87.64265746270573\n"
     ]
    },
    {
     "name": "stderr",
     "output_type": "stream",
     "text": [
      "100%|██████████| 1/1 [00:00<00:00, 166.76it/s]\n"
     ]
    },
    {
     "name": "stdout",
     "output_type": "stream",
     "text": [
      "Distance: 232.62093628906234 degrees: 85.80007319156951\n"
     ]
    },
    {
     "name": "stderr",
     "output_type": "stream",
     "text": [
      "100%|██████████| 1/1 [00:00<00:00, 500.10it/s]"
     ]
    },
    {
     "name": "stdout",
     "output_type": "stream",
     "text": [
      "Distance: 233.03218661807213 degrees: -95.5721978039638\n"
     ]
    },
    {
     "name": "stderr",
     "output_type": "stream",
     "text": [
      "\n",
      "100%|██████████| 1/1 [00:00<00:00, 250.12it/s]\n"
     ]
    },
    {
     "name": "stdout",
     "output_type": "stream",
     "text": [
      "Distance: 232.08242070436958 degrees: -95.33260535470419\n"
     ]
    },
    {
     "name": "stderr",
     "output_type": "stream",
     "text": [
      "100%|██████████| 1/1 [00:00<00:00, 500.39it/s]\n"
     ]
    },
    {
     "name": "stdout",
     "output_type": "stream",
     "text": [
      "Distance: 234.26534101313408 degrees: 80.34817715187668\n"
     ]
    },
    {
     "name": "stderr",
     "output_type": "stream",
     "text": [
      "100%|██████████| 1/1 [00:00<00:00, 250.14it/s]"
     ]
    },
    {
     "name": "stdout",
     "output_type": "stream",
     "text": [
      "Distance: 235.14357316329102 degrees: -99.68165036278363\n"
     ]
    },
    {
     "name": "stderr",
     "output_type": "stream",
     "text": [
      "\n",
      "100%|██████████| 1/1 [00:00<00:00, 500.57it/s]\n"
     ]
    },
    {
     "name": "stdout",
     "output_type": "stream",
     "text": [
      "Distance: 233.48929311640822 degrees: -99.49731869134456\n"
     ]
    },
    {
     "name": "stderr",
     "output_type": "stream",
     "text": [
      "100%|██████████| 1/1 [00:00<00:00, 200.12it/s]\n"
     ]
    },
    {
     "name": "stdout",
     "output_type": "stream",
     "text": [
      "Distance: 233.1019090440917 degrees: -101.03526279596656\n"
     ]
    },
    {
     "name": "stderr",
     "output_type": "stream",
     "text": [
      "100%|██████████| 1/1 [00:00<00:00, 250.15it/s]\n"
     ]
    },
    {
     "name": "stdout",
     "output_type": "stream",
     "text": [
      "Distance: 238.3448132433345 degrees: -108.68394661306762\n"
     ]
    },
    {
     "name": "stderr",
     "output_type": "stream",
     "text": [
      "100%|██████████| 1/1 [00:00<00:00, 250.15it/s]"
     ]
    },
    {
     "name": "stdout",
     "output_type": "stream",
     "text": [
      "Distance: 240.38978763666313"
     ]
    },
    {
     "name": "stderr",
     "output_type": "stream",
     "text": [
      "\n"
     ]
    },
    {
     "name": "stdout",
     "output_type": "stream",
     "text": [
      " degrees: 66.24855421538884\n"
     ]
    },
    {
     "name": "stderr",
     "output_type": "stream",
     "text": [
      "100%|██████████| 1/1 [00:00<00:00, 333.49it/s]\n"
     ]
    },
    {
     "name": "stdout",
     "output_type": "stream",
     "text": [
      "Distance: 236.5512629431515 degrees: -110.28580826136019\n"
     ]
    },
    {
     "name": "stderr",
     "output_type": "stream",
     "text": [
      "100%|██████████| 1/1 [00:00<00:00, 500.33it/s]\n"
     ]
    },
    {
     "name": "stdout",
     "output_type": "stream",
     "text": [
      "Distance: 237.50842090334396 degrees: -110.64951804901783\n"
     ]
    },
    {
     "name": "stderr",
     "output_type": "stream",
     "text": [
      "100%|██████████| 1/1 [00:00<00:00, 333.68it/s]\n"
     ]
    },
    {
     "name": "stdout",
     "output_type": "stream",
     "text": [
      "Distance: 242.3762570880242 degrees: 61.04773826402615\n"
     ]
    },
    {
     "name": "stderr",
     "output_type": "stream",
     "text": [
      "100%|██████████| 1/1 [00:00<00:00, 249.81it/s]"
     ]
    },
    {
     "name": "stdout",
     "output_type": "stream",
     "text": [
      "Distance: 237.89283301520456"
     ]
    },
    {
     "name": "stderr",
     "output_type": "stream",
     "text": [
      "\n"
     ]
    },
    {
     "name": "stdout",
     "output_type": "stream",
     "text": [
      " degrees: -112.38966981928768\n"
     ]
    },
    {
     "name": "stderr",
     "output_type": "stream",
     "text": [
      "100%|██████████| 1/1 [00:00<00:00, 200.14it/s]"
     ]
    },
    {
     "name": "stdout",
     "output_type": "stream",
     "text": [
      "Distance: 237.89283301520456"
     ]
    },
    {
     "name": "stderr",
     "output_type": "stream",
     "text": [
      "\n"
     ]
    },
    {
     "name": "stdout",
     "output_type": "stream",
     "text": [
      " degrees: -112.38966981928768\n"
     ]
    },
    {
     "name": "stderr",
     "output_type": "stream",
     "text": [
      "100%|██████████| 1/1 [00:00<00:00, 250.08it/s]"
     ]
    },
    {
     "name": "stdout",
     "output_type": "stream",
     "text": [
      "Distance: 239.5584479829505"
     ]
    },
    {
     "name": "stderr",
     "output_type": "stream",
     "text": [
      "\n"
     ]
    },
    {
     "name": "stdout",
     "output_type": "stream",
     "text": [
      " degrees: -117.08961004110662\n"
     ]
    },
    {
     "name": "stderr",
     "output_type": "stream",
     "text": [
      "100%|██████████| 1/1 [00:00<00:00, 333.73it/s]"
     ]
    },
    {
     "name": "stdout",
     "output_type": "stream",
     "text": [
      "Distance: 239.5584479829505 degrees: -119.01048186364162\n"
     ]
    },
    {
     "name": "stderr",
     "output_type": "stream",
     "text": [
      "\n",
      "100%|██████████| 1/1 [00:00<00:00, 250.24it/s]"
     ]
    },
    {
     "name": "stdout",
     "output_type": "stream",
     "text": [
      "Distance: 239.5584479829505 degrees: -119.01048186364162\n"
     ]
    },
    {
     "name": "stderr",
     "output_type": "stream",
     "text": [
      "\n",
      "100%|██████████| 1/1 [00:00<00:00, 200.12it/s]\n"
     ]
    },
    {
     "name": "stdout",
     "output_type": "stream",
     "text": [
      "Distance: 240.907139786267 degrees: -122.53274735257986\n"
     ]
    },
    {
     "name": "stderr",
     "output_type": "stream",
     "text": [
      "100%|██████████| 1/1 [00:00<00:00, 250.18it/s]\n"
     ]
    },
    {
     "name": "stdout",
     "output_type": "stream",
     "text": [
      "Distance: 242.25864277668197 degrees: -126.10819449458212\n"
     ]
    },
    {
     "name": "stderr",
     "output_type": "stream",
     "text": [
      "100%|██████████| 1/1 [00:00<00:00, 250.11it/s]\n"
     ]
    },
    {
     "name": "stdout",
     "output_type": "stream",
     "text": [
      "Distance: 242.9079043588331 degrees: -129.11944306828133\n"
     ]
    },
    {
     "name": "stderr",
     "output_type": "stream",
     "text": [
      "100%|██████████| 1/1 [00:00<00:00, 200.09it/s]\n"
     ]
    },
    {
     "name": "stdout",
     "output_type": "stream",
     "text": [
      "Distance: 243.88624397452185 degrees: -133.96220098958142\n"
     ]
    },
    {
     "name": "stderr",
     "output_type": "stream",
     "text": [
      "100%|██████████| 1/1 [00:00<00:00, 250.18it/s]"
     ]
    },
    {
     "name": "stdout",
     "output_type": "stream",
     "text": [
      "Distance: 244.54140753663785"
     ]
    },
    {
     "name": "stderr",
     "output_type": "stream",
     "text": [
      "\n"
     ]
    },
    {
     "name": "stdout",
     "output_type": "stream",
     "text": [
      " degrees: -136.80463833806817\n"
     ]
    },
    {
     "name": "stderr",
     "output_type": "stream",
     "text": [
      "100%|██████████| 1/1 [00:00<00:00, 200.10it/s]\n"
     ]
    },
    {
     "name": "stdout",
     "output_type": "stream",
     "text": [
      "Distance: 245.246814454337 degrees: -137.4991174236011\n"
     ]
    },
    {
     "name": "stderr",
     "output_type": "stream",
     "text": [
      "100%|██████████| 1/1 [00:00<00:00, 200.09it/s]\n"
     ]
    },
    {
     "name": "stdout",
     "output_type": "stream",
     "text": [
      "Distance: 245.85869925630047 degrees: 219.14109546248142\n"
     ]
    },
    {
     "name": "stderr",
     "output_type": "stream",
     "text": [
      "100%|██████████| 1/1 [00:00<00:00, 250.36it/s]"
     ]
    },
    {
     "name": "stdout",
     "output_type": "stream",
     "text": [
      "Distance: 245.85869925630047 degrees: 217.65698096508387\n"
     ]
    },
    {
     "name": "stderr",
     "output_type": "stream",
     "text": [
      "\n",
      "100%|██████████| 1/1 [00:00<00:00, 200.13it/s]"
     ]
    },
    {
     "name": "stdout",
     "output_type": "stream",
     "text": [
      "Distance: 247.14570601165622"
     ]
    },
    {
     "name": "stderr",
     "output_type": "stream",
     "text": [
      "\n"
     ]
    },
    {
     "name": "stdout",
     "output_type": "stream",
     "text": [
      " degrees: 216.0278081422857\n"
     ]
    },
    {
     "name": "stderr",
     "output_type": "stream",
     "text": [
      "100%|██████████| 1/1 [00:00<00:00, 333.60it/s]"
     ]
    },
    {
     "name": "stdout",
     "output_type": "stream",
     "text": [
      "Distance: 247.81444671366518"
     ]
    },
    {
     "name": "stderr",
     "output_type": "stream",
     "text": [
      "\n"
     ]
    },
    {
     "name": "stdout",
     "output_type": "stream",
     "text": [
      " degrees: 214.75019411670155\n"
     ]
    },
    {
     "name": "stderr",
     "output_type": "stream",
     "text": [
      "100%|██████████| 1/1 [00:00<00:00, 250.11it/s]\n"
     ]
    },
    {
     "name": "stdout",
     "output_type": "stream",
     "text": [
      "Distance: 247.47979715524255 degrees: 211.08447691801925\n"
     ]
    },
    {
     "name": "stderr",
     "output_type": "stream",
     "text": [
      "100%|██████████| 1/1 [00:00<00:00, 200.11it/s]\n"
     ]
    },
    {
     "name": "stdout",
     "output_type": "stream",
     "text": [
      "Distance: 247.7458375028731 degrees: 209.0580553748448\n"
     ]
    },
    {
     "name": "stderr",
     "output_type": "stream",
     "text": [
      "100%|██████████| 1/1 [00:00<00:00, 333.70it/s]"
     ]
    },
    {
     "name": "stdout",
     "output_type": "stream",
     "text": [
      "Distance: 247.7458375028731 degrees: 209.0580553748448\n"
     ]
    },
    {
     "name": "stderr",
     "output_type": "stream",
     "text": [
      "\n"
     ]
    },
    {
     "name": "stdout",
     "output_type": "stream",
     "text": [
      "Distance: 247.7458375028731 degrees: 209.0580553748448\n",
      "Distance: 247.7458375028731 degrees: 209.0580553748448\n",
      "Distance: 247.7458375028731 degrees: 209.0580553748448\n",
      "Distance: 247.7458375028731 degrees: 209.0580553748448\n",
      "Distance: 247.7458375028731 degrees: 209.0580553748448\n",
      "Distance: 247.7458375028731 degrees: 209.0580553748448\n",
      "Distance: 247.7458375028731 degrees: 209.0580553748448\n",
      "Distance: 247.7458375028731 degrees: 209.0580553748448\n",
      "Distance: 247.7458375028731 degrees: 209.0580553748448\n"
     ]
    },
    {
     "name": "stderr",
     "output_type": "stream",
     "text": [
      "100%|██████████| 1/1 [00:00<00:00, 333.36it/s]\n"
     ]
    },
    {
     "name": "stdout",
     "output_type": "stream",
     "text": [
      "Distance: 247.7458375028731 degrees: 209.0580553748448\n"
     ]
    },
    {
     "name": "stderr",
     "output_type": "stream",
     "text": [
      "100%|██████████| 1/1 [00:00<00:00, 249.88it/s]\n"
     ]
    },
    {
     "name": "stdout",
     "output_type": "stream",
     "text": [
      "Distance: 247.7458375028731 degrees: 209.0580553748448\n"
     ]
    },
    {
     "name": "stderr",
     "output_type": "stream",
     "text": [
      "100%|██████████| 1/1 [00:00<00:00, 333.54it/s]\n"
     ]
    },
    {
     "name": "stdout",
     "output_type": "stream",
     "text": [
      "Distance: 247.7458375028731 degrees: 209.0580553748448\n"
     ]
    },
    {
     "name": "stderr",
     "output_type": "stream",
     "text": [
      "100%|██████████| 1/1 [00:00<00:00, 499.74it/s]\n"
     ]
    },
    {
     "name": "stdout",
     "output_type": "stream",
     "text": [
      "Distance: 247.7458375028731 degrees: 209.0580553748448\n"
     ]
    },
    {
     "name": "stderr",
     "output_type": "stream",
     "text": [
      "100%|██████████| 1/1 [00:00<00:00, 500.16it/s]\n"
     ]
    },
    {
     "name": "stdout",
     "output_type": "stream",
     "text": [
      "Distance: 247.7458375028731 degrees: 209.0580553748448\n"
     ]
    },
    {
     "name": "stderr",
     "output_type": "stream",
     "text": [
      "100%|██████████| 1/1 [00:00<00:00, 500.10it/s]\n"
     ]
    },
    {
     "name": "stdout",
     "output_type": "stream",
     "text": [
      "Distance: 247.7458375028731 degrees: 209.0580553748448\n"
     ]
    },
    {
     "name": "stderr",
     "output_type": "stream",
     "text": [
      "100%|██████████| 1/1 [00:00<00:00, 500.10it/s]\n"
     ]
    },
    {
     "name": "stdout",
     "output_type": "stream",
     "text": [
      "Distance: 247.7458375028731 degrees: 209.0580553748448\n"
     ]
    },
    {
     "name": "stderr",
     "output_type": "stream",
     "text": [
      "100%|██████████| 1/1 [00:00<00:00, 1001.27it/s]\n"
     ]
    },
    {
     "name": "stdout",
     "output_type": "stream",
     "text": [
      "Distance: 247.7458375028731 degrees: 209.0580553748448\n"
     ]
    },
    {
     "name": "stderr",
     "output_type": "stream",
     "text": [
      "100%|██████████| 1/1 [00:00<00:00, 1000.31it/s]\n"
     ]
    },
    {
     "name": "stdout",
     "output_type": "stream",
     "text": [
      "Distance: 247.7458375028731 degrees: 209.0580553748448\n"
     ]
    },
    {
     "name": "stderr",
     "output_type": "stream",
     "text": [
      "100%|██████████| 1/1 [00:00<00:00, 200.13it/s]\n"
     ]
    },
    {
     "name": "stdout",
     "output_type": "stream",
     "text": [
      "Distance: 247.7458375028731 degrees: 209.0580553748448\n"
     ]
    },
    {
     "name": "stderr",
     "output_type": "stream",
     "text": [
      "100%|██████████| 2/2 [00:00<00:00, 222.36it/s]\n"
     ]
    },
    {
     "name": "stdout",
     "output_type": "stream",
     "text": [
      "Distance: 247.7458375028731 degrees: 209.0580553748448\n"
     ]
    },
    {
     "name": "stderr",
     "output_type": "stream",
     "text": [
      "100%|██████████| 2/2 [00:00<00:00, 125.07it/s]\n"
     ]
    },
    {
     "name": "stdout",
     "output_type": "stream",
     "text": [
      "Distance: 247.7458375028731 degrees: 209.0580553748448\n"
     ]
    },
    {
     "name": "stderr",
     "output_type": "stream",
     "text": [
      "100%|██████████| 1/1 [00:00<00:00, 500.33it/s]\n"
     ]
    },
    {
     "name": "stdout",
     "output_type": "stream",
     "text": [
      "Distance: 247.7458375028731 degrees: 209.0580553748448\n"
     ]
    },
    {
     "name": "stderr",
     "output_type": "stream",
     "text": [
      "100%|██████████| 1/1 [00:00<00:00, 333.86it/s]"
     ]
    },
    {
     "name": "stdout",
     "output_type": "stream",
     "text": [
      "Distance: 247.7458375028731"
     ]
    },
    {
     "name": "stderr",
     "output_type": "stream",
     "text": [
      "\n"
     ]
    },
    {
     "name": "stdout",
     "output_type": "stream",
     "text": [
      " degrees: 209.0580553748448\n"
     ]
    },
    {
     "name": "stderr",
     "output_type": "stream",
     "text": [
      "100%|██████████| 1/1 [00:00<00:00, 1001.27it/s]\n"
     ]
    },
    {
     "name": "stdout",
     "output_type": "stream",
     "text": [
      "Distance: 247.7458375028731 degrees: 209.0580553748448\n"
     ]
    },
    {
     "name": "stderr",
     "output_type": "stream",
     "text": [
      "100%|██████████| 1/1 [00:00<00:00, 500.22it/s]\n"
     ]
    },
    {
     "name": "stdout",
     "output_type": "stream",
     "text": [
      "Distance: 247.7458375028731 degrees: 209.0580553748448\n"
     ]
    },
    {
     "name": "stderr",
     "output_type": "stream",
     "text": [
      "100%|██████████| 1/1 [00:00<00:00, 500.27it/s]"
     ]
    },
    {
     "name": "stdout",
     "output_type": "stream",
     "text": [
      "Distance: 247.7458375028731"
     ]
    },
    {
     "name": "stderr",
     "output_type": "stream",
     "text": [
      "\n"
     ]
    },
    {
     "name": "stdout",
     "output_type": "stream",
     "text": [
      " degrees: 209.0580553748448\n",
      "Distance: 247.7458375028731 degrees: 209.0580553748448\n",
      "Distance: 247.7458375028731 degrees: 209.0580553748448\n",
      "Distance: 247.7458375028731 degrees: 209.0580553748448\n",
      "Distance: 247.7458375028731 degrees: 209.0580553748448\n",
      "Distance: 247.7458375028731 degrees: 209.0580553748448\n",
      "Distance: 247.7458375028731 degrees: 209.0580553748448\n",
      "Distance: 247.7458375028731 degrees: 209.0580553748448\n",
      "Distance: 247.7458375028731 degrees: 209.0580553748448\n",
      "Distance: 247.7458375028731 degrees: 209.0580553748448\n",
      "Distance: 247.7458375028731 degrees: 209.0580553748448\n",
      "Distance: 247.7458375028731 degrees: 209.0580553748448\n",
      "Distance: 247.7458375028731 degrees: 209.0580553748448\n",
      "Distance: 247.7458375028731 degrees: 209.0580553748448\n",
      "Distance: 247.7458375028731 degrees: 209.0580553748448\n",
      "Distance: 247.7458375028731 degrees: 209.0580553748448\n",
      "Distance: 247.7458375028731 degrees: 209.0580553748448\n",
      "Distance: 247.7458375028731 degrees: 209.0580553748448\n",
      "Distance: 247.7458375028731 degrees: 209.0580553748448\n",
      "Distance: 247.7458375028731 degrees: 209.0580553748448\n",
      "Distance: 247.7458375028731 degrees: 209.0580553748448\n",
      "Distance: 247.7458375028731 degrees: 209.0580553748448\n",
      "Distance: 247.7458375028731 degrees: 209.0580553748448\n",
      "Distance: 247.7458375028731 degrees: 209.0580553748448\n",
      "Distance: 247.7458375028731 degrees: 209.0580553748448\n",
      "Distance: 247.7458375028731 degrees: 209.0580553748448\n",
      "Distance: 247.7458375028731 degrees: 209.0580553748448\n",
      "Distance: 247.7458375028731 degrees: 209.0580553748448\n",
      "Distance: 247.7458375028731 degrees: 209.0580553748448\n",
      "Distance: 247.7458375028731 degrees: 209.0580553748448\n",
      "Distance: 247.7458375028731 degrees: 209.0580553748448\n",
      "Distance: 247.7458375028731 degrees: 209.0580553748448\n",
      "Distance: 247.7458375028731 degrees: 209.0580553748448\n",
      "Distance: 247.7458375028731 degrees: 209.0580553748448\n",
      "Distance: 247.7458375028731 degrees: 209.0580553748448\n",
      "Distance: 247.7458375028731 degrees: 209.0580553748448\n",
      "Distance: 247.7458375028731 degrees: 209.0580553748448\n",
      "Distance: 247.7458375028731 degrees: 209.0580553748448\n",
      "Distance: 247.7458375028731 degrees: 209.0580553748448\n",
      "Distance: 247.7458375028731 degrees: 209.0580553748448\n",
      "Distance: 247.7458375028731 degrees: 209.0580553748448\n",
      "Distance: 247.7458375028731 degrees: 209.0580553748448\n",
      "Distance: 247.7458375028731 degrees: 209.0580553748448\n",
      "Distance: 247.7458375028731 degrees: 209.0580553748448\n",
      "Distance: 247.7458375028731 degrees: 209.0580553748448\n",
      "Distance: 247.7458375028731 degrees: 209.0580553748448\n",
      "Distance: 247.7458375028731 degrees: 209.0580553748448\n",
      "Distance: 247.7458375028731 degrees: 209.0580553748448\n",
      "Distance: 247.7458375028731 degrees: 209.0580553748448\n",
      "Distance: 247.7458375028731 degrees: 209.0580553748448\n",
      "Distance: 247.7458375028731 degrees: 209.0580553748448\n",
      "Distance: 247.7458375028731 degrees: 209.0580553748448\n",
      "Distance: 247.7458375028731 degrees: 209.0580553748448\n",
      "Distance: 247.7458375028731 degrees: 209.0580553748448\n",
      "Distance: 247.7458375028731 degrees: 209.0580553748448\n",
      "Distance: 247.7458375028731 degrees: 209.0580553748448\n",
      "Distance: 247.7458375028731 degrees: 209.0580553748448\n",
      "Distance: 247.7458375028731 degrees: 209.0580553748448\n",
      "Distance: 247.7458375028731 degrees: 209.0580553748448\n",
      "Distance: 247.7458375028731 degrees: 209.0580553748448\n",
      "Distance: 247.7458375028731 degrees: 209.0580553748448\n",
      "Distance: 247.7458375028731 degrees: 209.0580553748448\n",
      "Distance: 247.7458375028731 degrees: 209.0580553748448\n",
      "Distance: 247.7458375028731 degrees: 209.0580553748448\n",
      "Distance: 247.7458375028731 degrees: 209.0580553748448\n",
      "Distance: 247.7458375028731 degrees: 209.0580553748448\n",
      "Distance: 247.7458375028731 degrees: 209.0580553748448\n",
      "Distance: 247.7458375028731 degrees: 209.0580553748448\n",
      "Distance: 247.7458375028731 degrees: 209.0580553748448\n",
      "Distance: 247.7458375028731 degrees: 209.0580553748448\n",
      "Distance: 247.7458375028731 degrees: 209.0580553748448\n",
      "Distance: 247.7458375028731 degrees: 209.0580553748448\n",
      "Distance: 247.7458375028731 degrees: 209.0580553748448\n",
      "Distance: 247.7458375028731 degrees: 209.0580553748448\n",
      "Distance: 247.7458375028731 degrees: 209.0580553748448\n",
      "Distance: 247.7458375028731 degrees: 209.0580553748448\n",
      "Distance: 247.7458375028731 degrees: 209.0580553748448\n",
      "Distance: 247.7458375028731 degrees: 209.0580553748448\n",
      "Distance: 247.7458375028731 degrees: 209.0580553748448\n",
      "Distance: 247.7458375028731 degrees: 209.0580553748448\n",
      "Distance: 247.7458375028731 degrees: 209.0580553748448\n",
      "Distance: 247.7458375028731 degrees: 209.0580553748448\n",
      "Distance: 247.7458375028731 degrees: 209.0580553748448\n",
      "Distance: 247.7458375028731 degrees: 209.0580553748448\n",
      "Distance: 247.7458375028731 degrees: 209.0580553748448\n",
      "Distance: 247.7458375028731 degrees: 209.0580553748448\n",
      "Distance: 247.7458375028731 degrees: 209.0580553748448\n",
      "Distance: 247.7458375028731 degrees: 209.0580553748448\n",
      "Distance: 247.7458375028731 degrees: 209.0580553748448\n",
      "Distance: 247.7458375028731 degrees: 209.0580553748448\n",
      "Distance: 247.7458375028731 degrees: 209.0580553748448\n",
      "Distance: 247.7458375028731 degrees: 209.0580553748448\n",
      "Distance: 247.7458375028731 degrees: 209.0580553748448\n",
      "Distance: 130.6770829181613 degrees: 161.91417482880215\n",
      "Distance: 130.6770829181613 degrees: 161.91417482880215\n",
      "Distance: 130.6770829181613 degrees: 161.91417482880215\n",
      "Distance: 130.6770829181613 degrees: 161.91417482880215\n",
      "Distance: 130.6770829181613 degrees: 161.91417482880215\n",
      "Distance: 130.6770829181613 degrees: 161.91417482880215\n",
      "Distance: 130.6770829181613 degrees: 161.91417482880215\n",
      "Distance: 130.6770829181613 degrees: 161.91417482880215\n",
      "Distance: 130.6770829181613 degrees: 161.91417482880215\n",
      "Distance: 130.6770829181613 degrees: 161.91417482880215\n",
      "Distance: 130.6770829181613 degrees: 161.91417482880215\n",
      "Distance: 130.6770829181613 degrees: 161.91417482880215\n",
      "Distance: 130.6770829181613 degrees: 161.91417482880215\n",
      "Distance: 130.6770829181613 degrees: 161.91417482880215\n",
      "Distance: 130.6770829181613 degrees: 161.91417482880215\n",
      "Distance: 130.6770829181613 degrees: 161.91417482880215\n",
      "Distance: 130.6770829181613 degrees: 161.91417482880215\n",
      "Distance: 130.6770829181613 degrees: 161.91417482880215\n",
      "Distance: 130.6770829181613 degrees: 161.91417482880215\n",
      "Distance: 130.6770829181613 degrees: 161.91417482880215\n",
      "Distance: 130.6770829181613 degrees: 161.91417482880215\n",
      "Distance: 130.6770829181613 degrees: 161.91417482880215\n",
      "Distance: 130.6770829181613 degrees: 161.91417482880215\n",
      "Distance: 130.6770829181613 degrees: 161.91417482880215\n",
      "Distance: 130.6770829181613 degrees: 161.91417482880215\n",
      "Distance: 130.6770829181613 degrees: 161.91417482880215\n",
      "Distance: 130.6770829181613 degrees: 161.91417482880215\n",
      "Distance: 130.6770829181613 degrees: 161.91417482880215\n",
      "Distance: 130.6770829181613 degrees: 161.91417482880215\n",
      "Distance: 130.6770829181613 degrees: 161.91417482880215\n",
      "Distance: 130.6770829181613 degrees: 161.91417482880215\n",
      "Distance: 130.6770829181613 degrees: 161.91417482880215\n",
      "Distance: 130.6770829181613 degrees: 161.91417482880215\n",
      "Distance: 130.6770829181613 degrees: 161.91417482880215\n",
      "Distance: 130.6770829181613 degrees: 161.91417482880215\n",
      "Distance: 130.6770829181613 degrees: 161.91417482880215\n",
      "Distance: 130.6770829181613 degrees: 161.91417482880215\n",
      "Distance: 130.6770829181613 degrees: 161.91417482880215\n",
      "Distance: 130.6770829181613 degrees: 161.91417482880215\n",
      "Distance: 130.6770829181613 degrees: 161.91417482880215\n",
      "Distance: 130.6770829181613 degrees: 161.91417482880215\n",
      "Distance: 130.6770829181613 degrees: 161.91417482880215\n",
      "Distance: 130.6770829181613 degrees: 161.91417482880215\n",
      "Distance: 130.6770829181613 degrees: 161.91417482880215\n",
      "Distance: 130.6770829181613 degrees: 161.91417482880215\n",
      "Distance: 130.6770829181613 degrees: 161.91417482880215\n",
      "Distance: 130.6770829181613 degrees: 161.91417482880215\n",
      "Distance: 130.6770829181613 degrees: 161.91417482880215\n",
      "Distance: 130.6770829181613 degrees: 161.91417482880215\n",
      "Distance: 130.6770829181613 degrees: 161.91417482880215\n",
      "Distance: 130.6770829181613 degrees: 161.91417482880215\n",
      "Distance: 130.6770829181613 degrees: 161.91417482880215\n",
      "Distance: 130.6770829181613 degrees: 161.91417482880215\n",
      "Distance: 130.6770829181613 degrees: 161.91417482880215\n",
      "Distance: 130.6770829181613 degrees: 161.91417482880215\n",
      "Distance: 130.6770829181613 degrees: 161.91417482880215\n",
      "Distance: 130.6770829181613 degrees: 161.91417482880215\n",
      "Distance: 130.6770829181613 degrees: 161.91417482880215\n",
      "Distance: 130.6770829181613 degrees: 161.91417482880215\n",
      "Distance: 130.6770829181613 degrees: 161.91417482880215\n",
      "Distance: 130.6770829181613 degrees: 161.91417482880215\n",
      "Distance: 130.6770829181613 degrees: 161.91417482880215\n",
      "Distance: 130.6770829181613 degrees: 161.91417482880215\n",
      "Distance: 130.6770829181613 degrees: 161.91417482880215\n",
      "Distance: 130.6770829181613 degrees: 161.91417482880215\n",
      "Distance: 130.6770829181613 degrees: 161.91417482880215\n",
      "Distance: 130.6770829181613 degrees: 161.91417482880215\n",
      "Distance: 130.6770829181613 degrees: 161.91417482880215\n",
      "Distance: 130.6770829181613 degrees: 161.91417482880215\n",
      "Distance: 130.6770829181613 degrees: 161.91417482880215\n",
      "Distance: 130.6770829181613 degrees: 161.91417482880215\n",
      "Distance: 130.6770829181613 degrees: 161.91417482880215\n",
      "Distance: 130.6770829181613 degrees: 161.91417482880215\n",
      "Distance: 130.6770829181613 degrees: 161.91417482880215\n",
      "Distance: 130.6770829181613 degrees: 161.91417482880215\n",
      "Distance: 130.6770829181613 degrees: 161.91417482880215\n",
      "Distance: 130.6770829181613 degrees: 161.91417482880215\n",
      "Distance: 130.6770829181613 degrees: 161.91417482880215\n",
      "Distance: 130.6770829181613 degrees: 161.91417482880215\n",
      "Distance: 130.6770829181613 degrees: 161.91417482880215\n",
      "Distance: 130.6770829181613 degrees: 161.91417482880215\n",
      "Distance: 130.6770829181613 degrees: 161.91417482880215\n",
      "Distance: 130.6770829181613 degrees: 161.91417482880215\n",
      "Distance: 130.6770829181613 degrees: 161.91417482880215\n",
      "Distance: 130.6770829181613 degrees: 161.91417482880215\n",
      "Distance: 130.6770829181613 degrees: 161.91417482880215\n",
      "Distance: 130.6770829181613 degrees: 161.91417482880215\n",
      "Distance: 130.6770829181613 degrees: 161.91417482880215\n",
      "Distance: 130.6770829181613 degrees: 161.91417482880215\n",
      "Distance: 130.6770829181613 degrees: 161.91417482880215\n",
      "Distance: 130.6770829181613 degrees: 161.91417482880215\n",
      "Distance: 130.6770829181613 degrees: 161.91417482880215\n",
      "Distance: 130.6770829181613 degrees: 161.91417482880215\n",
      "Distance: 130.6770829181613 degrees: 161.91417482880215\n",
      "Distance: 130.6770829181613 degrees: 161.91417482880215\n",
      "Distance: 130.6770829181613 degrees: 161.91417482880215\n",
      "Distance: 130.6770829181613 degrees: 161.91417482880215\n",
      "Distance: 130.6770829181613 degrees: 161.91417482880215\n",
      "Distance: 130.6770829181613 degrees: 161.91417482880215\n",
      "Distance: 130.6770829181613 degrees: 161.91417482880215\n",
      "Distance: 130.6770829181613 degrees: 161.91417482880215\n",
      "Distance: 130.6770829181613 degrees: 161.91417482880215\n",
      "Distance: 130.6770829181613 degrees: 161.91417482880215\n",
      "Distance: 130.6770829181613 degrees: 161.91417482880215\n",
      "Distance: 130.6770829181613 degrees: 161.91417482880215\n",
      "Distance: 130.6770829181613 degrees: 161.91417482880215\n",
      "Distance: 130.6770829181613 degrees: 161.91417482880215\n",
      "Distance: 130.6770829181613 degrees: 161.91417482880215\n",
      "Distance: 130.6770829181613 degrees: 161.91417482880215\n",
      "Distance: 130.6770829181613 degrees: 161.91417482880215\n",
      "Distance: 130.6770829181613 degrees: 161.91417482880215\n",
      "Distance: 130.6770829181613 degrees: 161.91417482880215\n",
      "Distance: 130.6770829181613 degrees: 161.91417482880215\n",
      "Distance: 130.6770829181613 degrees: 161.91417482880215\n",
      "Distance: 130.6770829181613 degrees: 161.91417482880215\n",
      "Distance: 130.6770829181613 degrees: 161.91417482880215\n",
      "Distance: 130.6770829181613 degrees: 161.91417482880215\n",
      "Distance: 130.6770829181613 degrees: 161.91417482880215\n",
      "Distance: 130.6770829181613 degrees: 161.91417482880215\n",
      "Distance: 130.6770829181613 degrees: 161.91417482880215\n",
      "Distance: 130.6770829181613 degrees: 161.91417482880215\n",
      "Distance: 130.6770829181613 degrees: 161.91417482880215\n",
      "Distance: 130.6770829181613 degrees: 161.91417482880215\n",
      "Distance: 130.6770829181613 degrees: 161.91417482880215\n",
      "Distance: 130.6770829181613 degrees: 161.91417482880215\n",
      "Distance: 130.6770829181613 degrees: 161.91417482880215\n",
      "Distance: 130.6770829181613 degrees: 161.91417482880215\n",
      "Distance: 130.6770829181613 degrees: 161.91417482880215\n",
      "Distance: 130.6770829181613 degrees: 161.91417482880215\n",
      "Distance: 130.6770829181613 degrees: 161.91417482880215\n",
      "Distance: 130.6770829181613 degrees: 161.91417482880215\n",
      "Distance: 130.6770829181613 degrees: 161.91417482880215\n",
      "Distance: 130.6770829181613 degrees: 161.91417482880215\n",
      "Distance: 130.6770829181613 degrees: 161.91417482880215\n",
      "Distance: 130.6770829181613 degrees: 161.91417482880215\n",
      "Distance: 130.6770829181613 degrees: 161.91417482880215\n",
      "Distance: 130.6770829181613 degrees: 161.91417482880215\n",
      "Distance: 130.6770829181613 degrees: 161.91417482880215\n",
      "Distance: 130.6770829181613 degrees: 161.91417482880215\n",
      "Distance: 130.6770829181613 degrees: 161.91417482880215\n",
      "Distance: 130.6770829181613 degrees: 161.91417482880215\n",
      "Distance: 130.6770829181613 degrees: 161.91417482880215\n",
      "Distance: 130.6770829181613 degrees: 161.91417482880215\n",
      "Distance: 130.6770829181613 degrees: 161.91417482880215\n",
      "Distance: 130.6770829181613 degrees: 161.91417482880215\n",
      "Distance: 130.6770829181613 degrees: 161.91417482880215\n",
      "Distance: 130.6770829181613 degrees: 161.91417482880215\n",
      "Distance: 130.6770829181613 degrees: 161.91417482880215\n",
      "Distance: 130.6770829181613 degrees: 161.91417482880215\n",
      "Distance: 130.6770829181613 degrees: 161.91417482880215\n",
      "Distance: 130.6770829181613 degrees: 161.91417482880215\n",
      "Distance: 130.6770829181613 degrees: 161.91417482880215\n",
      "Distance: 130.6770829181613 degrees: 161.91417482880215\n",
      "Distance: 130.6770829181613 degrees: 161.91417482880215\n",
      "Distance: 130.6770829181613 degrees: 161.91417482880215\n",
      "Distance: 130.6770829181613 degrees: 161.91417482880215\n",
      "Distance: 130.6770829181613 degrees: 161.91417482880215\n",
      "Distance: 130.6770829181613 degrees: 161.91417482880215\n",
      "Distance: 130.6770829181613 degrees: 161.91417482880215\n",
      "Distance: 130.6770829181613 degrees: 161.91417482880215\n",
      "Distance: 130.6770829181613 degrees: 161.91417482880215\n",
      "Distance: 130.6770829181613 degrees: 161.91417482880215\n",
      "Distance: 130.6770829181613 degrees: 161.91417482880215\n",
      "Distance: 130.6770829181613 degrees: 161.91417482880215\n",
      "Distance: 130.6770829181613 degrees: 161.91417482880215\n",
      "Distance: 130.6770829181613 degrees: 161.91417482880215\n",
      "Distance: 130.6770829181613 degrees: 161.91417482880215\n",
      "Distance: 174.0646431645439 degrees: 55.35474394318276\n",
      "Distance: 175.13780288675542 degrees: 54.540418368829435\n",
      "Distance: 175.47791883881004 degrees: 53.94508571838117\n",
      "Distance: 175.45369759569047 degrees: 53.32790057704862\n",
      "Distance: 176.13914953808538 degrees: 52.135861660056214\n",
      "Distance: 175.75906804486647 degrees: -128.24067132805874\n",
      "Distance: 176.13914953808538 degrees: -129.30454106918816\n",
      "Distance: 176.12069725049352 degrees: -129.88100779378988\n",
      "Distance: 176.4660023913955 degrees: -130.48043636609688\n",
      "Distance: 176.12069725049352 degrees: -131.31673722041438\n",
      "Distance: 176.4660023913955 degrees: -131.91958873677154\n",
      "Distance: 176.4660023913955 degrees: -133.36425188917923\n",
      "Distance: 176.4660023913955 degrees: -133.36425188917923\n",
      "Distance: 176.4660023913955 degrees: -133.36425188917923\n",
      "Distance: 177.50633791501645 degrees: -135.18777856775617\n",
      "Distance: 177.50633791501645 degrees: 223.36177283412533\n",
      "Distance: 176.7993212656655 degrees: 222.6512495594501\n",
      "Distance: 177.84614136944327 degrees: 222.28289277767243\n",
      "Distance: 175.7448434520911 degrees: 222.5123477717496\n",
      "Distance: 178.192311843132 degrees: 221.1511522848921\n",
      "Distance: 178.192311843132 degrees: 221.1511522848921\n",
      "Distance: 175.73346294886468 degrees: 223.45854951064283\n",
      "Distance: 176.08236708995025 degrees: 222.8409220877491\n",
      "Distance: 175.38529014715002 degrees: 222.60715393284147\n",
      "Distance: 175.3753118315118 degrees: 222.07576508925752\n"
     ]
    },
    {
     "name": "stderr",
     "output_type": "stream",
     "text": [
      "100%|██████████| 1/1 [00:00<00:00, 500.04it/s]\n"
     ]
    },
    {
     "name": "stdout",
     "output_type": "stream",
     "text": [
      "Distance: 175.38529014715002 degrees: 221.14028120080613\n"
     ]
    },
    {
     "name": "stderr",
     "output_type": "stream",
     "text": [
      "100%|██████████| 1/1 [00:00<00:00, 1001.27it/s]"
     ]
    },
    {
     "name": "stdout",
     "output_type": "stream",
     "text": [
      "Distance: 175.01785623187138"
     ]
    },
    {
     "name": "stderr",
     "output_type": "stream",
     "text": [
      "\n"
     ]
    },
    {
     "name": "stdout",
     "output_type": "stream",
     "text": [
      " degrees: 219.29308339253942\n",
      "Distance: 175.3681841155915 degrees: 220.1392419235737\n",
      "Distance: 175.3681841155915 degrees: 220.1392419235737\n",
      "Distance: 174.6682569902156 degrees: 216.99837452718037\n",
      "Distance: 174.6682569902156 degrees: 216.99837452718037\n",
      "Distance: 174.6682569902156 degrees: 216.99837452718037\n"
     ]
    },
    {
     "name": "stderr",
     "output_type": "stream",
     "text": [
      "100%|██████████| 1/1 [00:00<?, ?it/s]"
     ]
    },
    {
     "name": "stdout",
     "output_type": "stream",
     "text": [
      "Distance: 174.6682569902156 degrees: 216.99837452718037\n",
      "Distance: 174.6682569902156 degrees: 216.99837452718037\n",
      "Distance: 174.6682569902156 degrees: 216.99837452718037\n",
      "Distance: 174.6682569902156 degrees: 216.99837452718037\n",
      "Distance: 174.6682569902156 degrees: 216.99837452718037\n"
     ]
    },
    {
     "name": "stderr",
     "output_type": "stream",
     "text": [
      "\n"
     ]
    },
    {
     "name": "stdout",
     "output_type": "stream",
     "text": [
      "Distance: 174.6682569902156 degrees: 216.99837452718037\n",
      "Distance: 174.6682569902156 degrees: 216.99837452718037\n",
      "Distance: 174.6682569902156 degrees: 216.99837452718037\n",
      "Distance: 174.6682569902156 degrees: 216.99837452718037\n",
      "Distance: 174.6682569902156 degrees: 216.99837452718037\n",
      "Distance: 174.6682569902156 degrees: 216.99837452718037\n",
      "Distance: 174.6682569902156 degrees: 216.99837452718037\n",
      "Distance: 174.6682569902156 degrees: 216.99837452718037\n",
      "Distance: 174.6682569902156 degrees: 216.99837452718037\n",
      "Distance: 174.6682569902156 degrees: 216.99837452718037\n",
      "Distance: 174.6682569902156 degrees: 216.99837452718037\n",
      "Distance: 237.0785734730155 degrees: 221.241444314528\n",
      "Distance: 240.57950868683724 degrees: 224.63690297085083\n",
      "Distance: 240.77011857786673 degrees: 224.2411669829402\n",
      "Distance: 240.94034531393865 degrees: 216.978609635457\n",
      "Distance: 241.21826216105612 degrees: 216.13845715923094\n",
      "Distance: 244.47187977352323 degrees: 215.83301248193902\n",
      "Distance: 242.89298054904756 degrees: 214.8151488498279\n",
      "Distance: 242.89298054904756 degrees: 214.8151488498279\n",
      "Distance: 245.03979268682056 degrees: 214.1330355908245\n",
      "Distance: 244.289275245558 degrees: 212.34149614002274\n",
      "Distance: 242.71021816149397 degrees: 211.31109236576444\n",
      "Distance: 246.26002517664128 degrees: 211.3159093384507\n",
      "Distance: 244.68040379237567 degrees: 209.14871487600274\n",
      "Distance: 239.27024470251206 degrees: 208.05638801865135\n",
      "Distance: 242.63398360493528 degrees: 208.62338328286145\n",
      "Distance: 250.8834390708163 degrees: 207.89801953552012\n",
      "Distance: 248.24433528280156 degrees: 206.00524478806733\n",
      "Distance: 244.7922588645319 degrees: 204.81401116535\n",
      "Distance: 247.42675683927152 degrees: 204.66077788734776\n",
      "Distance: 245.7280000325563 degrees: 202.8686047313882\n",
      "Distance: 241.8098426450007 degrees: 202.12122135409828\n",
      "Distance: 245.37776997927094 degrees: 202.02878235216548\n",
      "Distance: 249.899979991996 degrees: 201.02921810616968\n",
      "Distance: 246.61153663200756 degrees: 200.28447996123427\n",
      "Distance: 246.43964778419888 degrees: 199.84520659985168\n",
      "Distance: 247.37926348018743 degrees: 197.90177106443286\n",
      "Distance: 244.09270779767263 degrees: 197.18473097038768\n",
      "Distance: 242.80908137876557 degrees: 196.17848101183458\n",
      "Distance: 247.34186867572583 degrees: 196.09961395674577\n",
      "Distance: 248.73128070268928 degrees: 193.95787176452419\n",
      "Distance: 248.73128070268928 degrees: 193.95787176452419\n",
      "Distance: 248.73128070268928 degrees: 193.95787176452419\n",
      "Distance: 248.73128070268928 degrees: 193.95787176452419\n",
      "Distance: 248.73128070268928 degrees: 193.95787176452419\n",
      "Distance: 248.73128070268928 degrees: 193.95787176452419\n",
      "Distance: 248.73128070268928 degrees: 193.95787176452419\n",
      "Distance: 248.73128070268928 degrees: 193.95787176452419\n",
      "Distance: 248.73128070268928 degrees: 193.95787176452419\n",
      "Distance: 248.73128070268928 degrees: 193.95787176452419\n",
      "Distance: 251.44581921360316 degrees: 180.17154373746155\n",
      "Distance: 246.18945956315838 degrees: 183.350559669127\n",
      "Distance: 240.5187102909044 degrees: 183.42844367910624\n",
      "Distance: 245.08161905781512 degrees: 183.81527106327138\n",
      "Distance: 248.71318823094202 degrees: 183.0012858303264\n",
      "Distance: 246.81622718127753 degrees: 182.85474783900108\n",
      "Distance: 248.87446634799642 degrees: 181.65513610162418\n",
      "Distance: 249.34965410042182 degrees: 180.10052132762496\n",
      "Distance: 243.33978301954656 degrees: 178.61609449785317\n",
      "Distance: 242.23232649669202 degrees: 178.38968729316719\n",
      "Distance: 246.98380513709802 degrees: 178.2229107222495\n",
      "Distance: 246.98380513709802 degrees: 176.45996653305662\n",
      "Distance: 246.20164499856617 degrees: 175.4217369995313\n",
      "Distance: 248.46579241416714 degrees: 173.21907142125258\n",
      "Distance: 251.2971348821948 degrees: 173.64031326351437\n",
      "Distance: 246.7032630509779 degrees: 172.01142919438405\n",
      "Distance: 242.87033577610913 degrees: 172.18817619098178\n",
      "Distance: 243.66831964783603 degrees: 171.65942318480978\n",
      "Distance: 244.94540207972878 degrees: 171.05286438396874\n",
      "Distance: 246.2260140602532 degrees: 170.65933140151358\n",
      "Distance: 247.5101008039874 degrees: 170.0604749109268\n",
      "Distance: 247.5101008039874 degrees: 168.62860519408412\n",
      "Distance: 243.21389762922678 degrees: 166.82270150398324\n",
      "Distance: 243.39320039803906 degrees: 167.13666736364794\n",
      "Distance: 245.30440273260487 degrees: 165.8301926662255\n",
      "Distance: 244.34862389626835 degrees: 165.7613686530987\n",
      "Distance: 245.15811224595444 degrees: 165.21806794837693\n",
      "Distance: 247.742810188308 degrees: 164.19211853093975\n",
      "Distance: 246.44877763949248 degrees: 163.25621960745704\n",
      "Distance: 245.82615808737685 degrees: 161.15949836851456\n",
      "Distance: 245.82615808737685 degrees: 161.15949836851456\n",
      "Distance: 244.72484548978676 degrees: 160.48066628682625\n",
      "Distance: 244.5822969881508 degrees: 158.42786236199078\n",
      "Distance: 245.5412388988864 degrees: 158.49416916239812\n",
      "Distance: 246.3600008118201 degrees: 157.95275158278503\n",
      "Distance: 243.48151880584282 degrees: 156.32315866126442\n",
      "Distance: 239.98385362353025 degrees: 155.38785811479198\n",
      "Distance: 243.20002055920966 degrees: 154.90539564659753\n",
      "Distance: 248.3490487197404 degrees: 154.7665771428593\n",
      "Distance: 244.84535935973955 degrees: 154.06954247361074\n",
      "Distance: 243.88368129089736 degrees: 152.31603289235483\n",
      "Distance: 246.76962941172482 degrees: 152.50739019760476\n",
      "Distance: 243.402958075698 degrees: 151.02765334924266\n",
      "Distance: 238.46016438810068 degrees: 149.7708285615401\n",
      "Distance: 242.64840819589153 degrees: 149.28535965376108\n",
      "Distance: 244.92090560015492 degrees: 149.04209493444966\n",
      "Distance: 243.4758714944871 degrees: 147.34497998049955\n",
      "Distance: 244.3056487271631 degrees: 146.82537118176947\n",
      "Distance: 244.3056487271631 degrees: 146.82537118176947\n",
      "Distance: 240.58782180318272 degrees: 144.4029332486935\n",
      "Distance: 237.91017212385015 degrees: 144.2243782408791\n",
      "Distance: 242.11206083134314 degrees: 143.68733896881585\n",
      "Distance: 243.0766340066441 degrees: 142.39389673602955\n",
      "Distance: 242.4628837574939 degrees: 141.5228574249074\n",
      "Distance: 243.29817097545143 degrees: 141.03024562641616\n",
      "Distance: 242.33241632105268 degrees: 139.65378960495485\n",
      "Distance: 237.99002079919234 degrees: 139.06135036625915\n",
      "Distance: 237.37575697614952 degrees: 138.16924527248545\n",
      "Distance: 240.75402385006984 degrees: 136.75197994910678\n",
      "Distance: 239.65861136207894 degrees: 136.1643226246983\n",
      "Distance: 240.01302048013977 degrees: 135.3176187507057\n",
      "Distance: 240.85265205099984 degrees: 134.86354112252383\n",
      "Distance: 239.40185880648463 degrees: 133.15597772802113\n",
      "Distance: 236.98523160737253 degrees: 132.6129642679267\n",
      "Distance: 237.34047273905898 degrees: 131.74569370679833\n",
      "Distance: 238.18112855555958 degrees: 131.314508795356\n",
      "Distance: 237.69728648009425 degrees: 129.67243461076546\n",
      "Distance: 238.18112855555958 degrees: 129.27411013853234\n",
      "Distance: 237.57156816420604 degrees: 128.33133263964308\n",
      "Distance: 236.60357140161685 degrees: 127.11504455802987\n",
      "Distance: 235.99417365689348 degrees: 126.18160441944562\n",
      "Distance: 236.35407760392033 degrees: 125.30524727174496\n",
      "Distance: 235.86966740130023 degrees: 124.7993644529212\n",
      "Distance: 235.26155657055403 degrees: 123.84961707771538\n",
      "Distance: 235.74615585413054 degrees: 122.30560315945255\n",
      "Distance: 235.13878880354895 degrees: 121.36172437558432\n",
      "Distance: 234.16927637928936 degrees: 121.30189198361988\n",
      "Distance: 234.04700382615454 degrees: 119.8627560125361\n",
      "Distance: 233.56209024582736 degrees: 118.29536334148514\n",
      "Distance: 233.0772404161333 degrees: 117.72238424520751\n",
      "Distance: 233.44057059560149 degrees: 116.833878276989\n",
      "Distance: 232.83470531688354 degrees: 115.88869365896392\n",
      "Distance: 232.47042822690372 degrees: 114.70803921813497\n",
      "Distance: 231.8641843838759 degrees: 113.77049472124779\n",
      "Distance: 231.37901806343635 degrees: 113.15826065738105\n"
     ]
    },
    {
     "name": "stderr",
     "output_type": "stream",
     "text": [
      "100%|██████████| 1/1 [00:00<00:00, 250.11it/s]\n"
     ]
    },
    {
     "name": "stdout",
     "output_type": "stream",
     "text": [
      "Distance: 231.25851335680596 degrees: 111.65165888676711\n"
     ]
    },
    {
     "name": "stderr",
     "output_type": "stream",
     "text": [
      "100%|██████████| 1/1 [00:00<00:00, 200.17it/s]\n"
     ]
    },
    {
     "name": "stdout",
     "output_type": "stream",
     "text": [
      "Distance: 230.77315701788194 degrees: 110.17916684655002\n"
     ]
    },
    {
     "name": "stderr",
     "output_type": "stream",
     "text": [
      "100%|██████████| 1/1 [00:00<00:00, 333.60it/s]\n"
     ]
    },
    {
     "name": "stdout",
     "output_type": "stream",
     "text": [
      "Distance: 230.77315701788194 degrees: 110.17916684655002\n"
     ]
    },
    {
     "name": "stderr",
     "output_type": "stream",
     "text": [
      "100%|██████████| 1/1 [00:00<00:00, 200.11it/s]"
     ]
    },
    {
     "name": "stdout",
     "output_type": "stream",
     "text": [
      "Distance: 230.6534196581529"
     ]
    },
    {
     "name": "stderr",
     "output_type": "stream",
     "text": [
      "\n"
     ]
    },
    {
     "name": "stdout",
     "output_type": "stream",
     "text": [
      " degrees: 108.67593911372475\n"
     ]
    },
    {
     "name": "stderr",
     "output_type": "stream",
     "text": [
      "100%|██████████| 1/1 [00:00<00:00, 250.27it/s]\n"
     ]
    },
    {
     "name": "stdout",
     "output_type": "stream",
     "text": [
      "Distance: 228.59188524529912 degrees: 105.04958031954561\n"
     ]
    },
    {
     "name": "stderr",
     "output_type": "stream",
     "text": [
      "100%|██████████| 1/1 [00:00<00:00, 500.69it/s]\n"
     ]
    },
    {
     "name": "stdout",
     "output_type": "stream",
     "text": [
      "Distance: 229.07749780369087 degrees: 104.43836416520497\n"
     ]
    },
    {
     "name": "stderr",
     "output_type": "stream",
     "text": [
      "100%|██████████| 1/1 [00:00<00:00, 166.72it/s]\n"
     ]
    },
    {
     "name": "stdout",
     "output_type": "stream",
     "text": [
      "Distance: 228.47319317591726 degrees: 103.54480442511164\n",
      "Distance: 226.8975539753569 degrees: 99.94888066904178\n",
      "Distance: 226.41168256077248 degrees: 98.67266367065912\n",
      "Distance: 225.9258727990223 degrees: 97.96801168623128\n",
      "Distance: 224.35017272112808 degrees: 94.30453935960011\n",
      "Distance: 223.8643562517267 degrees: 90.34141176337717\n",
      "Distance: 223.37860237721964 degrees: 89.59933674420785\n",
      "Distance: 221.80284037856683 degrees: 85.8912862615581\n",
      "Distance: 220.831383639192 degrees: 84.37703176763293\n",
      "Distance: 221.3170802265383 degrees: 83.67729752675358\n",
      "Distance: 221.19900542271884 degrees: 82.25953171933132\n",
      "Distance: 219.74132519851608 degrees: 81.43976536235847\n",
      "Distance: 219.25555865245468 degrees: 80.6793600909739\n",
      "Distance: 219.74132519851608 degrees: 79.97936237603706\n",
      "Distance: 218.88924139847532 degrees: 78.29721431140204\n",
      "Distance: 219.37467948694535 degrees: 77.6040078791069\n",
      "Distance: 218.7698562416678 degrees: 76.98411888425144\n",
      "Distance: 218.7698562416678 degrees: 75.51507681574182\n",
      "Distance: 218.28421839427605 degrees: 74.74960204996056\n",
      "Distance: 217.06968927051975 degrees: 73.66513201410585\n",
      "Distance: 217.3131381210073 degrees: 73.21992091626285\n",
      "Distance: 217.3131381210073 degrees: 71.7568890076885\n",
      "Distance: 217.06968927051975 degrees: 70.73953913401881\n",
      "Distance: 215.00813938081507 degrees: 69.20014956023572\n",
      "Distance: 215.9780081397178 degrees: 69.26492607772913\n",
      "Distance: 217.91856277059097 degrees: 67.92930647555401\n",
      "Distance: 216.94815048762229 degrees: 66.41283851259111\n",
      "Distance: 213.19298768955792 degrees: 66.14293298745659\n",
      "Distance: 213.55385737560442 degrees: 65.46369521559137\n",
      "Distance: 213.67732682715777 degrees: 63.74992729855864\n",
      "Distance: 212.70872102478543 degrees: 62.2472420163235\n",
      "Distance: 214.64622055838765 degrees: 62.38026305836361\n",
      "Distance: 214.64622055838765 degrees: 60.961231483783656\n",
      "Distance: 213.31783797891822 degrees: 59.832928004935795\n",
      "Distance: 212.83385538959726 degrees: 59.09324477102802\n",
      "Distance: 212.3499470214203 degrees: 58.35847333288302\n",
      "Distance: 211.86611338295702 degrees: 57.62876576644199\n",
      "Distance: 211.9929244102265 degrees: 55.88368649841988\n",
      "Distance: 212.47646928542463 degrees: 55.231775512828776\n",
      "Distance: 211.9929244102265 degrees: 54.51712180855405\n",
      "Distance: 211.15456424145796 degrees: 52.70171653872282\n",
      "Distance: 210.67154530215987 degrees: 51.99839638015249\n",
      "Distance: 210.67154530215987 degrees: 51.420235937847124\n",
      "Distance: 210.67154530215987 degrees: 50.078792327514094\n",
      "Distance: 210.1886057806179 degrees: 49.383493986741655\n",
      "Distance: 210.3188056261256 degrees: 47.62434226069062\n",
      "Distance: 209.35376758014172 degrees: 47.55277299734784\n",
      "Distance: 209.4856797015013 degrees: 45.79427445742831\n",
      "Distance: 209.00358848593964 degrees: 45.124731298887816\n",
      "Distance: 208.65521800328887 degrees: 43.9662478024617\n",
      "Distance: 208.65521800328887 degrees: 43.9662478024617\n",
      "Distance: 208.65521800328887 degrees: 41.96060043107309\n",
      "Distance: 208.3086652062271 degrees: 40.77623311123441\n",
      "Distance: 207.82745246959075 degrees: 40.13003608982038\n",
      "Distance: 207.82745246959075 degrees: 38.93826506952621\n",
      "Distance: 207.96393918177256 degrees: 38.385756668871274\n",
      "Distance: 207.621049029235 degrees: 37.197824170691256\n",
      "Distance: 206.8000241779483 degrees: 33.347552831237074\n",
      "Distance: 206.4612554451803 degrees: 32.14845404052631\n",
      "Distance: 206.4612554451803 degrees: 32.14845404052631\n",
      "Distance: 206.60348496576722 degrees: 30.452414999140323\n",
      "Distance: 205.98179531211005 degrees: 29.523607672473645\n",
      "Distance: 206.60348496576722 degrees: 28.407006510253098\n",
      "Distance: 206.26802951499778 degrees: 27.21121088756132\n",
      "Distance: 205.93445559206452 degrees: 26.015505880063287\n",
      "Distance: 205.78933402875865 degrees: 25.614937168093284\n",
      "Distance: 205.4561997117634 degrees: 24.41182030284753\n",
      "Distance: 205.12496191346386 degrees: 23.210467313562475\n",
      "Distance: 204.94511460388608 degrees: 19.26167848413872\n",
      "Distance: 204.6191584383046 degrees: 18.068695838305537\n",
      "Distance: 205.09570936516445 degrees: 16.499305884821574\n",
      "Distance: 204.77121379725227 degrees: 15.313532105826212\n",
      "Distance: 204.77121379725227 degrees: 15.313532105826212\n",
      "Distance: 204.44864880942598 degrees: 14.134661666822012\n",
      "Distance: 205.0786434517256 degrees: 13.050130702033883\n",
      "Distance: 204.1280235538472 degrees: 11.711253736831587\n",
      "Distance: 204.75900468599664 degrees: 10.62892943915493\n",
      "Distance: 204.12557409594712 degrees: 7.020421770644049\n"
     ]
    }
   ],
   "source": [
    "from tdmclient import ClientAsync, aw\n",
    "from vision.ComputerVision import Vision\n",
    "import time\n",
    "import cv2\n",
    "vis = Vision()\n",
    "client = ClientAsync()\n",
    "node = await client.wait_for_node()\n",
    "await node.lock()\n",
    "path = []\n",
    "target_node = 0\n",
    "tolerance = 30 #TO TUNE\n",
    "rotation_done = 1\n",
    "last_image_time = time.time()\n",
    "previous_pos = []\n",
    "\n",
    "async def update_motion():\n",
    "        global target_node, path, rotation_done, goal_reached, obstacle_detected\n",
    "        await client.sleep(0.001) \n",
    "        \n",
    "        #Kalman filter here:\n",
    "        #Kalman_Estimate = Kalman(robot.x, robot.y, robot.angle)\n",
    "        if close_coordinates(vis.robot.x, vis.robot.y, vis.shortest_path[target_node][0], vis.shortest_path[target_node][1], tolerance):\n",
    "            if target_node != (len(path))-1:\n",
    "                await stop()\n",
    "                target_node = target_node + 1\n",
    "            else:\n",
    "                goal_reached = True\n",
    "                return\n",
    "        if obstacle_detected: \n",
    "                await stop()\n",
    "                await client.sleep(0.2) #There is probably some delay to add \n",
    "                #while (path.all == vis.shortest_path.all):\n",
    "                #    vis.update()\n",
    "                target_node = 0\n",
    "                obstacle_detected = 0\n",
    "        \n",
    "        if target_node != len(path): \n",
    "            objective_pos = path[target_node]\n",
    "        estimate_angle_degrees = math.degrees(vis.robot.angle)\n",
    "        print(\"Target node: \", target_node)\n",
    "        dist, angle = compute_movement([vis.robot.x, vis.robot.y], objective_pos, -estimate_angle_degrees)\n",
    "        print(\"angle calculé: \", angle)\n",
    "        print(f\"Robotx: \", vis.robot.x, f\"Roboty: \", vis.robot.y, f\"Robotangle: \", estimate_angle_degrees)\n",
    "        print(f\"Objective_pos \", objective_pos )\n",
    "        await rotate(angle)\n",
    "        while(angle > 10 or angle < -10):\n",
    "            estimate_angle_degrees = math.degrees(vis.robot.angle)\n",
    "            dist, angle = compute_movement([vis.robot.x, vis.robot.y], objective_pos, -estimate_angle_degrees)\n",
    "            vis.show()\n",
    "            vis.update()\n",
    "            \n",
    "        \n",
    "        await drive()\n",
    "        await client.sleep(0.05)\n",
    "            \n",
    "            \n",
    "         # Sleep for 1 second\n",
    "#Define the trip the robot has to make here : \n",
    "async def main():    \n",
    "    global goal_reached, obstacle_detected, target_node, path, last_image_time, previous_pos\n",
    "    vis.update()\n",
    "    vis.show()\n",
    "    while True:\n",
    "        if time.time() - last_image_time < 0.5:\n",
    "            continue\n",
    "        vis.show()\n",
    "        vis.update()\n",
    "        last_image_time = time.time()\n",
    "        if len(vis.shortest_path)>1:\n",
    "            path = vis.shortest_path\n",
    "            break\n",
    "    \n",
    "    while True:\n",
    "        ##Find shortest path initially\n",
    "        #print(time.time())\n",
    "        if time.time() - last_image_time < 0.5:\n",
    "            continue\n",
    "\n",
    "        vis.show()\n",
    "        vis.update()\n",
    "        \n",
    "\n",
    "        # Update the\n",
    "        # last image acquisition time\n",
    "        last_image_time = time.time()\n",
    "\n",
    "        if cv2.waitKey(1) & 0xFF == ord('q') and len(path)  > 1: \n",
    "            await stop()\n",
    "            break\n",
    "        if not (vis.found_robot and vis.found_goal):\n",
    "            await stop()\n",
    "            continue\n",
    "        \n",
    "        \n",
    "        if len(vis.shortest_path) >= 1:\n",
    "            if not kidnapped : \n",
    "                v = { \"leds.top\" :[0, 0, 0]}\n",
    "                await node.set_variables(v)\n",
    "                await update_motion()\n",
    "            else:\n",
    "                await stop() \n",
    "                await client.sleep(0.01)\n",
    "                old_pos = [vis.robot.x, vis.robot.y]\n",
    "                v = { \"leds.top\" :[32, 0, 0]}\n",
    "                await node.set_variables(v)\n",
    "                get_horizontal()\n",
    "                if not kidnapped: \n",
    "                    while( old_pos == [vis.robot.x, vis.robot.y] ):\n",
    "                        vis.update()\n",
    "                    target_node = 0\n",
    "            if goal_reached == True: \n",
    "                await stop()\n",
    "                break\n",
    "\n",
    "await main()\n",
    "obstacle_detected = 0\n",
    "goal_reached = 0\n",
    "kidnapped = 0\n",
    "await node.unlock()\n",
    "del vis"
   ]
  },
  {
   "attachments": {},
   "cell_type": "markdown",
   "id": "546c349e",
   "metadata": {},
   "source": [
    "Sans prog asynchrone : \n",
    "Init le main, calcule robot pos, nodes path, objective_pos\n",
    "donc update_vision\n",
    "Pour chaque noeud : \n",
    "Si robot.x ~= noeud.x et robot.y ~= noeud.y\n",
    "Si on détecte un obstacle : \n",
    "    arrêt moteur, et replanifie\n",
    "    sinon : \n",
    "        Tant que robot.angle !=~ angle entre robot_pos et obj_pos: \n",
    "            Tourner\n",
    "        Tant que robot.x et robot.y != pos_x et pos_y\n",
    "            Déplacer le robot en conséquence\n",
    "    "
   ]
  },
  {
   "cell_type": "code",
   "execution_count": null,
   "id": "4b25553b-cdf9-4095-a986-40bda6040115",
   "metadata": {},
   "outputs": [],
   "source": []
  },
  {
   "cell_type": "code",
   "execution_count": null,
   "id": "d35aa1fe",
   "metadata": {},
   "outputs": [],
   "source": []
  },
  {
   "cell_type": "code",
   "execution_count": null,
   "id": "f7fb9aca",
   "metadata": {},
   "outputs": [],
   "source": []
  }
 ],
 "metadata": {
  "kernelspec": {
   "display_name": "Python 3",
   "language": "python",
   "name": "python3"
  },
  "language_info": {
   "codemirror_mode": {
    "name": "ipython",
    "version": 3
   },
   "file_extension": ".py",
   "mimetype": "text/x-python",
   "name": "python",
   "nbconvert_exporter": "python",
   "pygments_lexer": "ipython3",
   "version": "3.11.2"
  },
  "vscode": {
   "interpreter": {
    "hash": "1682e5d06a6d97c1b1cf6bb4ae6cf16223e994936ddb1d53664597d7d46101fa"
   }
  }
 },
 "nbformat": 4,
 "nbformat_minor": 5
}
