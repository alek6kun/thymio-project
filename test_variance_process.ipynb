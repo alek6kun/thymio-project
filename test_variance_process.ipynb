{
 "cells": [
  {
   "cell_type": "markdown",
   "metadata": {},
   "source": [
    "## Gathering the data"
   ]
  },
  {
   "cell_type": "code",
   "execution_count": 9,
   "metadata": {},
   "outputs": [],
   "source": [
    "from tdmclient import ClientAsync\n",
    "import time\n",
    "import numpy as np\n",
    "client = ClientAsync()\n",
    "\n",
    "node = await client.wait_for_node()\n",
    "await node.lock()\n",
    "\n",
    "init_time = time.time()\n",
    "last_time = init_time\n",
    "left_speed = []\n",
    "right_speed = []\n",
    "\n",
    "v = {\n",
    "    \"motor.left.target\": [200],\n",
    "    \"motor.right.target\": [200],\n",
    "    }\n",
    "await node.set_variables(v)\n",
    "await client.sleep(0.1)   \n",
    "\n",
    "while time.time()-init_time<10:\n",
    "    await node.wait_for_variables({\"motor.left.speed\"})\n",
    "    left_speed = np.append(left_speed, node[\"motor.left.speed\"])\n",
    "    right_speed = np.append(right_speed, node[\"motor.right.speed\"])\n",
    "    last_time = time.time()\n",
    "    await client.sleep(0.01)"
   ]
  },
  {
   "cell_type": "code",
   "execution_count": 10,
   "metadata": {},
   "outputs": [],
   "source": [
    "v = {\n",
    "    \"motor.left.target\": [0],\n",
    "    \"motor.right.target\": [0],\n",
    "    }\n",
    "await node.set_variables(v)\n",
    "\n",
    "await node.unlock()"
   ]
  },
  {
   "cell_type": "markdown",
   "metadata": {},
   "source": [
    "## Calculating the variances"
   ]
  },
  {
   "cell_type": "code",
   "execution_count": 11,
   "metadata": {},
   "outputs": [
    {
     "name": "stdout",
     "output_type": "stream",
     "text": [
      "We have (728,) datapoints for the left motor speed\n",
      "We have (728,) datapoints for the right motor speed\n",
      "The variance on the left motor speed is 41.32967032967033\n",
      "The variance on the right motor speed is 70.12343768868494\n"
     ]
    }
   ],
   "source": [
    "left_speed = np.array(left_speed)[50:]\n",
    "print(\"We have\", str(left_speed.shape), \"datapoints for the left motor speed\")\n",
    "right_speed = np.array(right_speed)[50:]\n",
    "print(\"We have\", str(right_speed.shape), \"datapoints for the right motor speed\")\n",
    "\n",
    "left_var = np.var(left_speed) \n",
    "print(\"The variance on the left motor speed is\",left_var)\n",
    "right_var = np.var(right_speed)\n",
    "print(\"The variance on the right motor speed is\",right_var)"
   ]
  },
  {
   "cell_type": "markdown",
   "metadata": {},
   "source": [
    "## Translating to x, y and $\\theta$"
   ]
  },
  {
   "cell_type": "code",
   "execution_count": 12,
   "metadata": {},
   "outputs": [
    {
     "name": "stdout",
     "output_type": "stream",
     "text": [
      "The final process variances on x y and theta are: [3.8751605996417765e-10, 3.8751605996417765e-10, 2.9656863710880975e-09]\n"
     ]
    }
   ],
   "source": [
    "thymio_speed_to_ms = 19.73913043478261/(50*0.001) # dividing by this gives motor speeds in m/s\n",
    "R = 0.021 # [m] The radius of the Thymio's wheels\n",
    "d = 0.095 # [m] The wheelbase of the Thymio\n",
    "dt = 0.05\n",
    "\n",
    "# Converting the standard deviations of the motor speeds to m/s\n",
    "left_sd = np.sqrt(left_var)/thymio_speed_to_ms \n",
    "right_sd = np.sqrt(right_var)/thymio_speed_to_ms\n",
    "\n",
    "# Translating to x, y and theta motor speeds\n",
    "x_sd = 0.5*R*(left_sd+right_sd)*dt\n",
    "y_sd = x_sd #Both standard deviations are the same for x and y\n",
    "theta_sd = (R/d)*(left_sd-right_sd)*dt\n",
    "\n",
    "process_variances = [x_sd**2, y_sd**2, theta_sd**2]\n",
    "print(\"The final process variances on x y and theta are:\", process_variances)"
   ]
  }
 ],
 "metadata": {
  "kernelspec": {
   "display_name": "basicsofmob",
   "language": "python",
   "name": "python3"
  },
  "language_info": {
   "codemirror_mode": {
    "name": "ipython",
    "version": 3
   },
   "file_extension": ".py",
   "mimetype": "text/x-python",
   "name": "python",
   "nbconvert_exporter": "python",
   "pygments_lexer": "ipython3",
   "version": "3.9.18"
  }
 },
 "nbformat": 4,
 "nbformat_minor": 2
}
