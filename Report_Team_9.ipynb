{
 "cells": [
  {
   "cell_type": "markdown",
   "id": "241f2d56-55bf-4a51-acff-6bcfd647551a",
   "metadata": {},
   "source": [
    "# Mobile Robotics Project Report"
   ]
  },
  {
   "cell_type": "markdown",
   "id": "660af14b-7a62-4608-98ef-5b4b9edc2cc9",
   "metadata": {},
   "source": [
    "## Table of Content:\n",
    "* [1. Introduction](#Introduction)\n",
    "* [2. General program flow](#General_program_flow)\n",
    "* [3. Computer Vision](#Computer_vision )\n",
    "* [4. Filtering](#Filtering)\n",
    "* [5. General Motion](#General_motion)\n",
    "* [6. Local avoidance](#Local_avoidance)\n",
    "* [7. Kidnapping](#Kidnapping)\n",
    "* [8. Conclusion](#Conclusion)\n",
    "  "
   ]
  },
  {
   "cell_type": "markdown",
   "id": "34696f0d-2083-4d0c-9d66-d989480e8a71",
   "metadata": {},
   "source": [
    "\n",
    "## Project: Autonomous Navigation System for a Mobile Robot\n",
    "\n",
    "### Participants:\n",
    "- **Alexis Limozin  (330717)**\n",
    "- **Parth Aggarwal  (376263)**\n",
    "- **Serge Elasmar   (326623)**\n",
    "- **Quentin Angéloz (325935)**\n",
    "\n",
    "---\n",
    "\n",
    "# 1. Introduction <a class=\"anchor\" id=\"Introduction\"></a>\n",
    "The aim of our project is to manage the thymio's path to a target in an environment containing obstacles.\n",
    "Our project uses a camera to create a map of the environment, taking obstacles into account. The thymio plans its path based on this map, and travels to where the obstacle is. If the environment changes and the robot detects an unexpected obstacle, the camera generates a new map that takes the new obstacle into account, and the thymio corrects its route.\n",
    "## Assumptions and environment description\n",
    "- The environment is a plane.\n",
    "- The ground is only one color, not green, not black and not red.\n",
    "- Obstacles color is black\n",
    "- The goal color is green\n",
    "- Operate the camera, obstacles and robot in a controlled environment\n",
    "- The Thymio is identified by two unique pieces of red tape\n",
    "\n",
    "## Environment Visual\n",
    "\n",
    "<img src=\"images/setup.jpg\" width=\"550\" height=\"700\">\n",
    "\n"
   ]
  },
  {
   "cell_type": "markdown",
   "id": "74ebdf78-3b70-4465-b65d-f463c1f1c1ec",
   "metadata": {},
   "source": [
    "## 2. General program flow <a class=\"anchor\" id=\"General_program_flow\"></a>\n",
    "### The overall program sequence is as follows:\n",
    "\n",
    "The robot has 4 different states, which are the body of the program.\n",
    "\n",
    "In each of these states, an image is periodically acquired.\n",
    "\n",
    "When the program starts, the robot is in state 0. \n",
    "- State 0\n",
    "    - The program searches for the robot until a path from the robot's position to the target can be calculated and stored in memory. Once this has been done, the robot switches to state 1.\n",
    "- State 1\n",
    "    - The robot follows the previously calculated path. It regularly corrects its trajectory using the Kalmann filter.\n",
    "    - If the robot is kidnapped, it enters state 3.\n",
    "    - If the robot detects an unexpected obstacle, it enters state 4.\n",
    "    - If the robot has reached its goal, it stops.\n",
    "- State 3:\n",
    "    - the robot stops moving, and waits to be put back on the ground. When this is done, it returns to state 0.\n",
    "- State 4:\n",
    "    - the robot moves backwards until it can no longer see an obstacle, then returns to state 0.\n",
    " \n",
    "### Use of asynchronous programming\n",
    "Asynchronous programming was used to send command signals to the motor, to read values from the robot's proximity sensors and to read values from the motor speeds.\n",
    "\n",
<<<<<<< Updated upstream
    "A simple diagram of the finite state machine is given below.\n",
    "\n",
    "<img src=\"images/FSM.jpg\" width=700 height=500>"
=======
    "A simple diagram of the finite state machine is given below."
   ]
  },
  {
   "cell_type": "code",
   "execution_count": 1,
   "id": "838d195f-a617-4c38-bdb1-1dde0377245c",
   "metadata": {},
   "outputs": [
    {
     "data": {
      "image/jpeg": "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",
      "text/plain": [
       "<IPython.core.display.Image object>"
      ]
     },
     "execution_count": 1,
     "metadata": {
      "image/jpeg": {
       "height": 500,
       "width": 400
      }
     },
     "output_type": "execute_result"
    }
   ],
   "source": [
    "from IPython.display import HTML, Image\n",
    "Image(filename='images/FSM.jpg', width=400, height=500) \n",
    "\n"
>>>>>>> Stashed changes
   ]
  },
  {
   "cell_type": "markdown",
   "id": "18db8828-6401-4a63-85c9-f45081357a64",
   "metadata": {},
   "source": [
<<<<<<< Updated upstream
    "The following cell contains a video illustrating a simple case of the general program flow. In the video, the robot is never kidnapped, and no unplanned obstacle is being placed on its path, therefore, local navigation is never used here.\n",
    "\n",
=======
    "The following cell contains a video illustrating a simple case of the general program flow. In the video, the robot is never kidnapped, and no unplanned obstacle is being placed on its path, therefore, local navigation is never used here."
   ]
  },
  {
   "cell_type": "code",
   "execution_count": 2,
   "id": "c6c89157-5bf6-4b47-b610-150fc98500ef",
   "metadata": {},
   "outputs": [
    {
     "data": {
      "text/html": [
       "\n",
       "<video width=\"640\" height=\"480\" controls>\n",
       "  <source src=\"videos/normal_behavior.mp4\" type=\"video/mp4\">\n",
       "  Error, can't play video\n",
       "</video>\n"
      ],
      "text/plain": [
       "<IPython.core.display.HTML object>"
      ]
     },
     "execution_count": 2,
     "metadata": {},
     "output_type": "execute_result"
    }
   ],
   "source": [
    "HTML(f\"\"\"\n",
>>>>>>> Stashed changes
    "<video width=\"640\" height=\"480\" controls>\n",
    "  <source src=\"videos/normal_behavior.mp4\" type=\"video/mp4\">\n",
    "  Error, can't play video\n",
    "</video>"
   ]
  },
  {
   "cell_type": "markdown",
   "id": "a2a588ff-c483-466d-adef-02133649f404",
   "metadata": {},
   "source": [
    "# 3. Computer vision <a class=\"anchor\" id=\"Computer_vision\"></a>"
   ]
  },
  {
<<<<<<< Updated upstream
=======
   "cell_type": "code",
   "execution_count": 3,
   "id": "c0565d6f",
   "metadata": {},
   "outputs": [],
   "source": [
    "from vision.ComputerVision import Vision\n",
    "# section to load all libraries required above explanations "
   ]
  },
  {
>>>>>>> Stashed changes
   "attachments": {},
   "cell_type": "markdown",
   "id": "76b3a800",
   "metadata": {},
   "source": [
    "The vision aspect of our project is designed to navigate the robot through an environment with obstacles utlising a stationary camera. Our approach follows the following steps:\n",
    "\n",
    "1. Detecting and locating the robot and its orientation \n",
    "2. Identifying obstacles and their boundaries \n",
    "3. Determining a goal position \n",
    "4. Computing the shortest path for the robot to reach the goal while avoiding obstacles. \n",
    "\n",
    "### Libraries used to aid Vision \n",
    "- `OpenCV`: Used for image detection, contour detection, geometric transformations, utilised to process captured frames and purpose the visual input to achieve the goal \n",
    "- `NumPy`: Utilised for all numerical operations\n",
    "- `Pyvisgraph`: Utilised for computing optimal robot paths based on all calculations \n",
    "- `Shapely`: Utilised for manipulating planar geometric objects (to create union between obstacles that are close together)\n",
    "\n",
    "Below is a code snippet showing how the vision code is organized using classes. In order to make the interfacing as seamless as possible, all the vision code is contained within the vision/ComputerVision.py file. There is one main class where each object attributes can be accessed. More detail in its usage in vision/README.md"
   ]
  },
  {
   "cell_type": "code",
   "execution_count": null,
   "metadata": {},
   "outputs": [],
   "source": [
    "class Robot:\n",
    "    def __init__(self, x, y, angle):\n",
    "        self.x = x\n",
    "        self.y = y\n",
    "        self.angle = angle\n",
    "\n",
    "class Goal:\n",
    "    def __init__(self, x, y):\n",
    "        self.x = x\n",
    "        self.y = y\n",
    "\n",
    "# Main class used to interface with vision\n",
    "class Vision:\n",
    "    # Initialise cam, frame, copy of frame, robot, scale, graph,\n",
    "    # obstacle vertices, shortest_path\n",
    "    def __init__(self):\n",
    "        self.cam = cv2.VideoCapture(0)\n",
    "        valid, self.frame = self.cam.read()\n",
    "        if not valid:\n",
    "            print(\"Error reading frame.\")\n",
    "        self.copy = self.frame.copy()\n",
    "        self.found_robot, self.robot, self.scale = self.find_robot()\n",
    "        self.found_graph, self.vertices, self.graph = self.find_graph()\n",
    "        self.found_goal, self.goal = self.find_goal()\n",
    "        self.shortest_path = []\n",
    "    \n",
    "    # ..."
   ]
  },
  {
   "cell_type": "markdown",
   "metadata": {},
   "source": [
    "The simplest usage of the vision code without any robot control can be done with the following code snippet, in vision/test_main.py"
   ]
  },
  {
   "cell_type": "code",
   "execution_count": null,
   "metadata": {},
   "outputs": [],
   "source": [
    "from ComputerVision import Vision\n",
    "import time\n",
    "import cv2\n",
    "\n",
    "vis = Vision()\n",
    "# Initialize a variable to store the last time an image was acquired\n",
    "last_image_time = time.time()\n",
    "\n",
    "while True:\n",
    "    # Check if it's been at least 0.05 second since the last image acquisition\n",
    "    if time.time() - last_image_time < 0.05:\n",
    "        continue\n",
    "    vis.show()\n",
    "\n",
    "    vis.update()\n",
    "\n",
    "    # Update the last image acquisition time\n",
    "    last_image_time = time.time()\n",
    "\n",
    "    # Break the loop if the 'q' key is pressed\n",
    "    if cv2.waitKey(1) & 0xFF == ord('q'):\n",
    "        break\n",
    "\n",
    "del vis"
   ]
  },
  {
   "attachments": {},
   "cell_type": "markdown",
   "id": "828b87fe",
   "metadata": {},
   "source": [
    "### 3.1. Robot Detection and Localisation \n",
    "\n",
    "This is conducted throught the `find_robot()` function which operates solely on the defined vision class (as such this is the sole input). It accomplishes this through advanced image processing techniques, focusing on color filtering and contour detection, followed by a detailed analysis of the detected shapes.\n",
    "\n",
    "Firstly, through *colour filitering* the image is converted from its original BGR format to RGB. We then apply a colour filter to isolate the colour red, which is present on the thymio robot (as per our assumptions). This is achieved through definind a specific range in the RBG colour space that corresponds ot the red colour, resulting in a binary mask whre the red areas are highlighted. \n",
    "\n",
    "Then we undergo *contour detection* by using `cv2.findContours()` to detect the exact shape and structure of the labelling on the thymio. These contours, representing the boundaries of the red shapes are critical for the accurate determination of the robot's position. A specific range of contour areas are checked, to denoise the result and only get the two markers contours and positions. The contour area feature is also used to differentiate between the nose marker and the tail marker on the robot.\n",
    "\n",
    "This structure allows us to *calculate the centroids* by utilising the moments of the two contours. `cv2.moments()` allows for extraction of specific spatial moments required to compute the coordinates of the centroid which are calculated using the following formulae:\n",
    "\n",
    "$$C_x = \\frac{M_{10}}{M_{00}},\\; C_y = \\frac{M_{01}}{M_{00}}$$ \n",
    "\n",
    "The calculation of this centroid helps provide 5 critical pieces of information:\n",
    "1. **Central reference point**: Concise and accurate position of robot in environment, calculated from the average of the two markers position.\n",
    "2. **Orientation of robot**: The direction in which the robot is facing is inferred from the arctangent of the two centroids locations. \n",
    "3. **Scale Calibration**: By knowing the physical distance between the two marker centroids on the robot and comparing it with the pixel distance between their centroids in the image, you can establish a scale factor, providing the scale for all future calculations.\n",
    "4. **Movement Analysis**: The centroid can be tracked in sequential frames, thus, changes in the centroid's location over time provide information about the speed and direction of the robot's movement. \n",
    "5. **Path Planning Input**: The positional data derived from the centroids assist significantly in the path planning process, to be elaborated later in the report. \n",
    "\n",
    "Below is an image of the robot with its two markers and orientation detected:\n",
    "\n",
    "<img src=\"images/Robot.PNG\">\n",
    "\n",
    "The code in the cell below is the part of the vision code implementing the robot detection."
   ]
  },
  {
   "cell_type": "code",
<<<<<<< Updated upstream
   "execution_count": null,
=======
   "execution_count": 4,
   "id": "b6c612f9",
>>>>>>> Stashed changes
   "metadata": {},
   "outputs": [],
   "source": [
    "# Function to find robot location and frame scale\n",
    "def find_robot(self):\n",
    "    # Convert the image from BGR to RGB (OpenCV loads images in BGR by default)\n",
    "    rgb_image = cv2.cvtColor(self.frame, cv2.COLOR_BGR2RGB)\n",
    "\n",
    "    # Define the lower and upper bounds for the red color in RGB\n",
    "    lower_red = np.array([150, 20, 60])\n",
    "    upper_red = np.array([255, 100, 140])\n",
    "\n",
    "    # Create a binary mask using inRange function\n",
    "    red_mask = cv2.inRange(rgb_image, lower_red, upper_red)\n",
    "\n",
    "    # Apply the binary mask to the original image\n",
    "    result = cv2.bitwise_and(self.frame, self.frame, mask=red_mask)\n",
    "\n",
    "    # Convert the result to grayscale\n",
    "    gray_result = cv2.cvtColor(result, cv2.COLOR_BGR2GRAY)\n",
    "    gray_result = cv2.bilateralFilter(gray_result,5,15,15)\n",
    "    contours, _ = cv2.findContours(gray_result, cv2.RETR_TREE, cv2.CHAIN_APPROX_SIMPLE)\n",
    "    min_area = 200\n",
    "    max_area = 10000\n",
    "    centroid = [0,0]\n",
    "\n",
    "    total = 0\n",
    "    nose_size = 0\n",
    "    # Draw the contours\n",
    "    for i, contour_i in enumerate(contours):\n",
    "        contour_area_i = cv2.contourArea(contour_i)\n",
    "        if min_area < contour_area_i < max_area:\n",
    "            total +=1\n",
    "            nose_size = max(nose_size, contour_area_i)\n",
    "\n",
    "    if total == 2:  #Here we have found the robot\n",
    "        for _, contour_i in enumerate(contours):\n",
    "            contour_area_i = cv2.contourArea(contour_i)\n",
    "\n",
    "            if min_area < contour_area_i < max_area:\n",
    "                # Selecting the nose side of the robot with i = 0\n",
    "                if contour_area_i == nose_size:\n",
    "                    i = 0\n",
    "                else:\n",
    "                    i = 1\n",
    "                color = (0, 0, 255)\n",
    "                cv2.drawContours(self.copy, [contour_i], 0, color, 2)\n",
    "                M = cv2.moments(contour_i)\n",
    "                centroid[i] = np.array([int(M[\"m10\"] / M[\"m00\"]), int(M[\"m01\"] / M[\"m00\"])])\n",
    "        cv2.line(self.copy, centroid[0], centroid[1], (0,0,255),2)\n",
    "\n",
    "        # The real distance between the two markers on the robot is around 8.5 cm. so we set a scale\n",
    "        # to know how distant the objects are from the camera.\n",
    "        scale = np.linalg.norm(centroid[0] - centroid[1])/0.085\n",
    "\n",
    "        return True, Robot((centroid[0][0] + centroid[1][0])/2.0, (centroid[0][1] + centroid[1][1])/2.0,\n",
    "                    -np.arctan2(centroid[0][1]-centroid[1][1],centroid[0][0]-centroid[1][0])), scale\n",
    "    else:\n",
    "        return False, Robot(0,0,0), 0 # Default value if robot not found"
   ]
  },
  {
   "attachments": {},
   "cell_type": "markdown",
   "id": "16acedac",
   "metadata": {},
   "source": [
    "### 3.2. Obstacle Detection\n",
    "This is achieved through the `find_graph()` function which again takes in the vision class as its sole input. Obstacle detection is achieved through Greyscale conversion, thresholding, contour approximation which blends together to contribute to larger objective of creating a map for the robot to follow. \n",
    "\n",
    "The first step is *Greyscale Conversion* which significantly simplifies the process of identifying obstacles through `cv2.cvtColor()`. In greyscale, the intensity of each pixel represents different shades of grey, disregarding colour which is not needed to identify black (all obstacles are black as stated in assumptions). Once the image is rendered, *Thresholding* takes place which outputs an image where the black obstacles are distinctly visible against the background. \n",
    "\n",
    "In a similar process to above, the contours are detected but for obstacles, they are further simplifed in the process of *Contour Approximation* utilising `cv2.approxPolyDP()` to create the shape of the obstacles. This returns the object (obstacle) defined as a set of corners. This is done in order to balance between retaining the essential shape while reducing computational complexity. This serves to keep the algorithm efficient while maintaining accuracy. \n",
    "\n",
    "Finally, the boundaries of the actual obstacles and the robot have been defined. But in order to ensure that the path planning function is able to create a safe path through the obstacles, we conduct a *Vector Calculation* for Obstacles. \n",
    "This is done in `find_farthest_vector()` which takes in the set of corners for each of the obstacles, with the end goal being to create a safety net around obstacles to avoid collision. For each corner, this function calculates the sum of two vectors made from a two vectors [previous_corner, corner] and [next_corner, coner] (in green and blue in the image below) and normalizes it. We then get the vector pointing outward relative to an obstacle for each corner of an obstacle (final vector in red in the image below).\n",
    "\n",
    "Then we can set the corners of each obstacles at a certain distance (determined using the scale factor obtained from the `find_robot()` function) along this vector from the obstacle. This helps create a buffer around the obstacles hence preventing the robot's path from getting too close to an obstacle. This also allows for the accomodation of any errors in measurement or movement.\n",
    "\n",
    "The image below illustrates the result of this part of the code.\n",
    "\n",
    "<img src=\"images/Obstacle_detection.PNG\" width=700 height=500>\n",
    "\n",
    "The code in the cell below is the part of the vision code implementing the obstacle detection."
   ]
  },
  {
   "cell_type": "code",
<<<<<<< Updated upstream
   "execution_count": null,
=======
   "execution_count": 5,
   "id": "8f73143d",
>>>>>>> Stashed changes
   "metadata": {},
   "outputs": [
    {
     "ename": "SyntaxError",
     "evalue": "invalid syntax (3138267086.py, line 1)",
     "output_type": "error",
     "traceback": [
      "\u001b[0;36m  Cell \u001b[0;32mIn[5], line 1\u001b[0;36m\u001b[0m\n\u001b[0;31m    IMAGE of both find graph output and find farthest vector output\u001b[0m\n\u001b[0m          ^\u001b[0m\n\u001b[0;31mSyntaxError\u001b[0m\u001b[0;31m:\u001b[0m invalid syntax\n"
     ]
    }
   ],
   "source": [
    "# Function to find the vector pointing outwards from a corner\n",
    "def find_vector_farthest(corner, corners):    \n",
    "    corners = corners.reshape(-1, 2)\n",
    "\n",
    "    # Find the index of the corner in the list of corners\n",
    "    corner_index = np.where((corners == corner).all(axis=1))[0][0]\n",
    "\n",
    "    # Get the total number of corners\n",
    "    num_corners = len(corners)\n",
    "\n",
    "    # Get the indices of the previous and next corners in a circular manner\n",
    "    prev_corner_index = (corner_index - 1) % num_corners\n",
    "    next_corner_index = (corner_index + 1) % num_corners\n",
    "\n",
    "    # Get the previous and next corners\n",
    "    prev_corner = corners[prev_corner_index]\n",
    "    current_corner = corners[corner_index]\n",
    "    next_corner = corners[next_corner_index]\n",
    "    \n",
    "    # Calculate vectors from the current corner to the previous and next corners\n",
    "    vector_prev = normal(np.float32(current_corner - prev_corner))\n",
    "    vector_next = normal(np.float32(current_corner - next_corner))\n",
    "    vector_farthest = normal(vector_prev + vector_next)\n",
    "\n",
    "    return vector_farthest\n",
    "\n",
    "# Function to return the normal of a vector\n",
    "def normal(v):\n",
    "    length = np.sqrt(v[0]**2+v[1]**2)\n",
    "    v[0] = v[0]/float(length)\n",
    "    v[1] = v[1]/float(length)\n",
    "    return v\n",
    "\n",
    "# Function to find the obstacles and make the visibility graph\n",
    "def find_graph(self):\n",
    "    #Convert the frame to grayscale\n",
    "    gray = cv2.cvtColor(self.frame, cv2.COLOR_BGR2GRAY)\n",
    "    # Apply some preprocessing\n",
    "    gray = cv2.bilateralFilter(gray,5,15,15)\n",
    "    # Apply a binary threshold to identify black pixels\n",
    "    _, binary = cv2.threshold(gray, 60, 255, cv2.THRESH_BINARY)\n",
    "    # Find contours in the binary image along with hierarchy\n",
    "    contours, _ = cv2.findContours(binary, cv2.RETR_TREE, cv2.CHAIN_APPROX_SIMPLE)\n",
    "\n",
    "    # Set contour area thresholds\n",
    "    min_area = 1000\n",
    "    max_area = 100000\n",
    "\n",
    "    # Approximation accuracy\n",
    "    epsilon = 0.025\n",
    "\n",
    "    # Store points and obstacles\n",
    "    points = []\n",
    "    obstacles = []\n",
    "    found_obstacles = False\n",
    "\n",
    "    for contour_i in contours:\n",
    "        contour_area_i = cv2.contourArea(contour_i)\n",
    "\n",
    "        if min_area < contour_area_i < max_area:\n",
    "            found_obstacles = True\n",
    "            # Draw the contours\n",
    "            color = (0, 255, 150)\n",
    "            cv2.drawContours(self.copy, [contour_i], 0, color, 2)\n",
    "\n",
    "            # Find the corners of the contour\n",
    "            corners = cv2.approxPolyDP(contour_i, epsilon * cv2.arcLength(contour_i, True), True)\n",
    "            obstacle_i = []\n",
    "\n",
    "            # Draw circles at each corner\n",
    "            for corner in corners:\n",
    "                # Find the vector pointing outward from the corner\n",
    "                vector_farthest = find_vector_farthest(corner[0], corners)\n",
    "                # Place a point at a distance of 10 cm from the corner using the \n",
    "                # SCALE we have found earlier from the robot\n",
    "                new_point = corner[0] + self.scale * 0.13 * vector_farthest\n",
    "                points.append(new_point)\n",
    "                obstacle_i.append((int(new_point[0]),int(new_point[1])))\n",
    "            if len(obstacle_i) >= 3:\n",
    "                obstacles.append(Polygon(obstacle_i))\n",
    "\n",
    "\n",
    "    # Build the visibility graph for the given points and obstacles\n",
    "    g = vg.VisGraph()\n",
    "\n",
    "    # ..."
   ]
  },
  {
   "cell_type": "markdown",
   "metadata": {},
   "source": [
    "### 3.3. Path Planning\n",
    "The first step is to construct a visibility graph utilising `pyvisgraph` and general graph theory to visualise the corners of obstacles, robot's current position, and the goal. This is built in `find_graph` which goes through *Greyscale and Thresholding*, *Contour Detection and Polygon Approximation* and then *Vector Calculation for Safety Margins*. \n",
    "\n",
    "Once this processing is done, the space between obstacles is checked to ensure enough space for a thymio to travel through. For that, an algorithm checks if each polygon formed from the nodes around an obstacle intersect with other polygons. If two polygons are intersecting, they are combined into a bigger polygon, which the thymio will go around. This is done with the help of functions from the `shapely` library.\n",
    "\n",
    "Finally, the visibility graph is built with the help of the `pyvisgraph` library, by feeding it a list of non-intersecting polygons coordinates. This will determine which all the neighbours of each node and store them in an object.\n",
    "\n",
    "The `find_shortest_path()` function in the Vision class plays a pivotal role in the robot's navigation system. Taking in the above map where there are the integrated outputs from the robot detection, obstacle detection, and goal identification processes to compute the optimal path for the robot to reach its goal using Djikstra's algorithm. \n",
    "\n",
    "Continuing on from the 3.2. `find_graph()` function, the next part implements the polygons intersection detection and visibility graph building."
   ]
  },
  {
   "cell_type": "code",
   "execution_count": null,
   "metadata": {},
   "outputs": [],
   "source": [
    "    # ...\n",
    "\n",
    "    # Build the visibility graph for the given points and obstacles\n",
    "        g = vg.VisGraph()\n",
    "\n",
    "    # Error catching because geometry of obstacles might be bad if a non-obstacle\n",
    "    # is detected\n",
    "    try:\n",
    "        if found_obstacles:\n",
    "            # Combining obstacles if they intersect\n",
    "            exclude_list = []\n",
    "            for i in range(len(obstacles)):\n",
    "                for j in range(i+1, len(obstacles)):\n",
    "                    if obstacles[i].intersects(obstacles[j]):\n",
    "                        exclude_list.append(i)\n",
    "                        obstacles[j] = unary_union([obstacles[i],obstacles[j]])\n",
    "\n",
    "            # Making a new list of non-intersecting polygons to use for graph making\n",
    "            new_obstacles = []\n",
    "            for i, obstacle in enumerate(obstacles):\n",
    "                if i not in exclude_list:\n",
    "                    coords = list(obstacle.exterior.coords)\n",
    "                    new_obstacles.append([vg.Point(coord[0], coord[1]) for coord in coords])\n",
    "\n",
    "            # Draw the points\n",
    "            for point in points:\n",
    "                cv2.circle(self.copy, point.astype(int), 5, (255, 0, 0), -1)\n",
    "            g.build(new_obstacles)\n",
    "    except:\n",
    "        return False, points, g\n",
    "    return found_obstacles, points, g"
   ]
  },
  {
   "attachments": {},
   "cell_type": "markdown",
   "id": "b2c0ade5",
   "metadata": {},
   "source": [
    "### 3.4. Goal Identification\n",
    "The function `find_goal()` is utilised to identify the green marker which is placed at the end objective (as per assumptions). This function operates in the vision class and returns the centroid position of the goal. As part of the Vision class, this method ensures that the goal's location is consistently updated and integrated with the robot's navigation system.\n",
    "\n",
    "Similar to the Robot localisation, this function operates by first applying colour filtering to isolate green (as per assumptions about the goal colour). This mask is then applied to the image and contours are attached to accurately grasp the goal. Following the same process as the Robot Localisation above, centroids are calculated and the end goal of the robot is saved into the vision class, making it accessible for future calculations.\n",
    "\n",
    "Below is an image of the detected goal seen by the vision algorithm\n",
    "\n",
    "<img src=\"images/Goal.PNG\">\n",
    "\n",
    "And below is the code implementing this:"
   ]
  },
  {
   "cell_type": "code",
   "execution_count": null,
   "metadata": {},
   "outputs": [],
   "source": [
    "# Function to find the goal location\n",
    "def find_goal(self):\n",
    "    # Convert the image from BGR to RGB\n",
    "    rgb_image = cv2.cvtColor(self.frame, cv2.COLOR_BGR2RGB)\n",
    "\n",
    "    # Define the lower and upper bounds for the goal color in RGB (assuming green)\n",
    "    lower_green = np.array([75, 120, 105])\n",
    "    upper_green = np.array([95, 140, 125])\n",
    "\n",
    "    # Create a binary mask\n",
    "    green_mask = cv2.inRange(rgb_image, lower_green, upper_green)\n",
    "    # Apply some preprocessing\n",
    "    green_mask = cv2.bilateralFilter(green_mask,5,15,15)\n",
    "    # Find contours\n",
    "    contours, _ = cv2.findContours(green_mask, cv2.RETR_TREE, cv2.CHAIN_APPROX_SIMPLE)\n",
    "\n",
    "    for contour in contours:\n",
    "        if cv2.contourArea(contour) > 100:  # threshold for goal size\n",
    "            # Draw the contours\n",
    "            color = (0, 255, 0)\n",
    "            cv2.drawContours(self.copy, [contour], 0, color, 2)\n",
    "            M = cv2.moments(contour)\n",
    "            if M[\"m00\"] != 0:\n",
    "                cx = int(M[\"m10\"] / M[\"m00\"])\n",
    "                cy = int(M[\"m01\"] / M[\"m00\"])\n",
    "                return True, Goal(cx, cy)\n",
    "\n",
    "    return False, Goal(0, 0)  # Default value if goal not found"
   ]
  },
  {
   "cell_type": "markdown",
   "id": "3d8fd688-367e-418d-989c-f398c229aad7",
   "metadata": {},
   "source": [
    "# 4. Filtering <a class=\"anchor\" id=\"Filtering\"></a> "
   ]
  },
  {
   "cell_type": "markdown",
   "metadata": {},
   "source": [
    "The implementation of a Kalman filter is necessary to obtain smooth performance. It allows our robot to obtain a more precise estimate of its position. Furthermore, if at some point the vision loses the robot (or the robot is hidden), the position estimate will still get updated thanks to the motion model. However, our uncertainty on position will increase until a new camera measurement is given."
   ]
  },
  {
   "cell_type": "markdown",
   "metadata": {},
   "source": [
    "### 4.1 The state space model\n",
    "The model is obtained through wheel odometry and the measurements through the output of the computer vision algorithm.\n",
    "A state space representation of our model can be given as follows:\n",
    "\\begin{equation}\n",
    "        x_t = \\begin{bmatrix}\n",
    "        1&0&0\\\\\n",
    "        0&1&0\\\\\n",
    "        0&0&1\\\\\n",
    "        \\end{bmatrix} x_{t-1} + \\begin{bmatrix}\n",
    "                                \\frac{R}{2}cos(x_{3,t-1})\\Delta t & \\frac{R}{2}cos(x_{3,t-1})\\Delta t\\\\\n",
    "                                \\frac{R}{2}sin(x_{3,t-1})\\Delta t & \\frac{R}{2}sin(x_{3,t-1})\\Delta t\\\\\n",
    "                                -\\frac{R}{d}\\Delta t & \\frac{R}{d}\\Delta t\\\\\n",
    "                                \\end{bmatrix} u\n",
    "\\end{equation}\n",
    "\n",
    "\\begin{equation}\n",
    "        y_t = \\begin{bmatrix}\n",
    "        1&0&0\\\\\n",
    "        0&1&0\\\\\n",
    "        0&0&1\\\\\n",
    "        \\end{bmatrix} x_t\n",
    "\\end{equation}\n",
    "\n",
    "with R the radius of the wheels, d the wheelbase of the thymio and:\n",
    "\n",
    "\\begin{equation}\n",
    "        x_t = \\begin{bmatrix}\n",
    "                x_{1,t}\\\\\n",
    "                x_{2,t}\\\\\n",
    "                x_{3,t}\\\\\n",
    "                \\end{bmatrix} = \\begin{bmatrix}\n",
    "                                x_t\\\\\n",
    "                                y_t\\\\\n",
    "                                \\theta_t\\\\\n",
    "                                \\end{bmatrix} \\text{and } u = \\begin{bmatrix}\n",
    "                                                                \\omega_r\\\\\n",
    "                                                                \\omega_l\\\\\n",
    "                                                                \\end{bmatrix}\n",
    "        \\end{equation}"
   ]
  },
  {
   "cell_type": "markdown",
   "metadata": {},
   "source": [
    "### 4.2 Filter choice and parameters\n",
    "We can see in the model above that our model has no non-linearities ($x_{3,t-1}$ is already known at time $t$ so $cos(x_{3,t-1})$ and $sin(x_{3,t-1})$ are scalars). We can therefore use a linear Kalman filter.\n",
    "\n",
    "We decided to use the KalmanFilter class from the filterpy library."
   ]
  },
  {
   "cell_type": "code",
   "execution_count": null,
   "metadata": {},
   "outputs": [],
   "source": [
    "!pip install filterpy"
   ]
  },
  {
   "cell_type": "markdown",
   "metadata": {},
   "source": [
    "Find below snippets from the filtering.py file:"
   ]
  },
  {
   "cell_type": "code",
   "execution_count": null,
   "metadata": {},
   "outputs": [],
   "source": [
    "from filterpy.kalman import KalmanFilter\n",
    "import numpy as np\n",
    "import cv2\n",
    "import math"
   ]
  },
  {
   "cell_type": "markdown",
   "metadata": {},
   "source": [
    "We start by defining the filter's parameters as follows:"
   ]
  },
  {
   "cell_type": "code",
   "execution_count": null,
   "metadata": {},
   "outputs": [],
   "source": [
    "## General parameters\n",
    "dimension_x = 3 # State dimension\n",
    "dimension_z = 3 # Measurement dimension\n",
    "\n",
    "motor_scale = 43.52 # [Motor_space/(rad/s)] Scale of motor speeds in motor space to rad/s\n",
    "R = 0.021 # [m] The radius of the Thymio's wheels\n",
    "d = 0.095 # [m] The wheelbase of the Thymio\n",
    "dt = 0.137 # [s] Time delta between steps\n",
    "\n",
    "# Creating the filter\n",
    "f = KalmanFilter(dim_x=dimension_x, dim_z=dimension_z) # state and measurement variables are x, y and theta\n",
    "\n",
    "## Filter parameters\n",
    "# State transition matrix\n",
    "f.F = np.eye(3)        \n",
    "# Measurement function\n",
    "f.H = np.eye(3)\n",
    "# Initial covariance matrix\n",
    "f.P = np.eye(3) * 100\n",
    "# Measurement noise\n",
    "camera_variances = [2.13554018e-01, 2.93571267e-01, 6.02748876e-05]\n",
    "f.R = np.diag(camera_variances)\n",
    "# Process noise\n",
    "process_variances = [3.8751605996417765e-01, 3.8751605996417765e-01, 2.9656863710880975e-03]\n",
    "f.Q = np.diag(process_variances)"
   ]
  },
  {
   "cell_type": "markdown",
   "metadata": {},
   "source": [
    "The parameters above were defined as follows:\n",
    "- General parameters:\n",
    "    - R: Radius of the wheels, measured directly on the thymio.\n",
    "\n",
    "    - d: Wheelbase, measured directly on the thymio.\n",
    "\n",
    "    - dt: Average time between two calls, measured by running the code and keeping track of the time \n",
    "    between two calls of the filter.\n",
    "    \n",
    "    - Motor scale: Scale in $[\\text{motor space}\\cdot (\\frac{rad}{s})^{-1}]$ to convert motor velocities to $rad\\cdot s^{-1}$\n",
    "- Filter parameters:\n",
    "    - f.F: State transition matrix, identity matrix as seen in the model in 4.1.\n",
    "\n",
    "    - f.H: Measurement function, identity matrix as seen in the model in 4.1.\n",
    "\n",
    "    - f.P: Initial value of the position estimate covariance matrix. It is set to an arbitrarly large initial value so it converges once the first measurement is given.\n",
    "\n",
    "    - f.R: Covariance matrix of the measurement (output of vision algorithm). This was initially estimated by keeping the robot static and running the vision algorithm. We kept track of the returned position in a table and calculated the variance. The value obtained was later hand-tuned to obtain better results.\n",
    "    \n",
    "    - f.Q: Covariance matrix of the process (wheel odometry). This was initially estimated by having the robot advance with a constant speed command. We recorded the angular velocity of the wheels. We then translated each recorded angular velocity to a linear velocity in $x$, then multiplied by dt to get the change in $x$ over a constant dt. The variance of this change gives us the variance along $x$. We then assumed $\\text{Var}(x)=\\text{Var}(y)$. Finally, the variance along $\\theta$ was calculated similarly, by having the robot rotate at a constant rate. The obtained values were then hand-tuned to obtain better results."
   ]
  },
  {
   "cell_type": "markdown",
   "metadata": {},
   "source": [
    "### 4.3 Running the filter\n",
    "We can now present the `run_filter()` function. This function is called every time we want to run one iteration of the filter and obtain a position estimate. "
   ]
  },
  {
   "cell_type": "code",
   "execution_count": null,
   "metadata": {},
   "outputs": [],
   "source": [
    "def run_filter(speed_right, speed_left, prev_angle, vis):\n",
    "    global f\n",
    "\n",
    "    camera_scale = vis.scale # [camera_coordinates/m]\n",
    "    # Converting the motors to rad/s\n",
    "    speed_right = speed_right / motor_scale\n",
    "    speed_left = speed_left / motor_scale\n",
    "    \n",
    "    # Defining control input and control transition matrix\n",
    "    u = np.array([[speed_right],\n",
    "                  [speed_left]])\n",
    "    B = np.array([[np.cos(prev_angle)*(dt/2), np.cos(prev_angle)*(dt/2)],\n",
    "                    [np.sin(prev_angle)*(dt/2), np.sin(prev_angle)*(dt/2)],\n",
    "                    [(-dt/d), (dt/d)]]) * R\n",
    "    \n",
    "    # Getting camera measurements and conveting to [m]\n",
    "    measurement = np.array([vis.robot.x/camera_scale,vis.robot.y/camera_scale,-vis.robot.angle])\n",
    "    \n",
    "    # Predict step of kalman filter with control input\n",
    "    f.predict(u = u, B = B)\n",
    "    # Only update if we have new camera measurements\n",
    "    if vis.found_robot:\n",
    "        f.update(measurement)\n",
    "\n",
    "    # Defining the estimate in camera coordinates\n",
    "    estimate = np.array([f.x[0,0] * camera_scale, f.x[1,0] * camera_scale, f.x[2,0]])\n",
    "\n",
    "    # Plotting an ellipse to show evolution of uncertainty along x and y\n",
    "    cv2.ellipse(vis.copy, (int(estimate[0]), int(estimate[1])), (int(200 * f.P[0,0]), int(200 * f.P[1,1])), math.degrees(f.x[2,0]),0,360,(255,0,0),3)\n",
    "    # Plotting a line to show the angle estimate\n",
    "    cv2.line(vis.copy, (int(estimate[0]), int(estimate[1])), (int(estimate[0] + 100*np.cos(estimate[2])), int(estimate[1] + 100*np.sin(estimate[2]))), (255,0,0), 3)\n",
    "    \n",
    "    return estimate # Return the kalman filtered state"
   ]
  },
  {
   "cell_type": "markdown",
   "metadata": {},
   "source": [
    "The function performs calulcations in SI units so the first step is to convert `speed_right` and `speed_left` (the motor angular velocities) from motor space to SI using `motor_scale`. We can then initialize the control input `u` and control transition matrix `B` based on the motor angular velocities and the angle `prev_angle` obtained from the previous iteration of the filter. Afterwards we divide the $x$ and $y$ measurements by `camera_scale` to convert them from the camera's units to meters. The $\\theta$ measurement doesn't need to be scaled as the vision algorithm returns it in radians.\n",
    "\n",
    "We are now ready to run the predict step of the kalman filter using the `predict()` function from the `KalmanFilter` class. This function has optional arguments `u` and `B`, depending on whether the used model has a control input. Once the filter is done predicting, we use `vis.found_robot` to check if the vision algorithm has found the robot. If it has not, then we do not run the update step and will return the a priori position estimates, we also expect the covariance matrix `f.P` to grow. However, if the vision algorithm has seen the robot then we update the estimate with the measurements from the camera and return the a posteriori estimates.\n",
    "\n",
    "Before returning the position estimates we reconvert them to the camera coordinate space using `camera_scale` (once again, we do not need to convert the $\\theta$ estimate). The rest of the function plots a line representing the estimate of $\\theta$ and an ellipse representing the variance along $x$ and $y$. Note that the variances were scaled by a value of 200 to obtain a visible ellipse. The goal of this ellipse is simply to visualize the evolution in the variances as the filter runs."
   ]
  },
  {
   "cell_type": "markdown",
   "id": "cbebe13c-e5e8-407f-a02d-c6dc173859a3",
   "metadata": {},
   "source": [
    "# 5. General motion"
   ]
  },
  {
   "cell_type": "markdown",
   "id": "76775246-9d5b-4d0e-bed2-20bef47f761d",
   "metadata": {},
   "source": [
    "When the program has been able to calculate the path the robot must take, it has a list of coordinates in memory, which are the positions the robot must pass through to reach the goal.\n",
    "\n",
    "Here we describe how the robot follows the trajectory from one point to another, without kidnapping and without unexpected obstacles in its path.\n",
    "\n",
    "Each time the robot passes through the loop, after the vision has been updated (and the robot's position and angle measured), the Kalmann filter is used to update the robot's position estimate.\n",
    "\n",
    "We then check whether the robot's estimated position is approximately equal to its current target (the current node in the list containing the planned path), using the `close_coordinates(x, y, w, z)` function. This function compares two positions and returns True if they are approximately equal. If this is the case, the robot changes its objective, which becomes the next node in the list of nodes to visit.\n",
    "\n",
    "Next, the program checks whether the robot's estimated angle is approximately equal to the angle between its current position and its target (computed using the function `compute_movement(current_pos, obj)` ). If the difference is too great, the robot rotates until it is aligned. It then runs in a straight line.\n",
    "The code below is the implementation of what is described above."
   ]
  },
  {
   "cell_type": "code",
   "execution_count": null,
   "id": "fea890a2-c744-4851-b6ed-c94fff0d17c2",
   "metadata": {},
   "outputs": [],
   "source": [
    "while state == 1: # Drive towards goal state\n",
    "        print(state)\n",
    "        while time.time()-last_image_time < dt: # Aquire a new image every dt seconds\n",
    "            continue\n",
    "        vis.show()\n",
    "        vis.update()\n",
    "        \n",
    "        await client.sleep(0.01)\n",
    "        await node.wait_for_variables()\n",
    "\n",
    "    \n",
    "    ##REST OF STATE 1\n",
    "\n",
    "    \n",
    "         # Setting up and running the Kalman Filter\n",
    "        speed_left = node.v.motor.left.speed\n",
    "        speed_right = node.v.motor.right.speed\n",
    "        prev_angle = rob_pos[2]\n",
    "        #rob_pos = filtering.run_filter(speed_right, speed_left, prev_angle, vis,R,d,time.time()-last_image_time)\n",
    "        rob_pos = [vis.robot.x, vis.robot.y, -vis.robot.angle]\n",
    "        # Checking if we arrived at the next node\n",
    "        arrived_node = motion_functions.close_coordinates(rob_pos[0], rob_pos[1], path[target_node][0], path[target_node][1])\n",
    "        print(\"target node\",target_node)\n",
    "        if (arrived_node):\n",
    "            if (target_node) < len(path)-1:\n",
    "                target_node += 1\n",
    "            else:\n",
    "                print(\"ARRIVED\")\n",
    "                await motion_functions.stop(node)\n",
    "                goal_reached = True\n",
    "                break # Exiting the first while loop\n",
    "        \n",
    "        # Rotating and driving towards the next node\n",
    "        if rotation_done:\n",
    "            angle = motion_functions.compute_movement([rob_pos[0], rob_pos[1]], [path[target_node][0], path[target_node][1]], rob_pos[2])\n",
    "            if abs(angle - rob_pos[2]) > 0.2:\n",
    "                rotation_done = 0\n",
    "                await motion_functions.rotate(angle-rob_pos[2], node)\n",
    "            \n",
    "        if  angle + 0.2 > rob_pos[2] and angle - 0.2 < rob_pos[2]:\n",
    "            rotation_done = 1\n",
    "            await motion_functions.drive(node)\n",
    "            \n",
    "    ## REST OF STATE 1"
   ]
  },
  {
   "cell_type": "markdown",
   "id": "6d0383bf-ebc6-4f6b-8b27-6589b2696083",
   "metadata": {},
   "source": [
    "# 6. Local avoidance <a class=\"anchor\" id=\"Local_avoidance\"></a>"
   ]
  },
  {
   "cell_type": "markdown",
   "id": "c99aca8a-0b54-42f7-9281-adba969a574d",
   "metadata": {},
   "source": [
    "### Requirements on the obstacles for local avoidance\n",
    "For local avoidance to work, obstacles must have the following characteristics: \n",
    "- The obstacles must be black:\n",
    "  - because path planning can only be carried out with black obstacles. If the obstacle placed is not black, the robot will detect it and move backwards, but when it recalculates its path, it will not take the new obstacle into account.\n",
    "- Measure more than 5 cm in height:\n",
    "   - otherwise the obstacle cannot be detected by the proximity sensors.\n",
    "\n",
    "### Local avoidance implementation\n",
    "Local avoidance is implemented as follows: \n",
    "If, during the program run, while the robot is moving towards its goal (in state 1), the value read by one of the horizontal proximity sensors is greater than a defined constant (THRESHOLD_OBSTACLE), a boolean variable obstacle_detected is set to True. The constant threshold obstacle has been set to 100 empirically. The function that updates this boolean is `get_sensors(node)`. When an obstacle is detected, the robot changes state to state 4.  \n",
    "The following cell contains the function get_sensors(node). This function is the same function that is used to identify whether or not the robot has been kidnapped.\n"
   ]
  },
  {
   "cell_type": "code",
   "execution_count": null,
   "id": "1c592219-cbfa-44b4-8822-79f8242e9910",
   "metadata": {},
   "outputs": [],
   "source": [
    "def get_sensors(node):\n",
    "    prox_values = node[\"prox.horizontal\"][:5]\n",
    "\n",
    "    obstacle_detected = any(value > SEUIL_OBSTACLE for value in prox_values)\n",
    "    \n",
    "    ground_values = node[\"prox.ground.reflected\"]\n",
    "    \n",
    "    if ground_values[0] < SEUIL_KIDNAPPED or ground_values[1] < SEUIL_KIDNAPPED:\n",
    "        kidnapped = True \n",
    "    else:\n",
    "        kidnapped = False\n",
    "    return kidnapped, obstacle_detected"
   ]
  },
  {
   "cell_type": "markdown",
   "id": "921e196b-eb03-449f-bbd0-40a33de34f18",
   "metadata": {},
   "source": [
    "The following cell contains the portion of the code that changes the state to state 4"
   ]
  },
  {
   "cell_type": "code",
   "execution_count": null,
   "id": "52cf1f8f-77f8-4519-bb1d-f22363e174dc",
   "metadata": {},
   "outputs": [],
   "source": [
    "while state == 1: # Drive towards goal state\n",
    "        print(state)\n",
    "        while time.time()-last_image_time < dt: # Acquire a new image every dt seconds\n",
    "            continue\n",
    "        vis.show()\n",
    "        vis.update()\n",
    "        \n",
    "        await client.sleep(0.01)\n",
    "        await node.wait_for_variables()\n",
    "        \n",
    "        # Get proximity sensors' values\n",
    "        kidnapped, obstacle_detected = motion_functions.get_sensors(node)\n",
    "        # Checking for unforseen obstacle\n",
    "        if obstacle_detected:\n",
    "            await motion_functions.stop(node)\n",
    "            state = 4\n",
    "            break"
   ]
  },
  {
   "cell_type": "markdown",
   "id": "dec03b5d-74cb-4d68-8b46-9701dc36e358",
   "metadata": {},
   "source": [
    "As long as the robot is in state 4, the robot moves backwards in a straight line, until the proximity sensors no longer detect an obstacle.\n",
    "When the robot has moved back far enough, to the point where it no longer detects an obstacle, it changes state and returns to state 0. In this way, it recalculates its new path, taking into account the newly added obstacle. The program then returns to its general behavior.\n",
    "The following cell contains the state 4 of the robot :"
   ]
  },
  {
   "cell_type": "code",
   "execution_count": null,
   "id": "b120b997-0fca-47dd-8892-c17979ff1180",
   "metadata": {},
   "outputs": [],
   "source": [
    "while state == 4: # Local avoidance state\n",
    "        vis.shortest_path = [] # Deleting the previous path to make sure a new one is computed\n",
    "        \n",
    "        while obstacle_detected:\n",
    "            while time.time()-last_image_time < dt: # Acquire a new image every dt seconds\n",
    "                continue\n",
    "            vis.show()\n",
    "            vis.update()\n",
    "            \n",
    "            await client.sleep(0.01)\n",
    "            await node.wait_for_variables()\n",
    "            kidnapped, obstacle_detected = motion_functions.get_sensors(node)\n",
    "            await motion_functions.drive_back(node)\n",
    "            if cv2.waitKey(1) & 0xFF == ord('q'):\n",
    "                break\n",
    "\n",
    "        await motion_functions.stop(node)\n",
    "        state = 0"
   ]
  },
  {
   "cell_type": "markdown",
   "id": "3359c8ce-5118-45db-b2af-e0681641fdb4",
   "metadata": {},
   "source": [
<<<<<<< Updated upstream
    "Below is a video that illustrates local avoidance\n",
=======
    "The cell below contains a video that illustrates local avoidance"
   ]
  },
  {
   "cell_type": "code",
   "execution_count": null,
   "id": "52446062-ac2f-4e9d-9716-47cefa358123",
   "metadata": {},
   "outputs": [],
   "source": [
>>>>>>> Stashed changes
    "\n",
    "<video width=\"640\" height=\"480\" controls>\n",
    "  <source src=\"videos/local_avoidance.mp4\" type=\"video/mp4\">\n",
    "  Error, can't play video\n",
    "</video>"
   ]
  },
  {
   "cell_type": "markdown",
   "id": "515e08c1-f790-4366-a765-0f3f02e71d9c",
   "metadata": {},
   "source": [
    "# 7. Kidnapping <a class=\"anchor\" id=\"Kidnapping\"></a>"
   ]
  },
  {
   "cell_type": "markdown",
   "id": "8ad44ad7-09e9-484c-b1a0-f9ee15c755c8",
   "metadata": {},
   "source": [
    "Kidnapping is detected in a similar way to local avoidance. When the program is in state 1 (i.e. the robot is heading towards its goal), if the robot is abducted, the two sensors facing the ground determine whether the robot has been kidnapped. The function that handles this is `get_sensors(node)`. The sensors will return a small value, close to zero. If the value returned by the sensors is smaller than a defined threshold (SEUIL_KIDNAPPED), then the kidnapped Boolean variable is set to TRUE. In the state 1, if kidnapped is True, the motors stop turning, and the state is changed to state 3. The cell below shows the portion of code in state 1 changing the state to state 3 if the robot has been kidnapped."
   ]
  },
  {
   "cell_type": "code",
   "execution_count": null,
   "id": "3644c310-16b3-4e8c-88dc-e6a6f2f061e2",
   "metadata": {},
   "outputs": [],
   "source": [
    "while state == 1: # Drive towards goal state\n",
    "        print(state)\n",
    "        while time.time()-last_image_time < dt: # Aquire a new image every dt seconds\n",
    "            continue\n",
    "        vis.show()\n",
    "        vis.update()\n",
    "\n",
    "#PORTION OF CODE...\n",
    "\n",
    "# Checking for kidnapping\n",
    "        if kidnapped:\n",
    "            state = 3 # Kidnapped state\n",
    "            vis.shortest_path = [] # Deleting the previous path to make sure a new one is computed\n",
    "            await motion_functions.stop(node)\n",
    "            break\n",
    "            \n",
    "#REST OF STATE 1"
   ]
  },
  {
   "cell_type": "markdown",
   "id": "dc4f7bc1-8c18-4cbf-973f-682ada8cd082",
   "metadata": {},
   "source": [
    "While the robot is in state 3, the motors do not move and the values of its ground proximity sensors are read periodically using the function `get_sensors(node)`, so that if the sensors detect the ground again, the robot is returned to state 0. It will then recalculate its path and the program will resume normal operation."
   ]
  },
  {
   "cell_type": "code",
   "execution_count": null,
   "id": "f17b187e-7981-4f03-80dc-6f9c08cb3163",
   "metadata": {},
   "outputs": [],
   "source": [
    "while state == 3: # State in case of kidnapping\n",
    "        while time.time()-last_image_time < dt: # Aquire a new image every dt seconds\n",
    "            continue\n",
    "        vis.show()\n",
    "        vis.update()\n",
    "        \n",
    "        await client.sleep(0.01)\n",
    "        await node.wait_for_variables()\n",
    "        kidnapped, obstacle_detected = motion_functions.get_sensors(node)\n",
    "        \n",
    "        if not kidnapped:\n",
    "            state = 0\n",
    "            rotation_done = 1\n",
    "        \n",
    "        last_image_time = time.time()\n",
    "        if cv2.waitKey(1) & 0xFF == ord('q'):\n",
    "            break"
   ]
  },
  {
   "cell_type": "markdown",
   "id": "8633c34e-3c1e-4f7c-bb93-78489cf83f1c",
   "metadata": {},
   "source": [
<<<<<<< Updated upstream
    "The following is a video that illustrates kidnapping behavior\n",
    "\n",
=======
    "The following cell contains a video that illustrates kidnapping behavior"
   ]
  },
  {
   "cell_type": "code",
   "execution_count": null,
   "id": "b5cc1c47-a31d-4479-93bb-2d6478f28cdb",
   "metadata": {},
   "outputs": [],
   "source": [
    "HTML(f\"\"\"\n",
>>>>>>> Stashed changes
    "<video width=\"640\" height=\"480\" controls>\n",
    "  <source src=\"videos/kidnapping.mp4\" type=\"video/mp4\">\n",
    "  Error, can't play video\n",
    "</video>"
   ]
  },
  {
   "cell_type": "markdown",
   "id": "1c8a5190-421d-40aa-98b9-3d1580c792ea",
   "metadata": {},
   "source": [
    "# 8. Conclusion <a class=\"anchor\" id=\"Conclusion\"></a>"
   ]
  },
  {
   "cell_type": "code",
   "execution_count": null,
   "id": "008b9718-6715-4366-b6fc-813781588c2e",
   "metadata": {},
   "outputs": [],
   "source": []
  }
 ],
 "metadata": {
  "kernelspec": {
   "display_name": "Python 3 (ipykernel)",
   "language": "python",
   "name": "python3"
  },
  "language_info": {
   "codemirror_mode": {
    "name": "ipython",
    "version": 3
   },
   "file_extension": ".py",
   "mimetype": "text/x-python",
   "name": "python",
   "nbconvert_exporter": "python",
   "pygments_lexer": "ipython3",
   "version": "3.9.18"
  }
 },
 "nbformat": 4,
 "nbformat_minor": 5
}
